{
 "cells": [
  {
   "cell_type": "markdown",
   "id": "4e559c5f",
   "metadata": {},
   "source": [
    "## Creating External tables"
   ]
  },
  {
   "cell_type": "code",
   "execution_count": 1,
   "id": "315c6491",
   "metadata": {},
   "outputs": [],
   "source": [
    "from pyspark.sql import SparkSession\n",
    "import getpass \n",
    "username=getpass.getuser()\n",
    "spark=SparkSession. \\\n",
    "    builder. \\\n",
    "    config('spark.ui.port','0'). \\\n",
    "    config(\"spark.sql.warehouse.dir\", f\"/user/{username}/warehouse\"). \\\n",
    "    config('spark.shuffle.useOldFetchProtocol', 'true'). \\\n",
    "    enableHiveSupport(). \\\n",
    "    master('yarn'). \\\n",
    "    getOrCreate()"
   ]
  },
  {
   "cell_type": "code",
   "execution_count": 2,
   "id": "75b32890",
   "metadata": {},
   "outputs": [],
   "source": [
    "customers_df = spark.read \\\n",
    ".format(\"parquet\") \\\n",
    ".load(\"/public/trendytech/lendingclubproject/cleaned/customers_parquet\")"
   ]
  },
  {
   "cell_type": "code",
   "execution_count": 4,
   "id": "ab7cadbd",
   "metadata": {},
   "outputs": [
    {
     "data": {
      "text/html": [
       "<table border='1'>\n",
       "<tr><th></th></tr>\n",
       "</table>\n"
      ],
      "text/plain": [
       "++\n",
       "||\n",
       "++\n",
       "++"
      ]
     },
     "execution_count": 4,
     "metadata": {},
     "output_type": "execute_result"
    }
   ],
   "source": [
    "# creating new database \n",
    "spark.sql(\"create database itv017499_lending_club\")"
   ]
  },
  {
   "cell_type": "markdown",
   "id": "abe0af73",
   "metadata": {},
   "source": [
    "### cusotmers table"
   ]
  },
  {
   "cell_type": "code",
   "execution_count": 6,
   "id": "e66bd3e2",
   "metadata": {},
   "outputs": [
    {
     "data": {
      "text/html": [
       "<table border='1'>\n",
       "<tr><th></th></tr>\n",
       "</table>\n"
      ],
      "text/plain": [
       "++\n",
       "||\n",
       "++\n",
       "++"
      ]
     },
     "execution_count": 6,
     "metadata": {},
     "output_type": "execute_result"
    }
   ],
   "source": [
    "# create cusotmers table\n",
    "spark.sql(\"\"\"\n",
    "    CREATE EXTERNAL TABLE itv017499_lending_club.customers (\n",
    "        member_id STRING, \n",
    "        emp_title STRING, \n",
    "        emp_length INT, \n",
    "        home_ownership STRING, \n",
    "        annual_income FLOAT, \n",
    "        address_state STRING, \n",
    "        address_zipcode STRING, \n",
    "        address_country STRING, \n",
    "        grade STRING, \n",
    "        sub_grade STRING, \n",
    "        verification_status STRING, \n",
    "        total_high_credit_limit FLOAT, \n",
    "        application_type STRING, \n",
    "        join_annual_income FLOAT, \n",
    "        verification_status_joint STRING, \n",
    "        ingest_date TIMESTAMP\n",
    "    )\n",
    "    STORED AS PARQUET \n",
    "    LOCATION '/public/trendytech/lendingclubproject/cleaned/customers_parquet'\n",
    "\"\"\")\n"
   ]
  },
  {
   "cell_type": "code",
   "execution_count": 17,
   "id": "e9f75a2e",
   "metadata": {},
   "outputs": [
    {
     "data": {
      "text/html": [
       "<table border='1'>\n",
       "<tr><th>member_id</th><th>emp_title</th><th>emp_length</th><th>home_ownership</th><th>annual_income</th><th>address_state</th><th>address_zipcode</th><th>address_country</th><th>grade</th><th>sub_grade</th><th>verification_status</th><th>total_high_credit_limit</th><th>application_type</th><th>join_annual_income</th><th>verification_status_joint</th><th>ingest_date</th></tr>\n",
       "<tr><td>de8d40bb549f3e676...</td><td>Slot Club Lead</td><td>10</td><td>RENT</td><td>42000.0</td><td>CO</td><td>800xx</td><td>USA</td><td>A</td><td>A5</td><td>Source Verified</td><td>19200.0</td><td>Individual</td><td>null</td><td>null</td><td>2023-09-15 17:18:...</td></tr>\n",
       "<tr><td>cb2bfe6ba8d8040ea...</td><td>Development Manager</td><td>1</td><td>MORTGAGE</td><td>120000.0</td><td>NJ</td><td>080xx</td><td>USA</td><td>B</td><td>B2</td><td>Verified</td><td>521247.0</td><td>Individual</td><td>null</td><td>null</td><td>2023-09-15 17:18:...</td></tr>\n",
       "<tr><td>fd6cd0f257e376951...</td><td>Chef/Baker</td><td>5</td><td>RENT</td><td>25000.0</td><td>GA</td><td>310xx</td><td>USA</td><td>E</td><td>E2</td><td>Source Verified</td><td>18200.0</td><td>Individual</td><td>null</td><td>null</td><td>2023-09-15 17:18:...</td></tr>\n",
       "<tr><td>46a7d1486ffcd4024...</td><td>Service Manager</td><td>3</td><td>MORTGAGE</td><td>122000.0</td><td>NY</td><td>113xx</td><td>USA</td><td>C</td><td>C3</td><td>Verified</td><td>232468.0</td><td>Individual</td><td>null</td><td>null</td><td>2023-09-15 17:18:...</td></tr>\n",
       "<tr><td>ec70891c26a58aad8...</td><td>Maintenance Manager</td><td>1</td><td>RENT</td><td>35000.0</td><td>CO</td><td>804xx</td><td>USA</td><td>C</td><td>C1</td><td>Verified</td><td>16200.0</td><td>Individual</td><td>null</td><td>null</td><td>2023-09-15 17:18:...</td></tr>\n",
       "</table>\n"
      ],
      "text/plain": [
       "+--------------------+------------------+----------+--------------+-------------+-------------+---------------+---------------+-----+---------+-------------------+-----------------------+----------------+------------------+-------------------------+--------------------+\n",
       "|           member_id|         emp_title|emp_length|home_ownership|annual_income|address_state|address_zipcode|address_country|grade|sub_grade|verification_status|total_high_credit_limit|application_type|join_annual_income|verification_status_joint|         ingest_date|\n",
       "+--------------------+------------------+----------+--------------+-------------+-------------+---------------+---------------+-----+---------+-------------------+-----------------------+----------------+------------------+-------------------------+--------------------+\n",
       "|45c47c49ef9346a50...|area sales manager|         5|      MORTGAGE|      48000.0|           NY|          131xx|            USA|    C|       C2|    Source Verified|               221587.0|       Joint App|           90000.0|          Source Verified|2023-09-15 17:18:...|\n",
       "|ae8702f966762bdde...|           Manager|         7|      MORTGAGE|     105000.0|           NJ|          087xx|            USA|    C|       C3|    Source Verified|                51300.0|      Individual|              null|                     null|2023-09-15 17:18:...|\n",
       "|bfdd1a23cef47a143...|         Admitting|         9|      MORTGAGE|      70000.0|           OR|          970xx|            USA|    B|       B2|    Source Verified|               331700.0|      Individual|              null|                     null|2023-09-15 17:18:...|\n",
       "|449c9106149e63f46...| technical Support|         9|          RENT|      39000.0|           FL|          337xx|            USA|    D|       D5|       Not Verified|                24700.0|      Individual|              null|                     null|2023-09-15 17:18:...|\n",
       "|ed2036be1311f9c09...|    Branch Manager|         3|          RENT|      65000.0|           CA|          926xx|            USA|    C|       C5|       Not Verified|                28826.0|      Individual|              null|                     null|2023-09-15 17:18:...|\n",
       "+--------------------+------------------+----------+--------------+-------------+-------------+---------------+---------------+-----+---------+-------------------+-----------------------+----------------+------------------+-------------------------+--------------------+"
      ]
     },
     "execution_count": 17,
     "metadata": {},
     "output_type": "execute_result"
    }
   ],
   "source": [
    "# top 5 rows\n",
    "spark.sql(\"select * from itv017499_lending_club.customers limit 5\")"
   ]
  },
  {
   "cell_type": "markdown",
   "id": "f402a118",
   "metadata": {},
   "source": [
    "### loans table"
   ]
  },
  {
   "cell_type": "code",
   "execution_count": 8,
   "id": "8fbee529",
   "metadata": {},
   "outputs": [
    {
     "data": {
      "text/html": [
       "<table border='1'>\n",
       "<tr><th></th></tr>\n",
       "</table>\n"
      ],
      "text/plain": [
       "++\n",
       "||\n",
       "++\n",
       "++"
      ]
     },
     "execution_count": 8,
     "metadata": {},
     "output_type": "execute_result"
    }
   ],
   "source": [
    "# creating loans table\n",
    "spark.sql(\"\"\"\n",
    "    CREATE EXTERNAL TABLE itv017499_lending_club.loans (\n",
    "        loan_id STRING, \n",
    "        member_id STRING, \n",
    "        loan_amount FLOAT, \n",
    "        funded_amount FLOAT, \n",
    "        loan_term_years INTEGER, \n",
    "        interest_rate FLOAT, \n",
    "        monthly_installment FLOAT, \n",
    "        issue_date STRING, \n",
    "        loan_status STRING, \n",
    "        loan_purpose STRING, \n",
    "        loan_title STRING, \n",
    "        ingest_date TIMESTAMP\n",
    "    )\n",
    "    STORED AS PARQUET \n",
    "    LOCATION '/public/trendytech/lendingclubproject/cleaned/loans_parquet'\n",
    "\"\"\")\n"
   ]
  },
  {
   "cell_type": "code",
   "execution_count": 18,
   "id": "29b74bb3",
   "metadata": {},
   "outputs": [
    {
     "data": {
      "text/html": [
       "<table border='1'>\n",
       "<tr><th>loan_id</th><th>member_id</th><th>loan_amount</th><th>funded_amount</th><th>loan_term_years</th><th>interest_rate</th><th>monthly_installment</th><th>issue_date</th><th>loan_status</th><th>loan_purpose</th><th>loan_title</th><th>ingest_date</th></tr>\n",
       "<tr><td>56633077</td><td>b59d80da191f5b573...</td><td>3000.0</td><td>3000.0</td><td>3</td><td>7.89</td><td>93.86</td><td>Aug-2015</td><td>Fully Paid</td><td>credit_card</td><td>Credit card refin...</td><td>2023-09-18 18:39:...</td></tr>\n",
       "<tr><td>55927518</td><td>202d9f56ecb7c3bc9...</td><td>15600.0</td><td>15600.0</td><td>3</td><td>7.89</td><td>488.06</td><td>Aug-2015</td><td>Fully Paid</td><td>credit_card</td><td>Credit card refin...</td><td>2023-09-18 18:39:...</td></tr>\n",
       "<tr><td>56473345</td><td>e5a140c0922b554b9...</td><td>20000.0</td><td>20000.0</td><td>3</td><td>9.17</td><td>637.58</td><td>Aug-2015</td><td>Fully Paid</td><td>debt_consolidation</td><td>Debt consolidation</td><td>2023-09-18 18:39:...</td></tr>\n",
       "<tr><td>56463188</td><td>e12aefc548f750777...</td><td>11200.0</td><td>11200.0</td><td>5</td><td>21.99</td><td>309.27</td><td>Aug-2015</td><td>Fully Paid</td><td>home_improvement</td><td>Home improvement</td><td>2023-09-18 18:39:...</td></tr>\n",
       "<tr><td>56473316</td><td>1b3a50d854fbbf97e...</td><td>16000.0</td><td>16000.0</td><td>5</td><td>20.99</td><td>432.77</td><td>Aug-2015</td><td>Charged Off</td><td>debt_consolidation</td><td>Debt consolidation</td><td>2023-09-18 18:39:...</td></tr>\n",
       "</table>\n"
      ],
      "text/plain": [
       "+--------+--------------------+-----------+-------------+---------------+-------------+-------------------+----------+-----------+------------------+--------------------+--------------------+\n",
       "| loan_id|           member_id|loan_amount|funded_amount|loan_term_years|interest_rate|monthly_installment|issue_date|loan_status|      loan_purpose|          loan_title|         ingest_date|\n",
       "+--------+--------------------+-----------+-------------+---------------+-------------+-------------------+----------+-----------+------------------+--------------------+--------------------+\n",
       "|56633077|b59d80da191f5b573...|     3000.0|       3000.0|              3|         7.89|              93.86|  Aug-2015| Fully Paid|       credit_card|Credit card refin...|2023-09-18 18:39:...|\n",
       "|55927518|202d9f56ecb7c3bc9...|    15600.0|      15600.0|              3|         7.89|             488.06|  Aug-2015| Fully Paid|       credit_card|Credit card refin...|2023-09-18 18:39:...|\n",
       "|56473345|e5a140c0922b554b9...|    20000.0|      20000.0|              3|         9.17|             637.58|  Aug-2015| Fully Paid|debt_consolidation|  Debt consolidation|2023-09-18 18:39:...|\n",
       "|56463188|e12aefc548f750777...|    11200.0|      11200.0|              5|        21.99|             309.27|  Aug-2015| Fully Paid|  home_improvement|    Home improvement|2023-09-18 18:39:...|\n",
       "|56473316|1b3a50d854fbbf97e...|    16000.0|      16000.0|              5|        20.99|             432.77|  Aug-2015|Charged Off|debt_consolidation|  Debt consolidation|2023-09-18 18:39:...|\n",
       "+--------+--------------------+-----------+-------------+---------------+-------------+-------------------+----------+-----------+------------------+--------------------+--------------------+"
      ]
     },
     "execution_count": 18,
     "metadata": {},
     "output_type": "execute_result"
    }
   ],
   "source": [
    "# top 5 rows\n",
    "spark.sql(\"select * from itv017499_lending_club.loans limit 5\")"
   ]
  },
  {
   "cell_type": "markdown",
   "id": "3d815baf",
   "metadata": {},
   "source": [
    "### loans repayments table"
   ]
  },
  {
   "cell_type": "code",
   "execution_count": 10,
   "id": "79e05230",
   "metadata": {},
   "outputs": [
    {
     "data": {
      "text/html": [
       "<table border='1'>\n",
       "<tr><th></th></tr>\n",
       "</table>\n"
      ],
      "text/plain": [
       "++\n",
       "||\n",
       "++\n",
       "++"
      ]
     },
     "execution_count": 10,
     "metadata": {},
     "output_type": "execute_result"
    }
   ],
   "source": [
    "# creating loans_repayments table\n",
    "spark.sql(\"\"\"\n",
    "    CREATE EXTERNAL TABLE itv017499_lending_club.loans_repayments (\n",
    "        loan_id STRING, \n",
    "        total_principal_received FLOAT, \n",
    "        total_interest_received FLOAT, \n",
    "        total_late_fee_received FLOAT, \n",
    "        total_payment_received FLOAT, \n",
    "        last_payment_amount FLOAT, \n",
    "        last_payment_date STRING, \n",
    "        next_payment_date STRING, \n",
    "        ingest_date TIMESTAMP\n",
    "    )\n",
    "    STORED AS PARQUET \n",
    "    LOCATION '/public/trendytech/lendingclubproject/cleaned/loans_repayments_parquet'\n",
    "\"\"\")"
   ]
  },
  {
   "cell_type": "code",
   "execution_count": 19,
   "id": "4406ba94",
   "metadata": {},
   "outputs": [
    {
     "data": {
      "text/html": [
       "<table border='1'>\n",
       "<tr><th>loan_id</th><th>total_principal_received</th><th>total_interest_received</th><th>total_late_fee_received</th><th>total_payment_received</th><th>last_payment_amount</th><th>last_payment_date</th><th>next_payment_date</th><th>ingest_date</th></tr>\n",
       "<tr><td>28674390</td><td>7884.28</td><td>5178.41</td><td>0.0</td><td>14329.62</td><td>482.23</td><td>Nov-2016</td><td>null</td><td>2023-09-19 05:25:...</td></tr>\n",
       "<tr><td>28563513</td><td>9000.0</td><td>955.61</td><td>0.0</td><td>9955.61</td><td>6420.29</td><td>Nov-2015</td><td>null</td><td>2023-09-19 05:25:...</td></tr>\n",
       "<tr><td>28694706</td><td>22125.0</td><td>751.39</td><td>0.0</td><td>22876.39</td><td>22073.85</td><td>Dec-2014</td><td>null</td><td>2023-09-19 05:25:...</td></tr>\n",
       "<tr><td>28722876</td><td>3196.23</td><td>1259.77</td><td>0.0</td><td>4639.79</td><td>178.24</td><td>Nov-2016</td><td>null</td><td>2023-09-19 05:25:...</td></tr>\n",
       "<tr><td>28644402</td><td>26400.0</td><td>2150.7</td><td>0.0</td><td>28550.7</td><td>19292.99</td><td>Oct-2015</td><td>null</td><td>2023-09-19 05:25:...</td></tr>\n",
       "</table>\n"
      ],
      "text/plain": [
       "+---------+------------------------+-----------------------+-----------------------+----------------------+-------------------+-----------------+-----------------+--------------------+\n",
       "|  loan_id|total_principal_received|total_interest_received|total_late_fee_received|total_payment_received|last_payment_amount|last_payment_date|next_payment_date|         ingest_date|\n",
       "+---------+------------------------+-----------------------+-----------------------+----------------------+-------------------+-----------------+-----------------+--------------------+\n",
       "|141581221|                 1055.81|                 2591.7|                    0.0|               3647.51|             709.23|         Mar-2019|         Apr-2019|2023-09-19 05:25:...|\n",
       "|141506948|                 1252.75|                 306.04|                    0.0|               1558.79|             312.63|         Mar-2019|         Apr-2019|2023-09-19 05:25:...|\n",
       "|141357400|                  626.37|                 354.96|                    0.0|                981.33|             197.27|         Mar-2019|         Apr-2019|2023-09-19 05:25:...|\n",
       "|139445427|                 1118.16|                 297.36|                    0.0|               1415.52|             283.95|         Mar-2019|         Apr-2019|2023-09-19 05:25:...|\n",
       "|141407409|                 1169.72|                 3605.3|                    0.0|               4775.02|              964.9|         Mar-2019|         Apr-2019|2023-09-19 05:25:...|\n",
       "+---------+------------------------+-----------------------+-----------------------+----------------------+-------------------+-----------------+-----------------+--------------------+"
      ]
     },
     "execution_count": 19,
     "metadata": {},
     "output_type": "execute_result"
    }
   ],
   "source": [
    "# top 5 rows\n",
    "spark.sql(\"select * from itv017499_lending_club.loans_repayments limit 5\")"
   ]
  },
  {
   "cell_type": "markdown",
   "id": "440bdfef",
   "metadata": {},
   "source": [
    "### loans_defaulters_delinq table"
   ]
  },
  {
   "cell_type": "code",
   "execution_count": 12,
   "id": "d238cdde",
   "metadata": {},
   "outputs": [
    {
     "data": {
      "text/html": [
       "<table border='1'>\n",
       "<tr><th></th></tr>\n",
       "</table>\n"
      ],
      "text/plain": [
       "++\n",
       "||\n",
       "++\n",
       "++"
      ]
     },
     "execution_count": 12,
     "metadata": {},
     "output_type": "execute_result"
    }
   ],
   "source": [
    "#creating loans_defaulters_delinq table\n",
    "spark.sql(\"\"\"\n",
    "    CREATE EXTERNAL TABLE itv017499_lending_club.loans_defaulters_delinq (\n",
    "        member_id STRING, \n",
    "        delinq_2yrs INTEGER, \n",
    "        delinq_amnt FLOAT, \n",
    "        mths_since_last_delinq INTEGER\n",
    "    )\n",
    "    STORED AS PARQUET \n",
    "    LOCATION '/public/trendytech/lendingclubproject/cleaned/loans_defaulters_delinq_parquet'\n",
    "\"\"\")"
   ]
  },
  {
   "cell_type": "code",
   "execution_count": 21,
   "id": "5c0990e5",
   "metadata": {},
   "outputs": [
    {
     "data": {
      "text/html": [
       "<table border='1'>\n",
       "<tr><th>member_id</th><th>delinq_2yrs</th><th>delinq_amnt</th><th>mths_since_last_delinq</th></tr>\n",
       "<tr><td>2163f48a5b1c49f51...</td><td>4</td><td>0.0</td><td>0</td></tr>\n",
       "<tr><td>b0b8000b6e4dc620e...</td><td>2</td><td>0.0</td><td>0</td></tr>\n",
       "<tr><td>81d4ca137b1093d71...</td><td>1</td><td>0.0</td><td>0</td></tr>\n",
       "<tr><td>d35d6ca3d4a1a474e...</td><td>0</td><td>0.0</td><td>15</td></tr>\n",
       "<tr><td>1d546aec89610c539...</td><td>1</td><td>0.0</td><td>0</td></tr>\n",
       "</table>\n"
      ],
      "text/plain": [
       "+--------------------+-----------+-----------+----------------------+\n",
       "|           member_id|delinq_2yrs|delinq_amnt|mths_since_last_delinq|\n",
       "+--------------------+-----------+-----------+----------------------+\n",
       "|2163f48a5b1c49f51...|          4|        0.0|                     0|\n",
       "|b0b8000b6e4dc620e...|          2|        0.0|                     0|\n",
       "|81d4ca137b1093d71...|          1|        0.0|                     0|\n",
       "|d35d6ca3d4a1a474e...|          0|        0.0|                    15|\n",
       "|1d546aec89610c539...|          1|        0.0|                     0|\n",
       "+--------------------+-----------+-----------+----------------------+"
      ]
     },
     "execution_count": 21,
     "metadata": {},
     "output_type": "execute_result"
    }
   ],
   "source": [
    "# top 5 rows\n",
    "spark.sql(\"select * from itv017499_lending_club.loans_defaulters_delinq limit 5\")"
   ]
  },
  {
   "cell_type": "markdown",
   "id": "ee0c792d",
   "metadata": {},
   "source": [
    "### loans_defaulters_detail_rec_enq table"
   ]
  },
  {
   "cell_type": "code",
   "execution_count": 14,
   "id": "590121c7",
   "metadata": {},
   "outputs": [
    {
     "data": {
      "text/html": [
       "<table border='1'>\n",
       "<tr><th></th></tr>\n",
       "</table>\n"
      ],
      "text/plain": [
       "++\n",
       "||\n",
       "++\n",
       "++"
      ]
     },
     "execution_count": 14,
     "metadata": {},
     "output_type": "execute_result"
    }
   ],
   "source": [
    "# create loans_defaulters_detail_rec_enq table\n",
    "spark.sql(\"\"\"\n",
    "    CREATE EXTERNAL TABLE itv017499_lending_club.loans_defaulters_detail_rec_enq (\n",
    "        member_id STRING, \n",
    "        pub_rec INTEGER, \n",
    "        pub_rec_bankruptcies INTEGER, \n",
    "        inq_last_6mths INTEGER\n",
    "    )\n",
    "    STORED AS PARQUET \n",
    "    LOCATION '/public/trendytech/lendingclubproject/cleaned/loans_defaulters_detail_records_enq_parquet'\n",
    "\"\"\")"
   ]
  },
  {
   "cell_type": "code",
   "execution_count": 22,
   "id": "a64f2150",
   "metadata": {},
   "outputs": [
    {
     "data": {
      "text/html": [
       "<table border='1'>\n",
       "<tr><th>member_id</th><th>pub_rec</th><th>pub_rec_bankruptcies</th><th>inq_last_6mths</th></tr>\n",
       "<tr><td>673da0da820de70f9...</td><td>0</td><td>0</td><td>1</td></tr>\n",
       "<tr><td>f5725a82fea842f9b...</td><td>0</td><td>0</td><td>2</td></tr>\n",
       "<tr><td>0e697722917e34328...</td><td>0</td><td>0</td><td>2</td></tr>\n",
       "<tr><td>e995ef7b48b9a42db...</td><td>0</td><td>0</td><td>1</td></tr>\n",
       "<tr><td>a3b9c8c1aaa89b52a...</td><td>0</td><td>0</td><td>1</td></tr>\n",
       "</table>\n"
      ],
      "text/plain": [
       "+--------------------+-------+--------------------+--------------+\n",
       "|           member_id|pub_rec|pub_rec_bankruptcies|inq_last_6mths|\n",
       "+--------------------+-------+--------------------+--------------+\n",
       "|9cb79aa7323e81be1...|      0|                   0|             0|\n",
       "|0dd2bbc517e3c8f9e...|      1|                   1|             3|\n",
       "|458458599d3df3bfc...|      1|                   1|             1|\n",
       "|05ea141ec28b5c7f7...|      0|                   0|             0|\n",
       "|aac68850fdac09fd0...|      0|                   0|             0|\n",
       "+--------------------+-------+--------------------+--------------+"
      ]
     },
     "execution_count": 22,
     "metadata": {},
     "output_type": "execute_result"
    }
   ],
   "source": [
    "# top 5 rows \n",
    "spark.sql(\"select * from itv017499_lending_club.loans_defaulters_detail_rec_enq limit 5\")"
   ]
  }
 ],
 "metadata": {
  "kernelspec": {
   "display_name": "Pyspark 3",
   "language": "python",
   "name": "pyspark3"
  },
  "language_info": {
   "codemirror_mode": {
    "name": "ipython",
    "version": 3
   },
   "file_extension": ".py",
   "mimetype": "text/x-python",
   "name": "python",
   "nbconvert_exporter": "python",
   "pygments_lexer": "ipython3",
   "version": "3.6.12"
  }
 },
 "nbformat": 4,
 "nbformat_minor": 5
}
