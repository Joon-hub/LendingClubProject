{
 "cells": [
  {
   "cell_type": "markdown",
   "id": "2c935b88",
   "metadata": {},
   "source": [
    "# Data Cleaning and Creating detailed defalult user Tables "
   ]
  },
  {
   "cell_type": "markdown",
   "id": "217691db",
   "metadata": {},
   "source": [
    "### Loans_defaulters data"
   ]
  },
  {
   "cell_type": "code",
   "execution_count": 1,
   "id": "cc6bb151",
   "metadata": {},
   "outputs": [],
   "source": [
    "# Import required modules and initialize SparkSession for PySpark operations\n",
    "from pyspark.sql import SparkSession\n",
    "import getpass \n",
    "username=getpass.getuser()\n",
    "spark=SparkSession. \\\n",
    "    builder. \\\n",
    "    config('spark.ui.port','0'). \\\n",
    "    config(\"spark.sql.warehouse.dir\", f\"/user/{username}/warehouse\"). \\\n",
    "    config('spark.shuffle.useOldFetchProtocol', 'true'). \\\n",
    "    enableHiveSupport(). \\\n",
    "    master('yarn'). \\\n",
    "    getOrCreate()"
   ]
  },
  {
   "cell_type": "markdown",
   "id": "1823614f",
   "metadata": {},
   "source": [
    "### Load the raw data"
   ]
  },
  {
   "cell_type": "code",
   "execution_count": 2,
   "id": "459cd3a2",
   "metadata": {},
   "outputs": [],
   "source": [
    "# Read raw loan defaulters CSV data with inferred schema\n",
    "loans_def_raw_df = spark.read \\\n",
    ".format(\"csv\") \\\n",
    ".option(\"header\",True) \\\n",
    ".option(\"inferSchema\", True) \\\n",
    ".load(\"/public/trendytech/lendingclubproject/raw/loans_defaulters_csv\")"
   ]
  },
  {
   "cell_type": "code",
   "execution_count": 3,
   "id": "f79c354f",
   "metadata": {},
   "outputs": [
    {
     "data": {
      "text/html": [
       "<table border='1'>\n",
       "<tr><th>member_id</th><th>delinq_2yrs</th><th>delinq_amnt</th><th>pub_rec</th><th>pub_rec_bankruptcies</th><th>inq_last_6mths</th><th>total_rec_late_fee</th><th>mths_since_last_delinq</th><th>mths_since_last_record</th></tr>\n",
       "<tr><td>9cb79aa7323e81be1...</td><td>2.0</td><td>0.0</td><td>0.0</td><td>0.0</td><td>0.0</td><td>0.0</td><td>11.0</td><td>null</td></tr>\n",
       "<tr><td>0dd2bbc517e3c8f9e...</td><td>0.0</td><td>0.0</td><td>1.0</td><td>1.0</td><td>3.0</td><td>0.0</td><td>null</td><td>115.0</td></tr>\n",
       "<tr><td>458458599d3df3bfc...</td><td>0.0</td><td>0.0</td><td>1.0</td><td>1.0</td><td>1.0</td><td>0.0</td><td>null</td><td>76.0</td></tr>\n",
       "<tr><td>05ea141ec28b5c7f7...</td><td>0.0</td><td>0.0</td><td>0.0</td><td>0.0</td><td>0.0</td><td>0.0</td><td>null</td><td>null</td></tr>\n",
       "<tr><td>aac68850fdac09fd0...</td><td>1.0</td><td>0.0</td><td>0.0</td><td>0.0</td><td>0.0</td><td>0.0</td><td>21.0</td><td>null</td></tr>\n",
       "<tr><td>3a423e4589e89f429...</td><td>0.0</td><td>0.0</td><td>0.0</td><td>0.0</td><td>0.0</td><td>0.0</td><td>null</td><td>null</td></tr>\n",
       "<tr><td>f1efcf7dfbfef21be...</td><td>0.0</td><td>0.0</td><td>0.0</td><td>0.0</td><td>1.0</td><td>0.0</td><td>null</td><td>null</td></tr>\n",
       "<tr><td>c89986155a070db2e...</td><td>1.0</td><td>0.0</td><td>0.0</td><td>0.0</td><td>1.0</td><td>15.0</td><td>5.0</td><td>null</td></tr>\n",
       "<tr><td>118dc629b6e134419...</td><td>0.0</td><td>0.0</td><td>0.0</td><td>0.0</td><td>0.0</td><td>0.0</td><td>null</td><td>null</td></tr>\n",
       "<tr><td>a86fa4b7493708333...</td><td>0.0</td><td>0.0</td><td>0.0</td><td>0.0</td><td>0.0</td><td>0.0</td><td>null</td><td>null</td></tr>\n",
       "<tr><td>6e8d94bf446e97025...</td><td>0.0</td><td>0.0</td><td>0.0</td><td>0.0</td><td>0.0</td><td>0.0</td><td>36.0</td><td>null</td></tr>\n",
       "<tr><td>3de585156dc6b73f6...</td><td>0.0</td><td>0.0</td><td>0.0</td><td>0.0</td><td>0.0</td><td>0.0</td><td>null</td><td>null</td></tr>\n",
       "<tr><td>e88945f86a96f8d71...</td><td>0.0</td><td>0.0</td><td>0.0</td><td>0.0</td><td>1.0</td><td>0.0</td><td>null</td><td>null</td></tr>\n",
       "<tr><td>42f73fd8a01f1c475...</td><td>0.0</td><td>0.0</td><td>0.0</td><td>0.0</td><td>0.0</td><td>0.0</td><td>46.0</td><td>null</td></tr>\n",
       "<tr><td>c680bca32456530e6...</td><td>0.0</td><td>0.0</td><td>0.0</td><td>0.0</td><td>0.0</td><td>0.0</td><td>null</td><td>null</td></tr>\n",
       "<tr><td>3c36e35bcc0379690...</td><td>0.0</td><td>0.0</td><td>0.0</td><td>0.0</td><td>0.0</td><td>0.0</td><td>null</td><td>null</td></tr>\n",
       "<tr><td>4e1c30a5dfe9f1e20...</td><td>0.0</td><td>0.0</td><td>0.0</td><td>0.0</td><td>1.0</td><td>34.68</td><td>null</td><td>null</td></tr>\n",
       "<tr><td>1eef79a0e79b72c7a...</td><td>1.0</td><td>0.0</td><td>0.0</td><td>0.0</td><td>0.0</td><td>0.0</td><td>21.0</td><td>null</td></tr>\n",
       "<tr><td>89d42771f79636d22...</td><td>0.0</td><td>0.0</td><td>0.0</td><td>0.0</td><td>0.0</td><td>0.0</td><td>null</td><td>null</td></tr>\n",
       "<tr><td>1dd1d1b51473d4993...</td><td>0.0</td><td>0.0</td><td>0.0</td><td>0.0</td><td>0.0</td><td>0.0</td><td>44.0</td><td>null</td></tr>\n",
       "</table>\n",
       "only showing top 20 rows\n"
      ],
      "text/plain": [
       "+--------------------+-----------+-----------+-------+--------------------+--------------+------------------+----------------------+----------------------+\n",
       "|           member_id|delinq_2yrs|delinq_amnt|pub_rec|pub_rec_bankruptcies|inq_last_6mths|total_rec_late_fee|mths_since_last_delinq|mths_since_last_record|\n",
       "+--------------------+-----------+-----------+-------+--------------------+--------------+------------------+----------------------+----------------------+\n",
       "|9cb79aa7323e81be1...|        2.0|        0.0|    0.0|                 0.0|           0.0|               0.0|                  11.0|                  null|\n",
       "|0dd2bbc517e3c8f9e...|        0.0|        0.0|    1.0|                 1.0|           3.0|               0.0|                  null|                 115.0|\n",
       "|458458599d3df3bfc...|        0.0|        0.0|    1.0|                 1.0|           1.0|               0.0|                  null|                  76.0|\n",
       "|05ea141ec28b5c7f7...|        0.0|        0.0|    0.0|                 0.0|           0.0|               0.0|                  null|                  null|\n",
       "|aac68850fdac09fd0...|        1.0|        0.0|    0.0|                 0.0|           0.0|               0.0|                  21.0|                  null|\n",
       "|3a423e4589e89f429...|        0.0|        0.0|    0.0|                 0.0|           0.0|               0.0|                  null|                  null|\n",
       "|f1efcf7dfbfef21be...|        0.0|        0.0|    0.0|                 0.0|           1.0|               0.0|                  null|                  null|\n",
       "|c89986155a070db2e...|        1.0|        0.0|    0.0|                 0.0|           1.0|              15.0|                   5.0|                  null|\n",
       "|118dc629b6e134419...|        0.0|        0.0|    0.0|                 0.0|           0.0|               0.0|                  null|                  null|\n",
       "|a86fa4b7493708333...|        0.0|        0.0|    0.0|                 0.0|           0.0|               0.0|                  null|                  null|\n",
       "|6e8d94bf446e97025...|        0.0|        0.0|    0.0|                 0.0|           0.0|               0.0|                  36.0|                  null|\n",
       "|3de585156dc6b73f6...|        0.0|        0.0|    0.0|                 0.0|           0.0|               0.0|                  null|                  null|\n",
       "|e88945f86a96f8d71...|        0.0|        0.0|    0.0|                 0.0|           1.0|               0.0|                  null|                  null|\n",
       "|42f73fd8a01f1c475...|        0.0|        0.0|    0.0|                 0.0|           0.0|               0.0|                  46.0|                  null|\n",
       "|c680bca32456530e6...|        0.0|        0.0|    0.0|                 0.0|           0.0|               0.0|                  null|                  null|\n",
       "|3c36e35bcc0379690...|        0.0|        0.0|    0.0|                 0.0|           0.0|               0.0|                  null|                  null|\n",
       "|4e1c30a5dfe9f1e20...|        0.0|        0.0|    0.0|                 0.0|           1.0|             34.68|                  null|                  null|\n",
       "|1eef79a0e79b72c7a...|        1.0|        0.0|    0.0|                 0.0|           0.0|               0.0|                  21.0|                  null|\n",
       "|89d42771f79636d22...|        0.0|        0.0|    0.0|                 0.0|           0.0|               0.0|                  null|                  null|\n",
       "|1dd1d1b51473d4993...|        0.0|        0.0|    0.0|                 0.0|           0.0|               0.0|                  44.0|                  null|\n",
       "+--------------------+-----------+-----------+-------+--------------------+--------------+------------------+----------------------+----------------------+\n",
       "only showing top 20 rows"
      ]
     },
     "execution_count": 3,
     "metadata": {},
     "output_type": "execute_result"
    }
   ],
   "source": [
    "#peek into the data\n",
    "loans_def_raw_df"
   ]
  },
  {
   "cell_type": "code",
   "execution_count": 4,
   "id": "ddef8692",
   "metadata": {},
   "outputs": [
    {
     "name": "stdout",
     "output_type": "stream",
     "text": [
      "root\n",
      " |-- member_id: string (nullable = true)\n",
      " |-- delinq_2yrs: string (nullable = true)\n",
      " |-- delinq_amnt: double (nullable = true)\n",
      " |-- pub_rec: string (nullable = true)\n",
      " |-- pub_rec_bankruptcies: double (nullable = true)\n",
      " |-- inq_last_6mths: string (nullable = true)\n",
      " |-- total_rec_late_fee: string (nullable = true)\n",
      " |-- mths_since_last_delinq: string (nullable = true)\n",
      " |-- mths_since_last_record: string (nullable = true)\n",
      "\n"
     ]
    }
   ],
   "source": [
    "# checking schema\n",
    "loans_def_raw_df.printSchema()"
   ]
  },
  {
   "cell_type": "markdown",
   "id": "e5161e38",
   "metadata": {},
   "source": [
    "### Initial Exploration"
   ]
  },
  {
   "cell_type": "code",
   "execution_count": 5,
   "id": "bb01dda7",
   "metadata": {},
   "outputs": [
    {
     "data": {
      "text/html": [
       "<table border='1'>\n",
       "<tr><th>delinq_2yrs</th></tr>\n",
       "<tr><td>1.0</td></tr>\n",
       "<tr><td>I bike to work on...</td></tr>\n",
       "<tr><td>271 monthly payme...</td></tr>\n",
       "<tr><td>183xx</td></tr>\n",
       "<tr><td>VISA and AMEX cre...</td></tr>\n",
       "<tr><td>etc. and I feel t...</td></tr>\n",
       "<tr><td>AZ</td></tr>\n",
       "<tr><td>017xx</td></tr>\n",
       "<tr><td>923xx</td></tr>\n",
       "<tr><td>446xx</td></tr>\n",
       "<tr><td>who is a financia...</td></tr>\n",
       "<tr><td>and all of that c...</td></tr>\n",
       "<tr><td>LA</td></tr>\n",
       "<tr><td>24.66</td></tr>\n",
       "<tr><td>and the removal o...</td></tr>\n",
       "<tr><td>I would like to c...</td></tr>\n",
       "<tr><td>12.24</td></tr>\n",
       "<tr><td>22.0</td></tr>\n",
       "<tr><td>so most of my inc...</td></tr>\n",
       "<tr><td>I would like to p...</td></tr>\n",
       "</table>\n",
       "only showing top 20 rows\n"
      ],
      "text/plain": [
       "+--------------------+\n",
       "|         delinq_2yrs|\n",
       "+--------------------+\n",
       "|                 1.0|\n",
       "|I bike to work on...|\n",
       "|271 monthly payme...|\n",
       "|               183xx|\n",
       "|VISA and AMEX cre...|\n",
       "|etc. and I feel t...|\n",
       "|                  AZ|\n",
       "|               017xx|\n",
       "|               923xx|\n",
       "|               446xx|\n",
       "|who is a financia...|\n",
       "|and all of that c...|\n",
       "|                  LA|\n",
       "|               24.66|\n",
       "|and the removal o...|\n",
       "|I would like to c...|\n",
       "|               12.24|\n",
       "|                22.0|\n",
       "|so most of my inc...|\n",
       "|I would like to p...|\n",
       "+--------------------+\n",
       "only showing top 20 rows"
      ]
     },
     "execution_count": 5,
     "metadata": {},
     "output_type": "execute_result"
    }
   ],
   "source": [
    "# Create temporary view (loan_defaulters)\n",
    "loans_def_raw_df.createOrReplaceTempView(\"loan_defaulters\")\n",
    "\n",
    "# Check distinct delinq_2yrs values\n",
    "spark.sql(\"select distinct(delinq_2yrs) from loan_defaulters\")"
   ]
  },
  {
   "cell_type": "code",
   "execution_count": 6,
   "id": "d39c8851",
   "metadata": {},
   "outputs": [
    {
     "name": "stdout",
     "output_type": "stream",
     "text": [
      "+------------------+-------+\n",
      "|       delinq_2yrs|  total|\n",
      "+------------------+-------+\n",
      "|               0.0|1838878|\n",
      "|               1.0| 281335|\n",
      "|               2.0|  81285|\n",
      "|               3.0|  29539|\n",
      "|               4.0|  13179|\n",
      "|               5.0|   6599|\n",
      "|               6.0|   3717|\n",
      "|               7.0|   2062|\n",
      "|               8.0|   1223|\n",
      "|               9.0|    818|\n",
      "|              10.0|    556|\n",
      "|              11.0|    363|\n",
      "|              12.0|    264|\n",
      "|              13.0|    165|\n",
      "|              14.0|    120|\n",
      "|              15.0|     87|\n",
      "|              null|     63|\n",
      "|              16.0|     55|\n",
      "|              18.0|     30|\n",
      "|              17.0|     30|\n",
      "|              19.0|     23|\n",
      "|              20.0|     17|\n",
      "|              21.0|     12|\n",
      "|                CA|      8|\n",
      "|                TX|      6|\n",
      "|debt_consolidation|      5|\n",
      "|                IL|      5|\n",
      "|    small_business|      5|\n",
      "|              22.0|      5|\n",
      "|              24.0|      4|\n",
      "|                FL|      4|\n",
      "|                NJ|      3|\n",
      "|             452xx|      3|\n",
      "|                NY|      3|\n",
      "|              26.0|      3|\n",
      "|             945xx|      2|\n",
      "|                MD|      2|\n",
      "|                VA|      2|\n",
      "|             other|      2|\n",
      "|              29.0|      2|\n",
      "+------------------+-------+\n",
      "only showing top 40 rows\n",
      "\n"
     ]
    }
   ],
   "source": [
    "# Count occurrences of delinq_2yrs (reveals data issues)\n",
    "spark.sql(\"select delinq_2yrs, count(*) as total from loan_defaulters group by delinq_2yrs order by total desc\").show(40)"
   ]
  },
  {
   "cell_type": "markdown",
   "id": "eacf756a",
   "metadata": {},
   "source": [
    "### Handle Data Quality Issues"
   ]
  },
  {
   "cell_type": "code",
   "execution_count": 7,
   "id": "4f350de0",
   "metadata": {},
   "outputs": [
    {
     "name": "stdout",
     "output_type": "stream",
     "text": [
      "+-----------+-------+\n",
      "|delinq_2yrs|  total|\n",
      "+-----------+-------+\n",
      "|        0.0|1838878|\n",
      "|        1.0| 281335|\n",
      "|        2.0|  81285|\n",
      "|        3.0|  29539|\n",
      "|        4.0|  13179|\n",
      "|        5.0|   6599|\n",
      "|        6.0|   3717|\n",
      "|        7.0|   2062|\n",
      "|        8.0|   1223|\n",
      "|        9.0|    818|\n",
      "|       10.0|    556|\n",
      "|       11.0|    363|\n",
      "|       12.0|    264|\n",
      "|       null|    261|\n",
      "|       13.0|    165|\n",
      "|       14.0|    120|\n",
      "|       15.0|     87|\n",
      "|       16.0|     55|\n",
      "|       17.0|     30|\n",
      "|       18.0|     30|\n",
      "|       19.0|     23|\n",
      "|       20.0|     17|\n",
      "|       21.0|     12|\n",
      "|       22.0|      5|\n",
      "|       24.0|      4|\n",
      "|       26.0|      3|\n",
      "|       23.0|      2|\n",
      "|       25.0|      2|\n",
      "|       3.44|      2|\n",
      "|       30.0|      2|\n",
      "|       29.0|      2|\n",
      "|       58.0|      1|\n",
      "|      18.53|      1|\n",
      "|       9.44|      1|\n",
      "|       6.52|      1|\n",
      "|       1.37|      1|\n",
      "|       3.45|      1|\n",
      "|       5.52|      1|\n",
      "|      22.95|      1|\n",
      "|      13.76|      1|\n",
      "+-----------+-------+\n",
      "only showing top 40 rows\n",
      "\n"
     ]
    }
   ],
   "source": [
    "# Define new schema (float types)\n",
    "loan_defaulters_schema = \"member_id string, delinq_2yrs float, delinq_amnt float, pub_rec float, pub_rec_bankruptcies float,inq_last_6mths float, total_rec_late_fee float, mths_since_last_delinq float, mths_since_last_record float\"\n",
    "\n",
    "# Re-read CSV with new schema\n",
    "loans_def_raw_df = spark.read \\\n",
    ".format(\"csv\") \\\n",
    ".option(\"header\",True) \\\n",
    ".schema(loan_defaulters_schema) \\\n",
    ".load(\"/public/trendytech/lendingclubproject/raw/loans_defaulters_csv\")\n",
    "\n",
    "# creating temp view\n",
    "loans_def_raw_df.createOrReplaceTempView(\"loan_defaulters\")\n",
    "\n",
    "# Non Int values appeared as NULL\n",
    "spark.sql(\"select delinq_2yrs, count(*) as total from loan_defaulters group by delinq_2yrs order by total desc\").show(40)\n"
   ]
  },
  {
   "cell_type": "markdown",
   "id": "b4fd2da2",
   "metadata": {},
   "source": [
    "- Now we have 261 nulls after changing datatype of deling_2yrs columns from string to float "
   ]
  },
  {
   "cell_type": "code",
   "execution_count": 8,
   "id": "831d499a",
   "metadata": {},
   "outputs": [
    {
     "data": {
      "text/html": [
       "<table border='1'>\n",
       "<tr><th>count(1)</th></tr>\n",
       "<tr><td>0</td></tr>\n",
       "</table>\n"
      ],
      "text/plain": [
       "+--------+\n",
       "|count(1)|\n",
       "+--------+\n",
       "|       0|\n",
       "+--------+"
      ]
     },
     "execution_count": 8,
     "metadata": {},
     "output_type": "execute_result"
    }
   ],
   "source": [
    "# Cast delinq_2yrs to integer and Fill nulls with 0\n",
    "from pyspark.sql.functions import col\n",
    "\n",
    "loans_def_processed_df = (\n",
    "    loans_def_raw_df\n",
    "    .withColumn(\"delinq_2yrs\", col(\"delinq_2yrs\").cast(\"integer\"))\n",
    "    .fillna(0, subset=[\"delinq_2yrs\"])\n",
    ")\n",
    "\n",
    "# creating temp view\n",
    "loans_def_processed_df.createOrReplaceTempView(\"loan_defaulters\")\n",
    "\n",
    "# checking for null values\n",
    "spark.sql(\"select count(*) from loan_defaulters where delinq_2yrs is null\")"
   ]
  },
  {
   "cell_type": "markdown",
   "id": "92fd1570",
   "metadata": {},
   "source": [
    "### Filter members with delinquencies in the past 2 years or a delinquency record"
   ]
  },
  {
   "cell_type": "code",
   "execution_count": 9,
   "id": "8284cdf5",
   "metadata": {},
   "outputs": [
    {
     "data": {
      "text/plain": [
       "1106163"
      ]
     },
     "execution_count": 9,
     "metadata": {},
     "output_type": "execute_result"
    }
   ],
   "source": [
    "# checking for active deliquent defaulters\n",
    "loans_def_delinq_df = spark.sql(\"\"\"\n",
    "                                select member_id,delinq_2yrs, delinq_amnt, int(mths_since_last_delinq) \n",
    "                                from loan_defaulters \n",
    "                                where delinq_2yrs > 0 \n",
    "                                or mths_since_last_delinq > 0\"\"\")\n",
    "\n",
    "# counts\n",
    "loans_def_delinq_df.count()"
   ]
  },
  {
   "cell_type": "markdown",
   "id": "8a44bfd7",
   "metadata": {},
   "source": [
    "### Filter members with public records, bankruptcies, or inquiries in the last 6 months"
   ]
  },
  {
   "cell_type": "code",
   "execution_count": 10,
   "id": "0023776b",
   "metadata": {},
   "outputs": [
    {
     "data": {
      "text/plain": [
       "1070125"
      ]
     },
     "execution_count": 10,
     "metadata": {},
     "output_type": "execute_result"
    }
   ],
   "source": [
    "# Filter members with public records, bankruptcies, or inquiries in the last 6 months\n",
    "loans_def_records_enq_df = spark.sql(\"\"\"select member_id \n",
    "                                     from loan_defaulters \n",
    "                                     where pub_rec > 0.0 \n",
    "                                     or pub_rec_bankruptcies > 0.0 \n",
    "                                     or inq_last_6mths > 0.0\n",
    "                                     \"\"\")\n",
    "\n",
    "# count\n",
    "loans_def_records_enq_df.count()"
   ]
  },
  {
   "cell_type": "markdown",
   "id": "e5fb53a0",
   "metadata": {},
   "source": [
    "### Saving loans_def_delinq_df"
   ]
  },
  {
   "cell_type": "code",
   "execution_count": 11,
   "id": "858d5d00",
   "metadata": {},
   "outputs": [],
   "source": [
    "#parquet\n",
    "loans_def_delinq_df.write \\\n",
    ".format(\"parquet\") \\\n",
    ".mode(\"overwrite\") \\\n",
    ".option(\"path\", \"/user/itv017499/lendingclubproject/cleaned/loans_defaulters_deling_parquet\") \\\n",
    ".save()"
   ]
  },
  {
   "cell_type": "markdown",
   "id": "3ddf734c",
   "metadata": {},
   "source": [
    "### Saving loans_def_records_enq_df"
   ]
  },
  {
   "cell_type": "code",
   "execution_count": 12,
   "id": "49d29ffe",
   "metadata": {},
   "outputs": [],
   "source": [
    "#parquet\n",
    "loans_def_records_enq_df.write \\\n",
    ".format(\"parquet\") \\\n",
    ".mode(\"overwrite\") \\\n",
    ".option(\"path\", \"/user/itv017499/lendingclubproject/cleaned/loans_defaulters_records_enq_parquet\") \\\n",
    ".save()"
   ]
  },
  {
   "cell_type": "markdown",
   "id": "9d0c9f06",
   "metadata": {},
   "source": [
    "### Casting loans_def_processed_df columns into int and fillna with 0\n",
    "- pub_rec\n",
    "- pub_rec_bankruptcies\n",
    "- inq_last_6mths"
   ]
  },
  {
   "cell_type": "code",
   "execution_count": 13,
   "id": "eeb204f4",
   "metadata": {},
   "outputs": [],
   "source": [
    "loans_def_p_pub_rec_df = loans_def_processed_df.withColumn(\"pub_rec\", col(\"pub_rec\").cast(\"integer\")).fillna(0, subset = [\"pub_rec\"])\n",
    "loans_def_p_pub_rec_bankruptcies_df = loans_def_p_pub_rec_df.withColumn(\"pub_rec_bankruptcies\", col(\"pub_rec_bankruptcies\").cast(\"integer\")).fillna(0, subset = [\"pub_rec_bankruptcies\"])\n",
    "loans_def_p_inq_last_6mths_df = loans_def_p_pub_rec_bankruptcies_df.withColumn(\"inq_last_6mths\", col(\"inq_last_6mths\").cast(\"integer\")).fillna(0, subset = [\"inq_last_6mths\"])"
   ]
  },
  {
   "cell_type": "markdown",
   "id": "3e46eecd",
   "metadata": {},
   "source": [
    "### Select detailed records for public records and inquiries"
   ]
  },
  {
   "cell_type": "code",
   "execution_count": 14,
   "id": "0ea22ebd",
   "metadata": {},
   "outputs": [],
   "source": [
    "loans_def_p_inq_last_6mths_df.createOrReplaceTempView(\"loan_defaulters\")\n",
    "loans_def_detail_records_enq_df = spark.sql(\"select member_id, pub_rec, pub_rec_bankruptcies, inq_last_6mths from loan_defaulters\")"
   ]
  },
  {
   "cell_type": "code",
   "execution_count": 15,
   "id": "a8117600",
   "metadata": {},
   "outputs": [
    {
     "data": {
      "text/html": [
       "<table border='1'>\n",
       "<tr><th>member_id</th><th>pub_rec</th><th>pub_rec_bankruptcies</th><th>inq_last_6mths</th></tr>\n",
       "<tr><td>9cb79aa7323e81be1...</td><td>0</td><td>0</td><td>0</td></tr>\n",
       "<tr><td>0dd2bbc517e3c8f9e...</td><td>1</td><td>1</td><td>3</td></tr>\n",
       "<tr><td>458458599d3df3bfc...</td><td>1</td><td>1</td><td>1</td></tr>\n",
       "<tr><td>05ea141ec28b5c7f7...</td><td>0</td><td>0</td><td>0</td></tr>\n",
       "<tr><td>aac68850fdac09fd0...</td><td>0</td><td>0</td><td>0</td></tr>\n",
       "<tr><td>3a423e4589e89f429...</td><td>0</td><td>0</td><td>0</td></tr>\n",
       "<tr><td>f1efcf7dfbfef21be...</td><td>0</td><td>0</td><td>1</td></tr>\n",
       "<tr><td>c89986155a070db2e...</td><td>0</td><td>0</td><td>1</td></tr>\n",
       "<tr><td>118dc629b6e134419...</td><td>0</td><td>0</td><td>0</td></tr>\n",
       "<tr><td>a86fa4b7493708333...</td><td>0</td><td>0</td><td>0</td></tr>\n",
       "<tr><td>6e8d94bf446e97025...</td><td>0</td><td>0</td><td>0</td></tr>\n",
       "<tr><td>3de585156dc6b73f6...</td><td>0</td><td>0</td><td>0</td></tr>\n",
       "<tr><td>e88945f86a96f8d71...</td><td>0</td><td>0</td><td>1</td></tr>\n",
       "<tr><td>42f73fd8a01f1c475...</td><td>0</td><td>0</td><td>0</td></tr>\n",
       "<tr><td>c680bca32456530e6...</td><td>0</td><td>0</td><td>0</td></tr>\n",
       "<tr><td>3c36e35bcc0379690...</td><td>0</td><td>0</td><td>0</td></tr>\n",
       "<tr><td>4e1c30a5dfe9f1e20...</td><td>0</td><td>0</td><td>1</td></tr>\n",
       "<tr><td>1eef79a0e79b72c7a...</td><td>0</td><td>0</td><td>0</td></tr>\n",
       "<tr><td>89d42771f79636d22...</td><td>0</td><td>0</td><td>0</td></tr>\n",
       "<tr><td>1dd1d1b51473d4993...</td><td>0</td><td>0</td><td>0</td></tr>\n",
       "</table>\n",
       "only showing top 20 rows\n"
      ],
      "text/plain": [
       "+--------------------+-------+--------------------+--------------+\n",
       "|           member_id|pub_rec|pub_rec_bankruptcies|inq_last_6mths|\n",
       "+--------------------+-------+--------------------+--------------+\n",
       "|9cb79aa7323e81be1...|      0|                   0|             0|\n",
       "|0dd2bbc517e3c8f9e...|      1|                   1|             3|\n",
       "|458458599d3df3bfc...|      1|                   1|             1|\n",
       "|05ea141ec28b5c7f7...|      0|                   0|             0|\n",
       "|aac68850fdac09fd0...|      0|                   0|             0|\n",
       "|3a423e4589e89f429...|      0|                   0|             0|\n",
       "|f1efcf7dfbfef21be...|      0|                   0|             1|\n",
       "|c89986155a070db2e...|      0|                   0|             1|\n",
       "|118dc629b6e134419...|      0|                   0|             0|\n",
       "|a86fa4b7493708333...|      0|                   0|             0|\n",
       "|6e8d94bf446e97025...|      0|                   0|             0|\n",
       "|3de585156dc6b73f6...|      0|                   0|             0|\n",
       "|e88945f86a96f8d71...|      0|                   0|             1|\n",
       "|42f73fd8a01f1c475...|      0|                   0|             0|\n",
       "|c680bca32456530e6...|      0|                   0|             0|\n",
       "|3c36e35bcc0379690...|      0|                   0|             0|\n",
       "|4e1c30a5dfe9f1e20...|      0|                   0|             1|\n",
       "|1eef79a0e79b72c7a...|      0|                   0|             0|\n",
       "|89d42771f79636d22...|      0|                   0|             0|\n",
       "|1dd1d1b51473d4993...|      0|                   0|             0|\n",
       "+--------------------+-------+--------------------+--------------+\n",
       "only showing top 20 rows"
      ]
     },
     "execution_count": 15,
     "metadata": {},
     "output_type": "execute_result"
    }
   ],
   "source": [
    "loans_def_detail_records_enq_df"
   ]
  },
  {
   "cell_type": "markdown",
   "id": "0cd925e2",
   "metadata": {},
   "source": [
    "### Saving loans_def_detail_records_enq_df"
   ]
  },
  {
   "cell_type": "code",
   "execution_count": 16,
   "id": "bfc13732",
   "metadata": {},
   "outputs": [],
   "source": [
    "#parquet\n",
    "loans_def_detail_records_enq_df.write \\\n",
    ".format(\"parquet\") \\\n",
    ".mode(\"overwrite\") \\\n",
    ".option(\"path\", \"/user/itv017499/lendingclubproject/cleaned/loans_def_detail_records_enq_df_parquet\") \\\n",
    ".save()"
   ]
  },
  {
   "cell_type": "code",
   "execution_count": null,
   "id": "5e627c4b",
   "metadata": {},
   "outputs": [],
   "source": []
  }
 ],
 "metadata": {
  "kernelspec": {
   "display_name": "Pyspark 3",
   "language": "python",
   "name": "pyspark3"
  },
  "language_info": {
   "codemirror_mode": {
    "name": "ipython",
    "version": 3
   },
   "file_extension": ".py",
   "mimetype": "text/x-python",
   "name": "python",
   "nbconvert_exporter": "python",
   "pygments_lexer": "ipython3",
   "version": "3.6.12"
  }
 },
 "nbformat": 4,
 "nbformat_minor": 5
}
