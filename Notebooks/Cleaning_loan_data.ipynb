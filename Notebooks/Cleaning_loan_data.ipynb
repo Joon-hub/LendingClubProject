{
 "cells": [
  {
   "cell_type": "markdown",
   "id": "6052ee3c",
   "metadata": {},
   "source": [
    "#### Data cleaning plan for loans dataset\n",
    "\n",
    "1. **Initialize SparkSession**\n",
    "\n",
    "2. **Define loans schema**\n",
    "\n",
    "3. **Load raw loans CSV**\n",
    "   - Set `header=True`\n",
    "   - Apply predefined schema\n",
    "\n",
    "4. **Inspect raw DataFrame**\n",
    "   - Display first few rows\n",
    "   - Print schema\n",
    "\n",
    "5. **Add ingestion timestamp** (`ingest_date`)\n",
    "\n",
    "6. **Create temporary view**\n",
    "\n",
    "7. **Quick data quality checks**\n",
    "   - Total record count\n",
    "   - Count of `loan_amount` nulls\n",
    "\n",
    "8. **Drop rows with nulls in critical columns**\n",
    "\n",
    "9. **Re‑inspect record count**\n",
    "\n",
    "10. **Clean `loan_term_months`**\n",
    "    - Remove the `\" months\"` suffix via `regexp_replace`\n",
    "    - Cast to `Integer`\n",
    "\n",
    "11. **Inspect and clean `loan_purpose`**\n",
    "    - Show distinct values & counts\n",
    "    - Define a lookup list of main purposes\n",
    "    - Map all others to `\"other\"`\n",
    "\n",
    "12. **Save cleaned loans data**\n",
    "    - Parquet to `/cleaned/loans_parquet`\n",
    "    - CSV to `/cleaned/loans_csv`\n"
   ]
  },
  {
   "cell_type": "markdown",
   "id": "0d85058d",
   "metadata": {},
   "source": [
    "### 1. Initialize SparkSession"
   ]
  },
  {
   "cell_type": "code",
   "execution_count": 1,
   "id": "bbfc8ecf",
   "metadata": {},
   "outputs": [],
   "source": [
    "from pyspark.sql import SparkSession\n",
    "import getpass \n",
    "username=getpass.getuser()\n",
    "spark=SparkSession. \\\n",
    "    builder. \\\n",
    "    config('spark.ui.port','0'). \\\n",
    "    config(\"spark.sql.warehouse.dir\", f\"/user/{username}/warehouse\"). \\\n",
    "    config('spark.shuffle.useOldFetchProtocol', 'true'). \\\n",
    "    enableHiveSupport(). \\\n",
    "    master('yarn'). \\\n",
    "    getOrCreate()"
   ]
  },
  {
   "cell_type": "markdown",
   "id": "6e6225ce",
   "metadata": {},
   "source": [
    "### 2. Define loans schema"
   ]
  },
  {
   "cell_type": "code",
   "execution_count": 2,
   "id": "087293d0",
   "metadata": {},
   "outputs": [],
   "source": [
    "# Defining the exact types and names of each loan column\n",
    "loans_schema = \"\"\"\n",
    "    loan_id string,\n",
    "    member_id string,\n",
    "    loan_amount float,\n",
    "    funded_amount float,\n",
    "    loan_term_months string,\n",
    "    interest_rate string,\n",
    "    monthly_installment float,\n",
    "    issue_date string,\n",
    "    loan_status string,\n",
    "    loan_purpose string,\n",
    "    loan_title string\n",
    "\"\"\""
   ]
  },
  {
   "cell_type": "markdown",
   "id": "4a8a7191",
   "metadata": {},
   "source": [
    "### 3. Load raw loans CSV"
   ]
  },
  {
   "cell_type": "code",
   "execution_count": 3,
   "id": "45a554de",
   "metadata": {},
   "outputs": [],
   "source": [
    "loans_raw_df = (\n",
    "    spark.read\n",
    "      .format(\"csv\")\n",
    "      .option(\"header\", True)         \n",
    "      .schema(loans_schema) \n",
    "      .load(\"/public/trendytech/lendingclubproject/raw/loans_data_csv\")\n",
    ")"
   ]
  },
  {
   "cell_type": "code",
   "execution_count": 4,
   "id": "e82e2b7b",
   "metadata": {},
   "outputs": [],
   "source": [
    "# create a temp view for sql queries\n",
    "loans_raw_df.createOrReplaceTempView('loans')"
   ]
  },
  {
   "cell_type": "code",
   "execution_count": 5,
   "id": "debb3f3a",
   "metadata": {},
   "outputs": [
    {
     "data": {
      "text/html": [
       "<table border='1'>\n",
       "<tr><th>loan_id</th><th>member_id</th><th>loan_amount</th><th>funded_amount</th><th>loan_term_months</th><th>interest_rate</th><th>monthly_installment</th><th>issue_date</th><th>loan_status</th><th>loan_purpose</th><th>loan_title</th></tr>\n",
       "<tr><td>145499677</td><td>a703357afc7be3fe3...</td><td>10000.0</td><td>10000.0</td><td>36 months</td><td>8.19</td><td>314.25</td><td>Dec-2018</td><td>Fully Paid</td><td>debt_consolidation</td><td>Debt consolidation</td></tr>\n",
       "<tr><td>144538467</td><td>a0c637c3df6764663...</td><td>5000.0</td><td>5000.0</td><td>36 months</td><td>15.02</td><td>173.38</td><td>Dec-2018</td><td>Current</td><td>other</td><td>Other</td></tr>\n",
       "<tr><td>145515405</td><td>63571114d3a96e5bc...</td><td>7500.0</td><td>7500.0</td><td>36 months</td><td>10.33</td><td>243.17</td><td>Dec-2018</td><td>Current</td><td>debt_consolidation</td><td>Debt consolidation</td></tr>\n",
       "<tr><td>145207340</td><td>4db14234c3f2f87c1...</td><td>20400.0</td><td>20400.0</td><td>60 months</td><td>16.14</td><td>497.61</td><td>Dec-2018</td><td>Current</td><td>home_improvement</td><td>Home improvement</td></tr>\n",
       "<tr><td>145467050</td><td>88a6f97ff3afc51b6...</td><td>12000.0</td><td>12000.0</td><td>36 months</td><td>7.02</td><td>370.64</td><td>Dec-2018</td><td>Current</td><td>credit_card</td><td>Credit card refin...</td></tr>\n",
       "</table>\n"
      ],
      "text/plain": [
       "+--------+--------------------+-----------+-------------+----------------+-------------+-------------------+----------+-----------+------------------+--------------------+\n",
       "| loan_id|           member_id|loan_amount|funded_amount|loan_term_months|interest_rate|monthly_installment|issue_date|loan_status|      loan_purpose|          loan_title|\n",
       "+--------+--------------------+-----------+-------------+----------------+-------------+-------------------+----------+-----------+------------------+--------------------+\n",
       "|56633077|b59d80da191f5b573...|     3000.0|       3000.0|       36 months|         7.89|              93.86|  Aug-2015| Fully Paid|       credit_card|Credit card refin...|\n",
       "|55927518|202d9f56ecb7c3bc9...|    15600.0|      15600.0|       36 months|         7.89|             488.06|  Aug-2015| Fully Paid|       credit_card|Credit card refin...|\n",
       "|56473345|e5a140c0922b554b9...|    20000.0|      20000.0|       36 months|         9.17|             637.58|  Aug-2015| Fully Paid|debt_consolidation|  Debt consolidation|\n",
       "|56463188|e12aefc548f750777...|    11200.0|      11200.0|       60 months|        21.99|             309.27|  Aug-2015| Fully Paid|  home_improvement|    Home improvement|\n",
       "|56473316|1b3a50d854fbbf97e...|    16000.0|      16000.0|       60 months|        20.99|             432.77|  Aug-2015|Charged Off|debt_consolidation|  Debt consolidation|\n",
       "+--------+--------------------+-----------+-------------+----------------+-------------+-------------------+----------+-----------+------------------+--------------------+"
      ]
     },
     "execution_count": 5,
     "metadata": {},
     "output_type": "execute_result"
    }
   ],
   "source": [
    "# Quick peek\n",
    "spark.sql(\"select*from loans limit 5\")"
   ]
  },
  {
   "cell_type": "markdown",
   "id": "4376f2ef",
   "metadata": {},
   "source": [
    "### 4. Inspect raw DataFrmae"
   ]
  },
  {
   "cell_type": "code",
   "execution_count": 6,
   "id": "498b1913",
   "metadata": {},
   "outputs": [
    {
     "name": "stdout",
     "output_type": "stream",
     "text": [
      "root\n",
      " |-- loan_id: string (nullable = true)\n",
      " |-- member_id: string (nullable = true)\n",
      " |-- loan_amount: float (nullable = true)\n",
      " |-- funded_amount: float (nullable = true)\n",
      " |-- loan_term_months: string (nullable = true)\n",
      " |-- interest_rate: string (nullable = true)\n",
      " |-- monthly_installment: float (nullable = true)\n",
      " |-- issue_date: string (nullable = true)\n",
      " |-- loan_status: string (nullable = true)\n",
      " |-- loan_purpose: string (nullable = true)\n",
      " |-- loan_title: string (nullable = true)\n",
      "\n"
     ]
    }
   ],
   "source": [
    "# Verify column types and nullability\n",
    "loans_raw_df.printSchema()"
   ]
  },
  {
   "cell_type": "markdown",
   "id": "2ddf8b0e",
   "metadata": {},
   "source": [
    "### 5. Add ingestion timestamp (`ingest_date`)"
   ]
  },
  {
   "cell_type": "code",
   "execution_count": 7,
   "id": "ada74d04",
   "metadata": {},
   "outputs": [],
   "source": [
    "from pyspark.sql.functions import current_timestamp\n",
    "loans_df_ingested = loans_raw_df.withColumn(\"ingest_date\",current_timestamp())"
   ]
  },
  {
   "cell_type": "code",
   "execution_count": 8,
   "id": "30d92400",
   "metadata": {},
   "outputs": [],
   "source": [
    "# create a temp view for sql queries\n",
    "loans_df_ingested.createOrReplaceTempView('loans')"
   ]
  },
  {
   "cell_type": "markdown",
   "id": "e489f2c8",
   "metadata": {},
   "source": [
    "### 6. Create temporary view"
   ]
  },
  {
   "cell_type": "code",
   "execution_count": 9,
   "id": "62e453f2",
   "metadata": {},
   "outputs": [
    {
     "data": {
      "text/html": [
       "<table border='1'>\n",
       "<tr><th>loan_id</th><th>member_id</th><th>loan_amount</th><th>funded_amount</th><th>loan_term_months</th><th>interest_rate</th><th>monthly_installment</th><th>issue_date</th><th>loan_status</th><th>loan_purpose</th><th>loan_title</th><th>ingest_date</th></tr>\n",
       "<tr><td>145499677</td><td>a703357afc7be3fe3...</td><td>10000.0</td><td>10000.0</td><td>36 months</td><td>8.19</td><td>314.25</td><td>Dec-2018</td><td>Fully Paid</td><td>debt_consolidation</td><td>Debt consolidation</td><td>2025-04-29 06:02:...</td></tr>\n",
       "<tr><td>144538467</td><td>a0c637c3df6764663...</td><td>5000.0</td><td>5000.0</td><td>36 months</td><td>15.02</td><td>173.38</td><td>Dec-2018</td><td>Current</td><td>other</td><td>Other</td><td>2025-04-29 06:02:...</td></tr>\n",
       "<tr><td>145515405</td><td>63571114d3a96e5bc...</td><td>7500.0</td><td>7500.0</td><td>36 months</td><td>10.33</td><td>243.17</td><td>Dec-2018</td><td>Current</td><td>debt_consolidation</td><td>Debt consolidation</td><td>2025-04-29 06:02:...</td></tr>\n",
       "<tr><td>145207340</td><td>4db14234c3f2f87c1...</td><td>20400.0</td><td>20400.0</td><td>60 months</td><td>16.14</td><td>497.61</td><td>Dec-2018</td><td>Current</td><td>home_improvement</td><td>Home improvement</td><td>2025-04-29 06:02:...</td></tr>\n",
       "<tr><td>145467050</td><td>88a6f97ff3afc51b6...</td><td>12000.0</td><td>12000.0</td><td>36 months</td><td>7.02</td><td>370.64</td><td>Dec-2018</td><td>Current</td><td>credit_card</td><td>Credit card refin...</td><td>2025-04-29 06:02:...</td></tr>\n",
       "</table>\n"
      ],
      "text/plain": [
       "+--------+--------------------+-----------+-------------+----------------+-------------+-------------------+----------+-----------+------------------+--------------------+--------------------+\n",
       "| loan_id|           member_id|loan_amount|funded_amount|loan_term_months|interest_rate|monthly_installment|issue_date|loan_status|      loan_purpose|          loan_title|         ingest_date|\n",
       "+--------+--------------------+-----------+-------------+----------------+-------------+-------------------+----------+-----------+------------------+--------------------+--------------------+\n",
       "|56633077|b59d80da191f5b573...|     3000.0|       3000.0|       36 months|         7.89|              93.86|  Aug-2015| Fully Paid|       credit_card|Credit card refin...|2025-04-29 06:02:...|\n",
       "|55927518|202d9f56ecb7c3bc9...|    15600.0|      15600.0|       36 months|         7.89|             488.06|  Aug-2015| Fully Paid|       credit_card|Credit card refin...|2025-04-29 06:02:...|\n",
       "|56473345|e5a140c0922b554b9...|    20000.0|      20000.0|       36 months|         9.17|             637.58|  Aug-2015| Fully Paid|debt_consolidation|  Debt consolidation|2025-04-29 06:02:...|\n",
       "|56463188|e12aefc548f750777...|    11200.0|      11200.0|       60 months|        21.99|             309.27|  Aug-2015| Fully Paid|  home_improvement|    Home improvement|2025-04-29 06:02:...|\n",
       "|56473316|1b3a50d854fbbf97e...|    16000.0|      16000.0|       60 months|        20.99|             432.77|  Aug-2015|Charged Off|debt_consolidation|  Debt consolidation|2025-04-29 06:02:...|\n",
       "+--------+--------------------+-----------+-------------+----------------+-------------+-------------------+----------+-----------+------------------+--------------------+--------------------+"
      ]
     },
     "execution_count": 9,
     "metadata": {},
     "output_type": "execute_result"
    }
   ],
   "source": [
    "# Quick peek\n",
    "spark.sql(\"select*from loans limit 5\")"
   ]
  },
  {
   "cell_type": "markdown",
   "id": "4a26fde8",
   "metadata": {},
   "source": [
    "### 7. Quick data quality checks"
   ]
  },
  {
   "cell_type": "code",
   "execution_count": 10,
   "id": "3bf0299c",
   "metadata": {},
   "outputs": [
    {
     "name": "stdout",
     "output_type": "stream",
     "text": [
      "+--------+\n",
      "|count(1)|\n",
      "+--------+\n",
      "| 2260701|\n",
      "+--------+\n",
      "\n"
     ]
    }
   ],
   "source": [
    "# Total number of records\n",
    "spark.sql(\"SELECT COUNT(*) FROM loans\").show()"
   ]
  },
  {
   "cell_type": "code",
   "execution_count": 11,
   "id": "891d3bcd",
   "metadata": {},
   "outputs": [
    {
     "name": "stdout",
     "output_type": "stream",
     "text": [
      "+--------+\n",
      "|count(1)|\n",
      "+--------+\n",
      "|      33|\n",
      "+--------+\n",
      "\n"
     ]
    }
   ],
   "source": [
    "\n",
    "# How many rows are missing loan_amount?\n",
    "spark.sql(\"SELECT COUNT(*) FROM loans WHERE loan_amount IS NULL\").show()"
   ]
  },
  {
   "cell_type": "code",
   "execution_count": 12,
   "id": "0a1bf689",
   "metadata": {},
   "outputs": [
    {
     "data": {
      "text/html": [
       "<table border='1'>\n",
       "<tr><th>loan_id</th><th>member_id</th><th>loan_amount</th><th>funded_amount</th><th>loan_term_months</th><th>interest_rate</th><th>monthly_installment</th><th>issue_date</th><th>loan_status</th><th>loan_purpose</th><th>loan_title</th><th>ingest_date</th></tr>\n",
       "<tr><td>Total amount fund...</td><td>e3b0c44298fc1c149...</td><td>null</td><td>null</td><td>null</td><td>null</td><td>null</td><td>null</td><td>null</td><td>null</td><td>null</td><td>2025-04-29 06:02:...</td></tr>\n",
       "<tr><td>Total amount fund...</td><td>e3b0c44298fc1c149...</td><td>null</td><td>null</td><td>null</td><td>null</td><td>null</td><td>null</td><td>null</td><td>null</td><td>null</td><td>2025-04-29 06:02:...</td></tr>\n",
       "<tr><td>Total amount fund...</td><td>e3b0c44298fc1c149...</td><td>null</td><td>null</td><td>null</td><td>null</td><td>null</td><td>null</td><td>null</td><td>null</td><td>null</td><td>2025-04-29 06:02:...</td></tr>\n",
       "<tr><td>Total amount fund...</td><td>e3b0c44298fc1c149...</td><td>null</td><td>null</td><td>null</td><td>null</td><td>null</td><td>null</td><td>null</td><td>null</td><td>null</td><td>2025-04-29 06:02:...</td></tr>\n",
       "<tr><td>Total amount fund...</td><td>e3b0c44298fc1c149...</td><td>null</td><td>null</td><td>null</td><td>null</td><td>null</td><td>null</td><td>null</td><td>null</td><td>null</td><td>2025-04-29 06:02:...</td></tr>\n",
       "</table>\n"
      ],
      "text/plain": [
       "+--------------------+--------------------+-----------+-------------+----------------+-------------+-------------------+----------+-----------+------------+----------+--------------------+\n",
       "|             loan_id|           member_id|loan_amount|funded_amount|loan_term_months|interest_rate|monthly_installment|issue_date|loan_status|loan_purpose|loan_title|         ingest_date|\n",
       "+--------------------+--------------------+-----------+-------------+----------------+-------------+-------------------+----------+-----------+------------+----------+--------------------+\n",
       "|Total amount fund...|e3b0c44298fc1c149...|       null|         null|            null|         null|               null|      null|       null|        null|      null|2025-04-29 06:02:...|\n",
       "|Total amount fund...|e3b0c44298fc1c149...|       null|         null|            null|         null|               null|      null|       null|        null|      null|2025-04-29 06:02:...|\n",
       "|Total amount fund...|e3b0c44298fc1c149...|       null|         null|            null|         null|               null|      null|       null|        null|      null|2025-04-29 06:02:...|\n",
       "|Total amount fund...|e3b0c44298fc1c149...|       null|         null|            null|         null|               null|      null|       null|        null|      null|2025-04-29 06:02:...|\n",
       "|Total amount fund...|e3b0c44298fc1c149...|       null|         null|            null|         null|               null|      null|       null|        null|      null|2025-04-29 06:02:...|\n",
       "+--------------------+--------------------+-----------+-------------+----------------+-------------+-------------------+----------+-----------+------------+----------+--------------------+"
      ]
     },
     "execution_count": 12,
     "metadata": {},
     "output_type": "execute_result"
    }
   ],
   "source": [
    "# checking where loan_amount is NULL\n",
    "spark.sql(\"SELECT * FROM loans WHERE loan_amount IS NULL limit 5\")"
   ]
  },
  {
   "cell_type": "markdown",
   "id": "6dcddcbe",
   "metadata": {},
   "source": [
    "### 8. Drop rows with nulls in critical columns"
   ]
  },
  {
   "cell_type": "code",
   "execution_count": 13,
   "id": "564f17e3",
   "metadata": {},
   "outputs": [],
   "source": [
    "# Define which columns must not be null\n",
    "columns_to_check = [\n",
    "    \"loan_amount\", \"funded_amount\", \"loan_term_months\",\n",
    "    \"monthly_installment\", \"issue_date\", \"loan_status\", \"loan_purpose\"\n",
    "]"
   ]
  },
  {
   "cell_type": "code",
   "execution_count": 14,
   "id": "70c83368",
   "metadata": {},
   "outputs": [],
   "source": [
    "# Remove any rows missing those\n",
    "loans_filtered_df = loans_df_ingested.na.drop(subset=columns_to_check)"
   ]
  },
  {
   "cell_type": "code",
   "execution_count": 15,
   "id": "5ab6b0ec",
   "metadata": {},
   "outputs": [
    {
     "name": "stdout",
     "output_type": "stream",
     "text": [
      "After drop: 2260667\n"
     ]
    }
   ],
   "source": [
    "print(\"After drop:\", loans_filtered_df.count())"
   ]
  },
  {
   "cell_type": "code",
   "execution_count": 16,
   "id": "f059450b",
   "metadata": {},
   "outputs": [],
   "source": [
    "loans_filtered_df.createOrReplaceTempView(\"loans\")"
   ]
  },
  {
   "cell_type": "markdown",
   "id": "850ca236",
   "metadata": {},
   "source": [
    "### 9. Clean `loan_term_months`"
   ]
  },
  {
   "cell_type": "code",
   "execution_count": 17,
   "id": "01fb920f",
   "metadata": {},
   "outputs": [],
   "source": [
    "from pyspark.sql.functions import regexp_replace, col\n",
    "\n",
    "# Strip out non‑digits (e.g. \"36 months\" → \"36\") and cast to int and convert it into year\n",
    "loans_term_modified_df = (\n",
    "    loans_filtered_df\n",
    "      .withColumn(\n",
    "         \"loan_term_months\",\n",
    "         regexp_replace(col(\"loan_term_months\"), \"\\D\", \"\")\n",
    "      )\n",
    "      .withColumn(\"loan_term_years\", col(\"loan_term_months\").cast(\"int\")/12)\n",
    "      .drop(\"loan_term_months\")\n",
    ")\n"
   ]
  },
  {
   "cell_type": "code",
   "execution_count": 18,
   "id": "659af387",
   "metadata": {},
   "outputs": [
    {
     "name": "stdout",
     "output_type": "stream",
     "text": [
      "root\n",
      " |-- loan_id: string (nullable = true)\n",
      " |-- member_id: string (nullable = true)\n",
      " |-- loan_amount: float (nullable = true)\n",
      " |-- funded_amount: float (nullable = true)\n",
      " |-- interest_rate: string (nullable = true)\n",
      " |-- monthly_installment: float (nullable = true)\n",
      " |-- issue_date: string (nullable = true)\n",
      " |-- loan_status: string (nullable = true)\n",
      " |-- loan_purpose: string (nullable = true)\n",
      " |-- loan_title: string (nullable = true)\n",
      " |-- ingest_date: timestamp (nullable = false)\n",
      " |-- loan_term_years: double (nullable = true)\n",
      "\n"
     ]
    }
   ],
   "source": [
    "loans_term_modified_df.printSchema()"
   ]
  },
  {
   "cell_type": "code",
   "execution_count": 19,
   "id": "cdd62d8e",
   "metadata": {},
   "outputs": [],
   "source": [
    "loans_term_modified_df.createOrReplaceTempView(\"loans\")"
   ]
  },
  {
   "cell_type": "code",
   "execution_count": 20,
   "id": "c1549085",
   "metadata": {},
   "outputs": [
    {
     "data": {
      "text/html": [
       "<table border='1'>\n",
       "<tr><th>loan_id</th><th>member_id</th><th>loan_amount</th><th>funded_amount</th><th>interest_rate</th><th>monthly_installment</th><th>issue_date</th><th>loan_status</th><th>loan_purpose</th><th>loan_title</th><th>ingest_date</th><th>loan_term_years</th></tr>\n",
       "<tr><td>91609139</td><td>f4d5593aeb85f0302...</td><td>2800.0</td><td>2800.0</td><td>10.49</td><td>91.0</td><td>Oct-2016</td><td>Fully Paid</td><td>car</td><td>Car financing</td><td>2025-04-29 06:02:...</td><td>3.0</td></tr>\n",
       "<tr><td>91302887</td><td>2a6b46e98f2f63710...</td><td>8000.0</td><td>8000.0</td><td>13.49</td><td>271.45</td><td>Oct-2016</td><td>Fully Paid</td><td>credit_card</td><td>Credit card refin...</td><td>2025-04-29 06:02:...</td><td>3.0</td></tr>\n",
       "<tr><td>91313928</td><td>2aaeecbb0cb90f9a5...</td><td>8000.0</td><td>8000.0</td><td>16.99</td><td>285.19</td><td>Oct-2016</td><td>Charged Off</td><td>moving</td><td>Moving and reloca...</td><td>2025-04-29 06:02:...</td><td>3.0</td></tr>\n",
       "<tr><td>91343295</td><td>064393f5934a2eca2...</td><td>10125.0</td><td>10125.0</td><td>11.49</td><td>333.84</td><td>Oct-2016</td><td>Charged Off</td><td>credit_card</td><td>Credit card refin...</td><td>2025-04-29 06:02:...</td><td>3.0</td></tr>\n",
       "<tr><td>91503678</td><td>5461aa5fb52d7380e...</td><td>18000.0</td><td>18000.0</td><td>6.99</td><td>555.71</td><td>Oct-2016</td><td>Fully Paid</td><td>debt_consolidation</td><td>Debt consolidation</td><td>2025-04-29 06:02:...</td><td>3.0</td></tr>\n",
       "<tr><td>91473933</td><td>5efe3afbace24e65a...</td><td>6000.0</td><td>6000.0</td><td>6.99</td><td>185.24</td><td>Oct-2016</td><td>Fully Paid</td><td>debt_consolidation</td><td>Debt consolidation</td><td>2025-04-29 06:02:...</td><td>3.0</td></tr>\n",
       "<tr><td>91301376</td><td>98f50c55db8d927c5...</td><td>15000.0</td><td>15000.0</td><td>17.99</td><td>542.22</td><td>Oct-2016</td><td>Fully Paid</td><td>debt_consolidation</td><td>Debt consolidation</td><td>2025-04-29 06:02:...</td><td>3.0</td></tr>\n",
       "<tr><td>91609173</td><td>e11da03be1a015884...</td><td>13000.0</td><td>13000.0</td><td>5.32</td><td>391.5</td><td>Oct-2016</td><td>Current</td><td>credit_card</td><td>Credit card refin...</td><td>2025-04-29 06:02:...</td><td>3.0</td></tr>\n",
       "<tr><td>91021798</td><td>d15f8e7c07f44fc53...</td><td>5000.0</td><td>5000.0</td><td>5.32</td><td>150.58</td><td>Oct-2016</td><td>Fully Paid</td><td>debt_consolidation</td><td>Debt consolidation</td><td>2025-04-29 06:02:...</td><td>3.0</td></tr>\n",
       "<tr><td>91052844</td><td>eb0132cfaebe240cd...</td><td>16000.0</td><td>16000.0</td><td>14.49</td><td>550.66</td><td>Oct-2016</td><td>Charged Off</td><td>debt_consolidation</td><td>Debt consolidation</td><td>2025-04-29 06:02:...</td><td>3.0</td></tr>\n",
       "</table>\n"
      ],
      "text/plain": [
       "+--------+--------------------+-----------+-------------+-------------+-------------------+----------+-----------+------------------+--------------------+--------------------+---------------+\n",
       "| loan_id|           member_id|loan_amount|funded_amount|interest_rate|monthly_installment|issue_date|loan_status|      loan_purpose|          loan_title|         ingest_date|loan_term_years|\n",
       "+--------+--------------------+-----------+-------------+-------------+-------------------+----------+-----------+------------------+--------------------+--------------------+---------------+\n",
       "|56633077|b59d80da191f5b573...|     3000.0|       3000.0|         7.89|              93.86|  Aug-2015| Fully Paid|       credit_card|Credit card refin...|2025-04-29 06:02:...|            3.0|\n",
       "|55927518|202d9f56ecb7c3bc9...|    15600.0|      15600.0|         7.89|             488.06|  Aug-2015| Fully Paid|       credit_card|Credit card refin...|2025-04-29 06:02:...|            3.0|\n",
       "|56473345|e5a140c0922b554b9...|    20000.0|      20000.0|         9.17|             637.58|  Aug-2015| Fully Paid|debt_consolidation|  Debt consolidation|2025-04-29 06:02:...|            3.0|\n",
       "|56463188|e12aefc548f750777...|    11200.0|      11200.0|        21.99|             309.27|  Aug-2015| Fully Paid|  home_improvement|    Home improvement|2025-04-29 06:02:...|            5.0|\n",
       "|56473316|1b3a50d854fbbf97e...|    16000.0|      16000.0|        20.99|             432.77|  Aug-2015|Charged Off|debt_consolidation|  Debt consolidation|2025-04-29 06:02:...|            5.0|\n",
       "|56663266|1c4329e5f17697127...|    20000.0|      20000.0|        13.33|             458.45|  Aug-2015|Charged Off|debt_consolidation|  Debt consolidation|2025-04-29 06:02:...|            5.0|\n",
       "|56483027|5026c86ad983175eb...|    10000.0|      10000.0|        12.69|             335.45|  Aug-2015| Fully Paid|             other|               Other|2025-04-29 06:02:...|            3.0|\n",
       "|56613385|9847d8c1e9d0b2084...|    23400.0|      23400.0|        19.19|             609.46|  Aug-2015|    Current|    small_business|            Business|2025-04-29 06:02:...|            5.0|\n",
       "|56643620|8340dbe1adea41fb4...|    16000.0|      16000.0|         5.32|             481.84|  Jul-2015| Fully Paid|debt_consolidation|  Debt consolidation|2025-04-29 06:02:...|            3.0|\n",
       "|56533114|d4de0de3ab7d79ad4...|    25450.0|      25450.0|        27.31|            1043.24|  Aug-2015|Charged Off|debt_consolidation|  Debt consolidation|2025-04-29 06:02:...|            3.0|\n",
       "+--------+--------------------+-----------+-------------+-------------+-------------------+----------+-----------+------------------+--------------------+--------------------+---------------+"
      ]
     },
     "execution_count": 20,
     "metadata": {},
     "output_type": "execute_result"
    }
   ],
   "source": [
    "spark.sql(\"SELECT * FROM loans limit 10\")"
   ]
  },
  {
   "cell_type": "markdown",
   "id": "922809c9",
   "metadata": {},
   "source": [
    "### 10. Inspect and clean `loan_purpose`"
   ]
  },
  {
   "cell_type": "code",
   "execution_count": 21,
   "id": "7321b5b3",
   "metadata": {},
   "outputs": [
    {
     "name": "stdout",
     "output_type": "stream",
     "text": [
      "+--------------------+-------+\n",
      "|        loan_purpose|    cnt|\n",
      "+--------------------+-------+\n",
      "|  debt_consolidation|1277790|\n",
      "|         credit_card| 516926|\n",
      "|    home_improvement| 150440|\n",
      "|               other| 139413|\n",
      "|      major_purchase|  50429|\n",
      "|             medical|  27481|\n",
      "|      small_business|  24659|\n",
      "|                 car|  24009|\n",
      "|            vacation|  15525|\n",
      "|              moving|  15402|\n",
      "|               house|  14131|\n",
      "|             wedding|   2351|\n",
      "|    renewable_energy|   1445|\n",
      "|         educational|    412|\n",
      "|but we cant all b...|      1|\n",
      "|but not much info...|      1|\n",
      "|and if they are a...|      1|\n",
      "|putting together ...|      1|\n",
      "|on one of the bus...|      1|\n",
      "|I became his prim...|      1|\n",
      "+--------------------+-------+\n",
      "only showing top 20 rows\n",
      "\n"
     ]
    }
   ],
   "source": [
    "# Check what purposes we have\n",
    "spark.sql(\"SELECT loan_purpose, COUNT(*) AS cnt FROM loans GROUP BY loan_purpose ORDER BY cnt DESC\").show(20)"
   ]
  },
  {
   "cell_type": "code",
   "execution_count": 22,
   "id": "a17b0687",
   "metadata": {},
   "outputs": [],
   "source": [
    "# Define the main-purpose list; everything else → \"other\"\n",
    "main_purposes = [\n",
    "\"debt_consolidation\", \"credit_card\", \"home_improvement\", \n",
    "    \"other\", \"major_purchase\", \"medical\", \"small_business\", \n",
    "    \"car\", \"vacation\", \"moving\", \"house\", \"wedding\", \"renewable_energy\", \n",
    "    \"educational\"\n",
    "]"
   ]
  },
  {
   "cell_type": "code",
   "execution_count": 23,
   "id": "fcc10130",
   "metadata": {},
   "outputs": [],
   "source": [
    "from pyspark.sql.functions import when\n",
    "\n",
    "# Map any non‑standard purpose to \"other\"\n",
    "loans_purpose_modified = (\n",
    "    loans_term_modified_df.withColumn(\n",
    "      \"loan_purpose\",\n",
    "      when(col(\"loan_purpose\").isin(main_purposes), col(\"loan_purpose\"))\n",
    "        .otherwise(\"other\")\n",
    "    )\n",
    ")"
   ]
  },
  {
   "cell_type": "code",
   "execution_count": 24,
   "id": "3cab7f44",
   "metadata": {},
   "outputs": [],
   "source": [
    "loans_purpose_modified.createOrReplaceTempView(\"loans\")"
   ]
  },
  {
   "cell_type": "code",
   "execution_count": 25,
   "id": "dd62b986",
   "metadata": {},
   "outputs": [
    {
     "data": {
      "text/html": [
       "<table border='1'>\n",
       "<tr><th>loan_purpose</th><th>cnt</th></tr>\n",
       "<tr><td>debt_consolidation</td><td>1277790</td></tr>\n",
       "<tr><td>credit_card</td><td>516926</td></tr>\n",
       "<tr><td>home_improvement</td><td>150440</td></tr>\n",
       "<tr><td>other</td><td>139667</td></tr>\n",
       "<tr><td>major_purchase</td><td>50429</td></tr>\n",
       "<tr><td>medical</td><td>27481</td></tr>\n",
       "<tr><td>small_business</td><td>24659</td></tr>\n",
       "<tr><td>car</td><td>24009</td></tr>\n",
       "<tr><td>vacation</td><td>15525</td></tr>\n",
       "<tr><td>moving</td><td>15402</td></tr>\n",
       "<tr><td>house</td><td>14131</td></tr>\n",
       "<tr><td>wedding</td><td>2351</td></tr>\n",
       "<tr><td>renewable_energy</td><td>1445</td></tr>\n",
       "<tr><td>educational</td><td>412</td></tr>\n",
       "</table>\n"
      ],
      "text/plain": [
       "+------------------+-------+\n",
       "|      loan_purpose|    cnt|\n",
       "+------------------+-------+\n",
       "|debt_consolidation|1277790|\n",
       "|       credit_card| 516926|\n",
       "|  home_improvement| 150440|\n",
       "|             other| 139667|\n",
       "|    major_purchase|  50429|\n",
       "|           medical|  27481|\n",
       "|    small_business|  24659|\n",
       "|               car|  24009|\n",
       "|          vacation|  15525|\n",
       "|            moving|  15402|\n",
       "|             house|  14131|\n",
       "|           wedding|   2351|\n",
       "|  renewable_energy|   1445|\n",
       "|       educational|    412|\n",
       "+------------------+-------+"
      ]
     },
     "execution_count": 25,
     "metadata": {},
     "output_type": "execute_result"
    }
   ],
   "source": [
    "# verify\n",
    "spark.sql(\"\"\"\n",
    "    SELECT loan_purpose, COUNT(*) AS cnt \n",
    "    FROM loans \n",
    "    GROUP BY loan_purpose \n",
    "    ORDER BY cnt DESC\n",
    "\"\"\")"
   ]
  },
  {
   "cell_type": "markdown",
   "id": "584ed5e0",
   "metadata": {},
   "source": [
    "### 11. Save cleaned loans data"
   ]
  },
  {
   "cell_type": "code",
   "execution_count": 26,
   "id": "cdd19b5e",
   "metadata": {},
   "outputs": [],
   "source": [
    "# Parquet for efficient downstream queries\n",
    "loans_purpose_modified.write \\\n",
    "    .format(\"parquet\") \\\n",
    "    .mode(\"overwrite\") \\\n",
    "    .option(\"path\", \"/user/itv017499/lendingclubproject/cleaned/loans_parquet\") \\\n",
    "    .save()"
   ]
  },
  {
   "cell_type": "code",
   "execution_count": null,
   "id": "721afc49",
   "metadata": {},
   "outputs": [],
   "source": []
  }
 ],
 "metadata": {
  "kernelspec": {
   "display_name": "Pyspark 3",
   "language": "python",
   "name": "pyspark3"
  },
  "language_info": {
   "codemirror_mode": {
    "name": "ipython",
    "version": 3
   },
   "file_extension": ".py",
   "mimetype": "text/x-python",
   "name": "python",
   "nbconvert_exporter": "python",
   "pygments_lexer": "ipython3",
   "version": "3.6.12"
  }
 },
 "nbformat": 4,
 "nbformat_minor": 5
}
