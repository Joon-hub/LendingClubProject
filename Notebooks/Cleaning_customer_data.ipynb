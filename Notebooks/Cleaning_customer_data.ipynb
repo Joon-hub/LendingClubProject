{
 "cells": [
  {
   "cell_type": "markdown",
   "id": "e4e3a7d2",
   "metadata": {},
   "source": [
    "#### Cleaning Customer Dataset - Plan of Action\n",
    "\n",
    "1. **Initialize SparkSession**\n",
    "\n",
    "2. **Define customer schema**\n",
    "\n",
    "3. **Load raw customers CSV**\n",
    "   - Set `header=True`\n",
    "   - Apply predefined schema\n",
    "\n",
    "4. **Inspect raw DataFrame**\n",
    "   - Show sample rows\n",
    "   - Print schema\n",
    "\n",
    "5. **Rename columns for clarity**\n",
    "\n",
    "6. **Add ingestion timestamp** (`ingest_date`)\n",
    "\n",
    "7. **Deduplicate rows**\n",
    "\n",
    "8. **Create temp view** `\"customers\"`\n",
    "\n",
    "9. **Filter out rows with NULL** `annual_income`\n",
    "\n",
    "10. **Clean `emp_length`**\n",
    "    - Show distinct raw values\n",
    "    - Remove non-digits via `regexp_replace`\n",
    "    - Cast to `Integer`\n",
    "    - Count resulting NULLs\n",
    "    - Compute `floor(avg(emp_length))`\n",
    "    - Fill NULL `emp_length` with average\n",
    "\n",
    "11. **Clean `address_state`**\n",
    "    - Inspect distinct state codes\n",
    "    - Count codes where length > 2\n",
    "    - Replace invalid codes (>2 chars) with `\"NA\"`\n",
    "\n",
    "12. **Save final DataFrame**\n",
    "    - Parquet format to `/cleaned/customers_parquet`\n",
    "    - CSV format to `/cleaned/customers_csv`\n"
   ]
  },
  {
   "cell_type": "markdown",
   "id": "3146cd85",
   "metadata": {},
   "source": [
    "####  1. SET UP SPARK SESSION "
   ]
  },
  {
   "cell_type": "code",
   "execution_count": 1,
   "id": "8b888954",
   "metadata": {},
   "outputs": [],
   "source": [
    "# Build a SparkSession with Hive support on YARN\n",
    "\n",
    "from pyspark.sql import SparkSession\n",
    "import getpass \n",
    "username=getpass.getuser()\n",
    "spark=SparkSession. \\\n",
    "    builder. \\\n",
    "    config('spark.ui.port','0'). \\\n",
    "    config(\"spark.sql.warehouse.dir\", f\"/user/{username}/warehouse\"). \\\n",
    "    config('spark.shuffle.useOldFetchProtocol', 'true'). \\\n",
    "    enableHiveSupport(). \\\n",
    "    master('yarn'). \\\n",
    "    getOrCreate()"
   ]
  },
  {
   "cell_type": "markdown",
   "id": "21d924b0",
   "metadata": {},
   "source": [
    "#### 2. DEFINE AND LOAD CUSTOMERS DATA "
   ]
  },
  {
   "cell_type": "code",
   "execution_count": 2,
   "id": "1f220581",
   "metadata": {},
   "outputs": [],
   "source": [
    "# Define schema for customers CSV \n",
    "customer_schema = 'member_id string, emp_title string, emp_length string, home_ownership string, annual_inc float, addr_state string, zip_code string, country string, grade string, sub_grade string, verification_status string, tot_hi_cred_lim float, application_type string, annual_inc_joint float, verification_status_joint string'"
   ]
  },
  {
   "cell_type": "code",
   "execution_count": 3,
   "id": "a8c520cf",
   "metadata": {},
   "outputs": [],
   "source": [
    "# Read the raw customers CSV into a DataFrame\n",
    "customers_raw_df = spark.read \\\n",
    ".format(\"csv\") \\\n",
    ".option(\"header\",True) \\\n",
    ".schema(customer_schema) \\\n",
    ".load(\"/public/trendytech/lendingclubproject/raw/customers_data_csv\")"
   ]
  },
  {
   "cell_type": "code",
   "execution_count": 4,
   "id": "8de9f919",
   "metadata": {},
   "outputs": [
    {
     "name": "stdout",
     "output_type": "stream",
     "text": [
      "+--------------------+--------------------+----------+--------------+----------+----------+--------+-------+-----+---------+-------------------+---------------+----------------+----------------+-------------------------+\n",
      "|           member_id|           emp_title|emp_length|home_ownership|annual_inc|addr_state|zip_code|country|grade|sub_grade|verification_status|tot_hi_cred_lim|application_type|annual_inc_joint|verification_status_joint|\n",
      "+--------------------+--------------------+----------+--------------+----------+----------+--------+-------+-----+---------+-------------------+---------------+----------------+----------------+-------------------------+\n",
      "|b59d80da191f5b573...|                null|      null|          RENT|   50000.0|        OR|   973xx|    USA|    A|       A5|    Source Verified|         8600.0|      Individual|            null|                     null|\n",
      "|202d9f56ecb7c3bc9...|      police officer|   7 years|           OWN|   85000.0|        TX|   799xx|    USA|    A|       A5|    Source Verified|       272384.0|      Individual|            null|                     null|\n",
      "|e5a140c0922b554b9...|community living ...|   6 years|          RENT|   48000.0|        NY|   146xx|    USA|    B|       B2|    Source Verified|        85092.0|      Individual|            null|                     null|\n",
      "|e12aefc548f750777...|              Office| 10+ years|           OWN|   33000.0|        CT|   067xx|    USA|    F|       F1|           Verified|         7100.0|      Individual|            null|                     null|\n",
      "|1b3a50d854fbbf97e...|Special Tooling I...| 10+ years|      MORTGAGE|   81000.0|        TX|   791xx|    USA|    E|       E5|           Verified|       190274.0|      Individual|            null|                     null|\n",
      "+--------------------+--------------------+----------+--------------+----------+----------+--------+-------+-----+---------+-------------------+---------------+----------------+----------------+-------------------------+\n",
      "only showing top 5 rows\n",
      "\n"
     ]
    }
   ],
   "source": [
    "# Peek at the loaded DataFrame\n",
    "customers_raw_df.show(5)"
   ]
  },
  {
   "cell_type": "code",
   "execution_count": 5,
   "id": "b2778bab",
   "metadata": {},
   "outputs": [
    {
     "name": "stdout",
     "output_type": "stream",
     "text": [
      "root\n",
      " |-- member_id: string (nullable = true)\n",
      " |-- emp_title: string (nullable = true)\n",
      " |-- emp_length: string (nullable = true)\n",
      " |-- home_ownership: string (nullable = true)\n",
      " |-- annual_inc: float (nullable = true)\n",
      " |-- addr_state: string (nullable = true)\n",
      " |-- zip_code: string (nullable = true)\n",
      " |-- country: string (nullable = true)\n",
      " |-- grade: string (nullable = true)\n",
      " |-- sub_grade: string (nullable = true)\n",
      " |-- verification_status: string (nullable = true)\n",
      " |-- tot_hi_cred_lim: float (nullable = true)\n",
      " |-- application_type: string (nullable = true)\n",
      " |-- annual_inc_joint: float (nullable = true)\n",
      " |-- verification_status_joint: string (nullable = true)\n",
      "\n"
     ]
    }
   ],
   "source": [
    "# verify the schema\n",
    "customers_raw_df.printSchema()"
   ]
  },
  {
   "cell_type": "markdown",
   "id": "1d0a2722",
   "metadata": {},
   "source": [
    "#### 3. RENAME COLUMNS FOR CLARITY"
   ]
  },
  {
   "cell_type": "code",
   "execution_count": 6,
   "id": "ac0fc1f3",
   "metadata": {},
   "outputs": [],
   "source": [
    "customer_df_renamed = customers_raw_df.withColumnRenamed(\"annual_inc\", \"annual_income\") \\\n",
    ".withColumnRenamed(\"addr_state\", \"address_state\") \\\n",
    ".withColumnRenamed(\"zip_code\", \"address_zipcode\") \\\n",
    ".withColumnRenamed(\"country\", \"address_country\") \\\n",
    ".withColumnRenamed(\"tot_hi_credit_lim\", \"total_high_credit_limit\") \\\n",
    ".withColumnRenamed(\"annual_inc_joint\", \"join_annual_income\")"
   ]
  },
  {
   "cell_type": "code",
   "execution_count": 7,
   "id": "5bf84167",
   "metadata": {},
   "outputs": [
    {
     "name": "stdout",
     "output_type": "stream",
     "text": [
      "+--------------------+--------------+----------+--------------+-------------+-------------+---------------+---------------+-----+---------+-------------------+---------------+----------------+------------------+-------------------------+\n",
      "|           member_id|     emp_title|emp_length|home_ownership|annual_income|address_state|address_zipcode|address_country|grade|sub_grade|verification_status|tot_hi_cred_lim|application_type|join_annual_income|verification_status_joint|\n",
      "+--------------------+--------------+----------+--------------+-------------+-------------+---------------+---------------+-----+---------+-------------------+---------------+----------------+------------------+-------------------------+\n",
      "|b59d80da191f5b573...|          null|      null|          RENT|      50000.0|           OR|          973xx|            USA|    A|       A5|    Source Verified|         8600.0|      Individual|              null|                     null|\n",
      "|202d9f56ecb7c3bc9...|police officer|   7 years|           OWN|      85000.0|           TX|          799xx|            USA|    A|       A5|    Source Verified|       272384.0|      Individual|              null|                     null|\n",
      "+--------------------+--------------+----------+--------------+-------------+-------------+---------------+---------------+-----+---------+-------------------+---------------+----------------+------------------+-------------------------+\n",
      "only showing top 2 rows\n",
      "\n"
     ]
    }
   ],
   "source": [
    "customer_df_renamed.show(2)"
   ]
  },
  {
   "cell_type": "markdown",
   "id": "855e700a",
   "metadata": {},
   "source": [
    "#### 4. ADD INGESTION TIMESTAMP"
   ]
  },
  {
   "cell_type": "code",
   "execution_count": 8,
   "id": "a136acd1",
   "metadata": {},
   "outputs": [
    {
     "name": "stdout",
     "output_type": "stream",
     "text": [
      "+--------------------+--------------------+----------+--------------+-------------+-------------+---------------+---------------+-----+---------+-------------------+---------------+----------------+------------------+-------------------------+--------------------+\n",
      "|           member_id|           emp_title|emp_length|home_ownership|annual_income|address_state|address_zipcode|address_country|grade|sub_grade|verification_status|tot_hi_cred_lim|application_type|join_annual_income|verification_status_joint|         ingest_date|\n",
      "+--------------------+--------------------+----------+--------------+-------------+-------------+---------------+---------------+-----+---------+-------------------+---------------+----------------+------------------+-------------------------+--------------------+\n",
      "|b59d80da191f5b573...|                null|      null|          RENT|      50000.0|           OR|          973xx|            USA|    A|       A5|    Source Verified|         8600.0|      Individual|              null|                     null|2025-04-29 05:58:...|\n",
      "|202d9f56ecb7c3bc9...|      police officer|   7 years|           OWN|      85000.0|           TX|          799xx|            USA|    A|       A5|    Source Verified|       272384.0|      Individual|              null|                     null|2025-04-29 05:58:...|\n",
      "|e5a140c0922b554b9...|community living ...|   6 years|          RENT|      48000.0|           NY|          146xx|            USA|    B|       B2|    Source Verified|        85092.0|      Individual|              null|                     null|2025-04-29 05:58:...|\n",
      "|e12aefc548f750777...|              Office| 10+ years|           OWN|      33000.0|           CT|          067xx|            USA|    F|       F1|           Verified|         7100.0|      Individual|              null|                     null|2025-04-29 05:58:...|\n",
      "|1b3a50d854fbbf97e...|Special Tooling I...| 10+ years|      MORTGAGE|      81000.0|           TX|          791xx|            USA|    E|       E5|           Verified|       190274.0|      Individual|              null|                     null|2025-04-29 05:58:...|\n",
      "+--------------------+--------------------+----------+--------------+-------------+-------------+---------------+---------------+-----+---------+-------------------+---------------+----------------+------------------+-------------------------+--------------------+\n",
      "only showing top 5 rows\n",
      "\n"
     ]
    }
   ],
   "source": [
    "from pyspark.sql.functions import current_timestamp\n",
    "\n",
    "# Tag each row with the timestamp when we ingested it\n",
    "customers_df_ingestd = customer_df_renamed.withColumn(\"ingest_date\", current_timestamp())\n",
    "customers_df_ingestd.show(5)"
   ]
  },
  {
   "cell_type": "code",
   "execution_count": 9,
   "id": "458772dd",
   "metadata": {},
   "outputs": [
    {
     "name": "stdout",
     "output_type": "stream",
     "text": [
      "Total rows before dedup: 2260701\n"
     ]
    }
   ],
   "source": [
    "# Quick counts before deduplication\n",
    "print(\"Total rows before dedup:\", customers_df_ingestd.count())"
   ]
  },
  {
   "cell_type": "markdown",
   "id": "055ed08d",
   "metadata": {},
   "source": [
    "#### 5. DEDUPLICATE"
   ]
  },
  {
   "cell_type": "code",
   "execution_count": 10,
   "id": "d0e70dea",
   "metadata": {},
   "outputs": [
    {
     "name": "stdout",
     "output_type": "stream",
     "text": [
      "Total rows after dedup: 2260638\n"
     ]
    }
   ],
   "source": [
    "customers_distinct = customers_df_ingestd.distinct()\n",
    "print(\"Total rows after dedup:\", customers_distinct.count())"
   ]
  },
  {
   "cell_type": "code",
   "execution_count": 11,
   "id": "1a913fd9",
   "metadata": {},
   "outputs": [],
   "source": [
    "# Make a SQL view for the next steps\n",
    "customers_distinct.createOrReplaceTempView(\"customers\")"
   ]
  },
  {
   "cell_type": "markdown",
   "id": "2c79831c",
   "metadata": {},
   "source": [
    "#### 6. FILTER OUT MISSING ANNUAL INCOME"
   ]
  },
  {
   "cell_type": "code",
   "execution_count": 12,
   "id": "073b5b9a",
   "metadata": {},
   "outputs": [
    {
     "name": "stdout",
     "output_type": "stream",
     "text": [
      "+--------+\n",
      "|count(1)|\n",
      "+--------+\n",
      "|       5|\n",
      "+--------+\n",
      "\n"
     ]
    }
   ],
   "source": [
    "# How many have null annual_income?\n",
    "spark.sql(\"select count(*) from customers where annual_income is null\").show()"
   ]
  },
  {
   "cell_type": "code",
   "execution_count": 13,
   "id": "d533bf16",
   "metadata": {},
   "outputs": [],
   "source": [
    "# Keep only those with a valid annual_income\n",
    "customers_income_filtered = spark.sql(\"\"\"\n",
    "    select * from customers\n",
    "    where annual_income is not null\n",
    "\"\"\")"
   ]
  },
  {
   "cell_type": "code",
   "execution_count": 14,
   "id": "38d70619",
   "metadata": {},
   "outputs": [],
   "source": [
    "customers_income_filtered.createOrReplaceTempView(\"customers\")"
   ]
  },
  {
   "cell_type": "code",
   "execution_count": 15,
   "id": "10aa317b",
   "metadata": {},
   "outputs": [
    {
     "data": {
      "text/html": [
       "<table border='1'>\n",
       "<tr><th>member_id</th><th>emp_title</th><th>emp_length</th><th>home_ownership</th><th>annual_income</th><th>address_state</th><th>address_zipcode</th><th>address_country</th><th>grade</th><th>sub_grade</th><th>verification_status</th><th>tot_hi_cred_lim</th><th>application_type</th><th>join_annual_income</th><th>verification_status_joint</th><th>ingest_date</th></tr>\n",
       "<tr><td>c4859e0784796249c...</td><td>Maintenance</td><td>5 years</td><td>MORTGAGE</td><td>35000.0</td><td>WA</td><td>985xx</td><td>USA</td><td>C</td><td>C3</td><td>Verified</td><td>100738.0</td><td>Individual</td><td>null</td><td>null</td><td>2025-04-29 05:58:...</td></tr>\n",
       "<tr><td>7b1944fca4bfea51d...</td><td>Assistant Store M...</td><td>8 years</td><td>MORTGAGE</td><td>59000.0</td><td>AZ</td><td>857xx</td><td>USA</td><td>D</td><td>D4</td><td>Source Verified</td><td>81431.0</td><td>Individual</td><td>null</td><td>null</td><td>2025-04-29 05:58:...</td></tr>\n",
       "<tr><td>2f8508959b2c820c7...</td><td>PURCHASING AGENT</td><td>10+ years</td><td>MORTGAGE</td><td>58000.0</td><td>FL</td><td>321xx</td><td>USA</td><td>B</td><td>B3</td><td>Source Verified</td><td>101925.0</td><td>Individual</td><td>null</td><td>null</td><td>2025-04-29 05:58:...</td></tr>\n",
       "<tr><td>94f56a6900da95ab7...</td><td>null</td><td>null</td><td>OWN</td><td>13842.0</td><td>OR</td><td>971xx</td><td>USA</td><td>B</td><td>B4</td><td>Verified</td><td>13100.0</td><td>Individual</td><td>null</td><td>null</td><td>2025-04-29 05:58:...</td></tr>\n",
       "<tr><td>c8ece305f5d43e4fd...</td><td>Legal Assistant</td><td>7 years</td><td>RENT</td><td>57000.0</td><td>FL</td><td>331xx</td><td>USA</td><td>D</td><td>D4</td><td>Verified</td><td>37114.0</td><td>Individual</td><td>null</td><td>null</td><td>2025-04-29 05:58:...</td></tr>\n",
       "</table>\n"
      ],
      "text/plain": [
       "+--------------------+--------------------+----------+--------------+-------------+-------------+---------------+---------------+-----+---------+-------------------+---------------+----------------+------------------+-------------------------+--------------------+\n",
       "|           member_id|           emp_title|emp_length|home_ownership|annual_income|address_state|address_zipcode|address_country|grade|sub_grade|verification_status|tot_hi_cred_lim|application_type|join_annual_income|verification_status_joint|         ingest_date|\n",
       "+--------------------+--------------------+----------+--------------+-------------+-------------+---------------+---------------+-----+---------+-------------------+---------------+----------------+------------------+-------------------------+--------------------+\n",
       "|1c47f80b34bdee142...|                null|      null|      MORTGAGE|      63000.0|           MO|          630xx|            USA|    D|       D3|    Source Verified|       100058.0|       Joint App|           77000.0|          Source Verified|2025-04-29 05:58:...|\n",
       "|5dc37872b1cd1923d...|Administrative As...|    1 year|           OWN|      38000.0|           CO|          809xx|            USA|    A|       A5|    Source Verified|       287600.0|      Individual|              null|                     null|2025-04-29 05:58:...|\n",
       "|2db692ed4725f7a16...|       VP Compliance|   5 years|      MORTGAGE|     124000.0|           TX|          752xx|            USA|    D|       D3|           Verified|       400009.0|      Individual|              null|                     null|2025-04-29 05:58:...|\n",
       "|202d268539c68dfda...|    dental assistant| 10+ years|          RENT|      20000.0|           CA|          928xx|            USA|    C|       C5|       Not Verified|        45600.0|      Individual|              null|                     null|2025-04-29 05:58:...|\n",
       "|efc117bc897ebf8c8...|Lead Pharmacy Tec...| 10+ years|          RENT|      31027.0|           FL|          326xx|            USA|    D|       D1|       Not Verified|        81545.0|       Joint App|           88627.0|             Not Verified|2025-04-29 05:58:...|\n",
       "+--------------------+--------------------+----------+--------------+-------------+-------------+---------------+---------------+-----+---------+-------------------+---------------+----------------+------------------+-------------------------+--------------------+"
      ]
     },
     "execution_count": 15,
     "metadata": {},
     "output_type": "execute_result"
    }
   ],
   "source": [
    "spark.sql('select * from customers limit 5')"
   ]
  },
  {
   "cell_type": "markdown",
   "id": "e9df3bb8",
   "metadata": {},
   "source": [
    "#### 7. CLEAN EMPLOYMENT LENGTH"
   ]
  },
  {
   "cell_type": "code",
   "execution_count": 16,
   "id": "97529a12",
   "metadata": {},
   "outputs": [
    {
     "name": "stdout",
     "output_type": "stream",
     "text": [
      "+----------+\n",
      "|emp_length|\n",
      "+----------+\n",
      "|   5 years|\n",
      "|   9 years|\n",
      "|      null|\n",
      "|    1 year|\n",
      "|   2 years|\n",
      "|   7 years|\n",
      "|   8 years|\n",
      "|   4 years|\n",
      "|   6 years|\n",
      "|   3 years|\n",
      "| 10+ years|\n",
      "|  < 1 year|\n",
      "+----------+\n",
      "\n"
     ]
    }
   ],
   "source": [
    "# See what values exist\n",
    "spark.sql(\"select distinct(emp_length) from customers\").show()"
   ]
  },
  {
   "cell_type": "code",
   "execution_count": 17,
   "id": "48ae906a",
   "metadata": {},
   "outputs": [],
   "source": [
    "from pyspark.sql.functions import regexp_replace, col\n",
    "\n",
    "# Strip out any non-digits (e.g. '10+ years' → '10')\n",
    "customers_emplength_cleaned = customers_income_filtered.withColumn(\n",
    "    \"emp_length\",\n",
    "    regexp_replace(col(\"emp_length\"), \"\\D\", \"\"))"
   ]
  },
  {
   "cell_type": "code",
   "execution_count": 18,
   "id": "d5a1858b",
   "metadata": {},
   "outputs": [],
   "source": [
    "# Cast the cleaned string to integer\n",
    "customers_emplength_casted = customers_emplength_cleaned.withColumn(\n",
    "    \"emp_length\",\n",
    "    customers_emplength_cleaned.emp_length.cast(\"int\")\n",
    ")"
   ]
  },
  {
   "cell_type": "code",
   "execution_count": 19,
   "id": "ea5a12cb",
   "metadata": {},
   "outputs": [
    {
     "name": "stdout",
     "output_type": "stream",
     "text": [
      "Null emp_length after cast: 146903\n"
     ]
    }
   ],
   "source": [
    "# Check how many ended up null after cast\n",
    "print(\"Null emp_length after cast:\", \n",
    "      customers_emplength_casted.filter(\"emp_length is null\").count())\n"
   ]
  },
  {
   "cell_type": "code",
   "execution_count": 20,
   "id": "501b4917",
   "metadata": {},
   "outputs": [],
   "source": [
    "# Make a SQL table for the next steps\n",
    "customers_emplength_casted.createOrReplaceTempView(\"customers\")"
   ]
  },
  {
   "cell_type": "code",
   "execution_count": 21,
   "id": "8665a0f2",
   "metadata": {},
   "outputs": [],
   "source": [
    "# Compute the average (floored) and fill nulls\n",
    "avg_emp_length = spark.sql(\"select floor(avg(emp_length)) as avg_emp_length from customers\") \\\n",
    "                     .collect()[0][0]"
   ]
  },
  {
   "cell_type": "code",
   "execution_count": 22,
   "id": "7c5e3ffb",
   "metadata": {},
   "outputs": [],
   "source": [
    "customers_emplength_replaced = customers_emplength_casted.na.fill(\n",
    "    avg_emp_length, subset=[\"emp_length\"]\n",
    ")"
   ]
  },
  {
   "cell_type": "code",
   "execution_count": 23,
   "id": "be8661e4",
   "metadata": {},
   "outputs": [
    {
     "data": {
      "text/html": [
       "<table border='1'>\n",
       "<tr><th>member_id</th><th>emp_title</th><th>emp_length</th><th>home_ownership</th><th>annual_income</th><th>address_state</th><th>address_zipcode</th><th>address_country</th><th>grade</th><th>sub_grade</th><th>verification_status</th><th>tot_hi_cred_lim</th><th>application_type</th><th>join_annual_income</th><th>verification_status_joint</th><th>ingest_date</th></tr>\n",
       "<tr><td>15488f69316884648...</td><td>Project Manager</td><td>4</td><td>RENT</td><td>105000.0</td><td>CT</td><td>067xx</td><td>USA</td><td>C</td><td>C4</td><td>Not Verified</td><td>195676.0</td><td>Individual</td><td>null</td><td>null</td><td>2025-04-29 05:59:...</td></tr>\n",
       "<tr><td>0cf35c04342ac1525...</td><td>F&amp;B Event Manager</td><td>2</td><td>RENT</td><td>45000.0</td><td>HI</td><td>968xx</td><td>USA</td><td>C</td><td>C5</td><td>Not Verified</td><td>33090.0</td><td>Individual</td><td>null</td><td>null</td><td>2025-04-29 05:59:...</td></tr>\n",
       "<tr><td>a77753d35eeb079e1...</td><td>senior digital sp...</td><td>6</td><td>MORTGAGE</td><td>52000.0</td><td>MD</td><td>212xx</td><td>USA</td><td>B</td><td>B4</td><td>Not Verified</td><td>40703.0</td><td>Individual</td><td>null</td><td>null</td><td>2025-04-29 05:59:...</td></tr>\n",
       "<tr><td>f4d2acc9dc6faf0a1...</td><td>kitchen designer</td><td>10</td><td>MORTGAGE</td><td>40000.0</td><td>FL</td><td>349xx</td><td>USA</td><td>A</td><td>A5</td><td>Not Verified</td><td>100511.0</td><td>Individual</td><td>null</td><td>null</td><td>2025-04-29 05:59:...</td></tr>\n",
       "<tr><td>475d66adaa01cfa83...</td><td>Administrator</td><td>1</td><td>OWN</td><td>25000.0</td><td>NY</td><td>105xx</td><td>USA</td><td>A</td><td>A2</td><td>Not Verified</td><td>36551.0</td><td>Individual</td><td>null</td><td>null</td><td>2025-04-29 05:59:...</td></tr>\n",
       "</table>\n"
      ],
      "text/plain": [
       "+--------------------+--------------------+----------+--------------+-------------+-------------+---------------+---------------+-----+---------+-------------------+---------------+----------------+------------------+-------------------------+--------------------+\n",
       "|           member_id|           emp_title|emp_length|home_ownership|annual_income|address_state|address_zipcode|address_country|grade|sub_grade|verification_status|tot_hi_cred_lim|application_type|join_annual_income|verification_status_joint|         ingest_date|\n",
       "+--------------------+--------------------+----------+--------------+-------------+-------------+---------------+---------------+-----+---------+-------------------+---------------+----------------+------------------+-------------------------+--------------------+\n",
       "|07ccada9751985225...|National Training...|         6|      MORTGAGE|     110000.0|           OK|          741xx|            USA|    B|       B2|       Not Verified|       178941.0|      Individual|              null|                     null|2025-04-29 05:59:...|\n",
       "|c22ae2c729a3a9755...|             Quality|         1|      MORTGAGE|      89000.0|           AZ|          853xx|            USA|    A|       A1|       Not Verified|       228440.0|      Individual|              null|                     null|2025-04-29 05:59:...|\n",
       "|f36556b0d7c01b570...|Principal Electri...|         2|           OWN|      93600.0|           OH|          440xx|            USA|    A|       A1|       Not Verified|       111920.0|      Individual|              null|                     null|2025-04-29 05:59:...|\n",
       "|a32f95ea36ae51361...|             Courier|        10|      MORTGAGE|      75000.0|           CA|          932xx|            USA|    C|       C2|    Source Verified|       382350.0|      Individual|              null|                     null|2025-04-29 05:59:...|\n",
       "|f98ad161fa5f453f7...|           Warehouse|         3|          RENT|      30160.0|           TX|          752xx|            USA|    E|       E5|           Verified|        48761.0|       Joint App|           90160.0|                 Verified|2025-04-29 05:59:...|\n",
       "+--------------------+--------------------+----------+--------------+-------------+-------------+---------------+---------------+-----+---------+-------------------+---------------+----------------+------------------+-------------------------+--------------------+"
      ]
     },
     "execution_count": 23,
     "metadata": {},
     "output_type": "execute_result"
    }
   ],
   "source": [
    "customers_emplength_replaced.createOrReplaceTempView(\"customers\")\n",
    "spark.sql('select * from customers limit 5')"
   ]
  },
  {
   "cell_type": "code",
   "execution_count": 24,
   "id": "7f3b6daf",
   "metadata": {},
   "outputs": [
    {
     "data": {
      "text/plain": [
       "0"
      ]
     },
     "execution_count": 24,
     "metadata": {},
     "output_type": "execute_result"
    }
   ],
   "source": [
    "# checking any null values in emp_length column\n",
    "customers_emplength_replaced.filter('emp_length is null').count()"
   ]
  },
  {
   "cell_type": "markdown",
   "id": "9b71a08b",
   "metadata": {},
   "source": [
    "#### 8. CLEAN ADDRESS STATE CODES"
   ]
  },
  {
   "cell_type": "code",
   "execution_count": 25,
   "id": "7f834582",
   "metadata": {},
   "outputs": [
    {
     "name": "stdout",
     "output_type": "stream",
     "text": [
      "+--------------------+\n",
      "|       address_state|\n",
      "+--------------------+\n",
      "|Helping Kenya's D...|\n",
      "|175 (total projec...|\n",
      "|               223xx|\n",
      "|                  AZ|\n",
      "|                  SC|\n",
      "|I am 56 yrs. old ...|\n",
      "|so Plan \"\"C\"\" is ...|\n",
      "|financially I mad...|\n",
      "|but no one will l...|\n",
      "|                  LA|\n",
      "|         etc.  First|\n",
      "|                  MN|\n",
      "|               850xx|\n",
      "|yet Capital One n...|\n",
      "|               499xx|\n",
      "|Advocate business...|\n",
      "|Eliminating Credi...|\n",
      "|and MBA's are ove...|\n",
      "|               951xx|\n",
      "|I the credit card...|\n",
      "+--------------------+\n",
      "only showing top 20 rows\n",
      "\n"
     ]
    }
   ],
   "source": [
    "# Inspect distinct state codes and length issues\n",
    "spark.sql(\"select distinct(address_state) from customers\").show()"
   ]
  },
  {
   "cell_type": "code",
   "execution_count": 26,
   "id": "2ebfa510",
   "metadata": {},
   "outputs": [
    {
     "name": "stdout",
     "output_type": "stream",
     "text": [
      "+--------+\n",
      "|count(1)|\n",
      "+--------+\n",
      "|     254|\n",
      "+--------+\n",
      "\n"
     ]
    }
   ],
   "source": [
    "spark.sql(\"select count(*) from customers where length(address_state) > 2\").show()"
   ]
  },
  {
   "cell_type": "code",
   "execution_count": 27,
   "id": "07920dba",
   "metadata": {},
   "outputs": [],
   "source": [
    "from pyspark.sql.functions import when, length\n",
    "\n",
    "# Replace any code longer than 2 chars with 'NA'\n",
    "customers_state_cleaned = customers_emplength_replaced.withColumn(\n",
    "    \"address_state\",\n",
    "    when(length(col(\"address_state\")) > 2, \"NA\")\n",
    "     .otherwise(col(\"address_state\"))\n",
    ")"
   ]
  },
  {
   "cell_type": "code",
   "execution_count": 28,
   "id": "833d58bc",
   "metadata": {},
   "outputs": [
    {
     "data": {
      "text/html": [
       "<table border='1'>\n",
       "<tr><th>address_state</th></tr>\n",
       "<tr><td>AZ</td></tr>\n",
       "<tr><td>SC</td></tr>\n",
       "<tr><td>LA</td></tr>\n",
       "<tr><td>MN</td></tr>\n",
       "<tr><td>NJ</td></tr>\n",
       "<tr><td>DC</td></tr>\n",
       "<tr><td>OR</td></tr>\n",
       "<tr><td>NA</td></tr>\n",
       "<tr><td>VA</td></tr>\n",
       "<tr><td>null</td></tr>\n",
       "<tr><td>RI</td></tr>\n",
       "<tr><td>WY</td></tr>\n",
       "<tr><td>KY</td></tr>\n",
       "<tr><td>NH</td></tr>\n",
       "<tr><td>MI</td></tr>\n",
       "<tr><td>NV</td></tr>\n",
       "<tr><td>WI</td></tr>\n",
       "<tr><td>ID</td></tr>\n",
       "<tr><td>CA</td></tr>\n",
       "<tr><td>NE</td></tr>\n",
       "</table>\n",
       "only showing top 20 rows\n"
      ],
      "text/plain": [
       "+-------------+\n",
       "|address_state|\n",
       "+-------------+\n",
       "|           AZ|\n",
       "|           SC|\n",
       "|           LA|\n",
       "|           MN|\n",
       "|           NJ|\n",
       "|           DC|\n",
       "|           OR|\n",
       "|           NA|\n",
       "|           VA|\n",
       "|         null|\n",
       "|           RI|\n",
       "|           KY|\n",
       "|           WY|\n",
       "|           NH|\n",
       "|           MI|\n",
       "|           NV|\n",
       "|           WI|\n",
       "|           ID|\n",
       "|           CA|\n",
       "|           CT|\n",
       "+-------------+\n",
       "only showing top 20 rows"
      ]
     },
     "execution_count": 28,
     "metadata": {},
     "output_type": "execute_result"
    }
   ],
   "source": [
    "customers_state_cleaned.select(\"address_state\").distinct()"
   ]
  },
  {
   "cell_type": "markdown",
   "id": "038a8fc3",
   "metadata": {},
   "source": [
    "#### 9. SAVE CLEANED DATA"
   ]
  },
  {
   "cell_type": "code",
   "execution_count": 29,
   "id": "19942935",
   "metadata": {},
   "outputs": [],
   "source": [
    "# Write out parquet (efficient for downstream processing)\n",
    "customers_state_cleaned.write \\\n",
    "    .format(\"parquet\") \\\n",
    "    .mode(\"overwrite\") \\\n",
    "    .option(\"path\", \"/user/itv017499/lendingclubproject/cleaned/customers_parquet\") \\\n",
    "    .save()"
   ]
  },
  {
   "cell_type": "code",
   "execution_count": null,
   "id": "72aa8a4a",
   "metadata": {},
   "outputs": [],
   "source": []
  }
 ],
 "metadata": {
  "kernelspec": {
   "display_name": "Pyspark 3",
   "language": "python",
   "name": "pyspark3"
  },
  "language_info": {
   "codemirror_mode": {
    "name": "ipython",
    "version": 3
   },
   "file_extension": ".py",
   "mimetype": "text/x-python",
   "name": "python",
   "nbconvert_exporter": "python",
   "pygments_lexer": "ipython3",
   "version": "3.6.12"
  }
 },
 "nbformat": 4,
 "nbformat_minor": 5
}
