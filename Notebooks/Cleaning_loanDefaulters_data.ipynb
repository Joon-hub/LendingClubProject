{
 "cells": [
  {
   "cell_type": "markdown",
   "id": "11a088c1",
   "metadata": {},
   "source": [
    "#### Data cleaning plan for loan-defaulters dataset\n",
    "\n",
    "1. **Initialize SparkSession**\n",
    "\n",
    "2. **Define defaulters schema**\n",
    "\n",
    "3. **Load raw loan-defaulters CSV**\n",
    "   - Set `header=True`\n",
    "   - Apply predefined schema\n",
    "\n",
    "4. **Inspect raw DataFrame**\n",
    "   - Show sample rows\n",
    "   - Print schema\n",
    "\n",
    "5. **Create temporary view** `\"loan_defaulters\"`\n",
    "\n",
    "6. **Explore `delinq_2yrs`**\n",
    "   - List distinct values\n",
    "   - Count by value\n",
    "\n",
    "7. **Clean `delinq_2yrs`**\n",
    "   - Cast to `Integer`\n",
    "   - Fill nulls with `0`\n",
    "\n",
    "8. **Re-register temp view**\n",
    "\n",
    "9. **Validate no nulls remain in `delinq_2yrs`**\n",
    "\n",
    "10. **Filter primary defaulters**\n",
    "    - Keep rows where `delinq_2yrs > 0` OR `mths_since_last_delinq > 0`\n",
    "\n",
    "11. **Count defaulter records**\n",
    "\n",
    "12. **Filter all records with credit issues**\n",
    "    - Condition:\n",
    "      ```\n",
    "      delinq_2yrs > 0  \n",
    "      OR pub_rec_bankruptcies > 0  \n",
    "      OR inq_last_6mths > 0\n",
    "      ```\n",
    "\n",
    "13. **Count those “enforcement” records**\n",
    "\n",
    "14. **Save both DataFrames**\n",
    "    - Parquet → `/user/itv006277/lendingclubproject/raw/cleaned/loans_defaulters_parquet`\n",
    "    - CSV → `/user/itv006277/lendingclubproject/raw/cleaned/loans_defaulters_csv`\n"
   ]
  },
  {
   "cell_type": "markdown",
   "id": "5505e10e",
   "metadata": {},
   "source": [
    "### 1. Initialize SparkSession"
   ]
  },
  {
   "cell_type": "code",
   "execution_count": 1,
   "id": "2e636361",
   "metadata": {},
   "outputs": [],
   "source": [
    "from pyspark.sql import SparkSession\n",
    "import getpass\n",
    "\n",
    "# Use OS username for a user-specific warehouse directory\n",
    "username = getpass.getuser()\n",
    "\n",
    "spark = (\n",
    "    SparkSession.builder\n",
    "      .config('spark.ui.port', '0')\n",
    "      .config('spark.sql.warehouse.dir', f\"/user/{username}/warehouse\")\n",
    "      .config('spark.shuffle.useOldFetchProtocol', 'true')\n",
    "      .enableHiveSupport()\n",
    "      .master('yarn')\n",
    "      .getOrCreate()\n",
    ")"
   ]
  },
  {
   "cell_type": "markdown",
   "id": "c6e0a25b",
   "metadata": {},
   "source": [
    "### 2. Define defaulters schema"
   ]
  },
  {
   "cell_type": "code",
   "execution_count": 2,
   "id": "61b82e2a",
   "metadata": {},
   "outputs": [],
   "source": [
    "# Exact column names & types for defaulters dataset\n",
    "loan_defaulters_schema = \"\"\"\n",
    "    member_id string,\n",
    "    delinq_2yrs float,\n",
    "    delinq_amnt float,\n",
    "    pub_rec float,\n",
    "    pub_rec_bankruptcies float,\n",
    "    inq_last_6mths float,\n",
    "    total_rec_late_fee float,\n",
    "    mths_since_last_delinq float,\n",
    "    mths_since_last_record float\n",
    "\"\"\"\n"
   ]
  },
  {
   "cell_type": "markdown",
   "id": "209f73df",
   "metadata": {},
   "source": [
    "### 3. Load raw loan‑defaulters CSV"
   ]
  },
  {
   "cell_type": "code",
   "execution_count": 3,
   "id": "c8c4d28f",
   "metadata": {},
   "outputs": [
    {
     "name": "stdout",
     "output_type": "stream",
     "text": [
      "+--------------------+-----------+-----------+-------+--------------------+--------------+------------------+----------------------+----------------------+\n",
      "|           member_id|delinq_2yrs|delinq_amnt|pub_rec|pub_rec_bankruptcies|inq_last_6mths|total_rec_late_fee|mths_since_last_delinq|mths_since_last_record|\n",
      "+--------------------+-----------+-----------+-------+--------------------+--------------+------------------+----------------------+----------------------+\n",
      "|9cb79aa7323e81be1...|        2.0|        0.0|    0.0|                 0.0|           0.0|               0.0|                  11.0|                  null|\n",
      "|0dd2bbc517e3c8f9e...|        0.0|        0.0|    1.0|                 1.0|           3.0|               0.0|                  null|                 115.0|\n",
      "|458458599d3df3bfc...|        0.0|        0.0|    1.0|                 1.0|           1.0|               0.0|                  null|                  76.0|\n",
      "|05ea141ec28b5c7f7...|        0.0|        0.0|    0.0|                 0.0|           0.0|               0.0|                  null|                  null|\n",
      "|aac68850fdac09fd0...|        1.0|        0.0|    0.0|                 0.0|           0.0|               0.0|                  21.0|                  null|\n",
      "+--------------------+-----------+-----------+-------+--------------------+--------------+------------------+----------------------+----------------------+\n",
      "only showing top 5 rows\n",
      "\n"
     ]
    }
   ],
   "source": [
    "loans_def_raw_df = (\n",
    "    spark.read\n",
    "      .format(\"csv\")\n",
    "      .option(\"header\", True)                    \n",
    "      .schema(loan_defaulters_schema)           \n",
    "      .load(\"/public/trendytech/lendingclubproject/raw/loans_defaulters_csv\")\n",
    ")\n",
    "\n",
    "# Quick look at data\n",
    "loans_def_raw_df.show(5)\n"
   ]
  },
  {
   "cell_type": "markdown",
   "id": "0da902d5",
   "metadata": {},
   "source": [
    "### 4. Inspect raw DataFrame\n"
   ]
  },
  {
   "cell_type": "code",
   "execution_count": 4,
   "id": "c1935ed6",
   "metadata": {},
   "outputs": [
    {
     "name": "stdout",
     "output_type": "stream",
     "text": [
      "root\n",
      " |-- member_id: string (nullable = true)\n",
      " |-- delinq_2yrs: float (nullable = true)\n",
      " |-- delinq_amnt: float (nullable = true)\n",
      " |-- pub_rec: float (nullable = true)\n",
      " |-- pub_rec_bankruptcies: float (nullable = true)\n",
      " |-- inq_last_6mths: float (nullable = true)\n",
      " |-- total_rec_late_fee: float (nullable = true)\n",
      " |-- mths_since_last_delinq: float (nullable = true)\n",
      " |-- mths_since_last_record: float (nullable = true)\n",
      "\n"
     ]
    }
   ],
   "source": [
    "# Verify the column types and nullability\n",
    "loans_def_raw_df.printSchema()\n"
   ]
  },
  {
   "cell_type": "markdown",
   "id": "ab017343",
   "metadata": {},
   "source": [
    "### 5. Create temporary view \"loan_defaulters\"\n"
   ]
  },
  {
   "cell_type": "code",
   "execution_count": 5,
   "id": "e75ad814",
   "metadata": {},
   "outputs": [],
   "source": [
    "loans_def_raw_df.createOrReplaceTempView(\"loan_defaulters\")"
   ]
  },
  {
   "cell_type": "markdown",
   "id": "fba93f81",
   "metadata": {},
   "source": [
    "### 6. Explore `delinq_2yrs`"
   ]
  },
  {
   "cell_type": "code",
   "execution_count": 6,
   "id": "3ce3c7bc",
   "metadata": {},
   "outputs": [
    {
     "name": "stdout",
     "output_type": "stream",
     "text": [
      "+-----------+\n",
      "|delinq_2yrs|\n",
      "+-----------+\n",
      "|      20.04|\n",
      "|      18.53|\n",
      "|       18.0|\n",
      "|      26.24|\n",
      "|       6.52|\n",
      "|        9.0|\n",
      "|      21.72|\n",
      "|      17.17|\n",
      "|       58.0|\n",
      "|        5.0|\n",
      "|       39.0|\n",
      "|       9.44|\n",
      "|       17.0|\n",
      "|       30.0|\n",
      "|       26.0|\n",
      "|       29.0|\n",
      "|       9.56|\n",
      "|       23.0|\n",
      "|       1.41|\n",
      "|      17.18|\n",
      "+-----------+\n",
      "only showing top 20 rows\n",
      "\n",
      "+-----------+-------+\n",
      "|delinq_2yrs|  total|\n",
      "+-----------+-------+\n",
      "|        0.0|1838878|\n",
      "|        1.0| 281335|\n",
      "|        2.0|  81285|\n",
      "|        3.0|  29539|\n",
      "|        4.0|  13179|\n",
      "|        5.0|   6599|\n",
      "|        6.0|   3717|\n",
      "|        7.0|   2062|\n",
      "|        8.0|   1223|\n",
      "|        9.0|    818|\n",
      "|       10.0|    556|\n",
      "|       11.0|    363|\n",
      "|       12.0|    264|\n",
      "|       null|    261|\n",
      "|       13.0|    165|\n",
      "|       14.0|    120|\n",
      "|       15.0|     87|\n",
      "|       16.0|     55|\n",
      "|       18.0|     30|\n",
      "|       17.0|     30|\n",
      "|       19.0|     23|\n",
      "|       20.0|     17|\n",
      "|       21.0|     12|\n",
      "|       22.0|      5|\n",
      "|       24.0|      4|\n",
      "|       26.0|      3|\n",
      "|       23.0|      2|\n",
      "|       25.0|      2|\n",
      "|       29.0|      2|\n",
      "|       3.44|      2|\n",
      "|       30.0|      2|\n",
      "|       1.41|      1|\n",
      "|       58.0|      1|\n",
      "|      20.04|      1|\n",
      "|      21.72|      1|\n",
      "|       9.44|      1|\n",
      "|      17.18|      1|\n",
      "|       5.52|      1|\n",
      "|      13.76|      1|\n",
      "|       3.45|      1|\n",
      "+-----------+-------+\n",
      "only showing top 40 rows\n",
      "\n"
     ]
    }
   ],
   "source": [
    "# Distinct values\n",
    "spark.sql(\"SELECT DISTINCT(delinq_2yrs) FROM loan_defaulters\").show()\n",
    "\n",
    "# Count by each distinct value\n",
    "spark.sql(\"\"\"\n",
    "    SELECT delinq_2yrs, COUNT(*) AS total\n",
    "      FROM loan_defaulters\n",
    "  GROUP BY delinq_2yrs\n",
    "  ORDER BY total DESC\n",
    "\"\"\").show(40)\n"
   ]
  },
  {
   "cell_type": "markdown",
   "id": "9a395321",
   "metadata": {},
   "source": [
    "### 7. Clean `delinq_2yrs`\n"
   ]
  },
  {
   "cell_type": "code",
   "execution_count": 7,
   "id": "6d1493d5",
   "metadata": {},
   "outputs": [],
   "source": [
    "from pyspark.sql.functions import col\n",
    "\n",
    "# Cast to integer and fill any nulls with 0\n",
    "loans_def_processed_df = (\n",
    "    loans_def_raw_df\n",
    "      .withColumn(\"delinq_2yrs\", col(\"delinq_2yrs\").cast(\"integer\"))\n",
    "      .fillna(0, subset=[\"delinq_2yrs\"])\n",
    ")\n",
    "\n",
    "# Update the view\n",
    "loans_def_processed_df.createOrReplaceTempView(\"loan_defaulters\")\n"
   ]
  },
  {
   "cell_type": "markdown",
   "id": "96782985",
   "metadata": {},
   "source": [
    "### 8. Re‑validate `delinq_2yrs` nulls"
   ]
  },
  {
   "cell_type": "code",
   "execution_count": 8,
   "id": "6ec32261",
   "metadata": {},
   "outputs": [
    {
     "name": "stdout",
     "output_type": "stream",
     "text": [
      "+--------+\n",
      "|count(1)|\n",
      "+--------+\n",
      "|       0|\n",
      "+--------+\n",
      "\n",
      "+-----------+-------+\n",
      "|delinq_2yrs|  total|\n",
      "+-----------+-------+\n",
      "|          0|1839141|\n",
      "|          1| 281337|\n",
      "|          2|  81285|\n",
      "|          3|  29545|\n",
      "|          4|  13180|\n",
      "|          5|   6601|\n",
      "|          6|   3719|\n",
      "|          7|   2063|\n",
      "|          8|   1226|\n",
      "|          9|    821|\n",
      "|         10|    558|\n",
      "|         11|    363|\n",
      "|         12|    266|\n",
      "|         13|    167|\n",
      "|         14|    123|\n",
      "|         15|     90|\n",
      "|         16|     56|\n",
      "|         17|     33|\n",
      "|         18|     32|\n",
      "|         19|     24|\n",
      "|         20|     19|\n",
      "|         21|     16|\n",
      "|         22|      7|\n",
      "|         24|      6|\n",
      "|         23|      5|\n",
      "|         26|      4|\n",
      "|         29|      2|\n",
      "|         25|      2|\n",
      "|         30|      2|\n",
      "|         27|      1|\n",
      "|         28|      1|\n",
      "|         58|      1|\n",
      "|         35|      1|\n",
      "|         39|      1|\n",
      "|         32|      1|\n",
      "|         42|      1|\n",
      "|         36|      1|\n",
      "+-----------+-------+\n",
      "\n"
     ]
    }
   ],
   "source": [
    "# Should be zero now\n",
    "spark.sql(\"SELECT COUNT(*) FROM loan_defaulters WHERE delinq_2yrs IS NULL\").show()\n",
    "\n",
    "# Re‑check distribution\n",
    "spark.sql(\"\"\"\n",
    "    SELECT delinq_2yrs, COUNT(*) AS total\n",
    "      FROM loan_defaulters\n",
    "  GROUP BY delinq_2yrs\n",
    "  ORDER BY total DESC\n",
    "\"\"\").show(40)\n"
   ]
  },
  {
   "cell_type": "markdown",
   "id": "5830b500",
   "metadata": {},
   "source": [
    "### 9. Filter primary defaulters"
   ]
  },
  {
   "cell_type": "code",
   "execution_count": 9,
   "id": "37ece862",
   "metadata": {},
   "outputs": [
    {
     "data": {
      "text/html": [
       "<table border='1'>\n",
       "<tr><th>member_id</th><th>delinq_2yrs</th><th>delinq_amnt</th><th>mths_since_last_delinq</th></tr>\n",
       "<tr><td>9cb79aa7323e81be1...</td><td>2</td><td>0.0</td><td>11</td></tr>\n",
       "<tr><td>aac68850fdac09fd0...</td><td>1</td><td>0.0</td><td>21</td></tr>\n",
       "<tr><td>c89986155a070db2e...</td><td>1</td><td>0.0</td><td>5</td></tr>\n",
       "<tr><td>6e8d94bf446e97025...</td><td>0</td><td>0.0</td><td>36</td></tr>\n",
       "<tr><td>42f73fd8a01f1c475...</td><td>0</td><td>0.0</td><td>46</td></tr>\n",
       "<tr><td>1eef79a0e79b72c7a...</td><td>1</td><td>0.0</td><td>21</td></tr>\n",
       "<tr><td>1dd1d1b51473d4993...</td><td>0</td><td>0.0</td><td>44</td></tr>\n",
       "<tr><td>ec1953dba2cfb89ad...</td><td>2</td><td>0.0</td><td>13</td></tr>\n",
       "<tr><td>8241a6bb3a9350fb8...</td><td>0</td><td>0.0</td><td>57</td></tr>\n",
       "<tr><td>cdc94fa1c29a6a70a...</td><td>0</td><td>0.0</td><td>44</td></tr>\n",
       "<tr><td>3712c9da85e54b7b1...</td><td>1</td><td>0.0</td><td>19</td></tr>\n",
       "<tr><td>6ebc82410b3dc9dcb...</td><td>0</td><td>0.0</td><td>43</td></tr>\n",
       "<tr><td>d25f6d6da5a92a401...</td><td>0</td><td>0.0</td><td>45</td></tr>\n",
       "<tr><td>657a760b1d52967fb...</td><td>0</td><td>0.0</td><td>36</td></tr>\n",
       "<tr><td>030e5c9c411c936c5...</td><td>2</td><td>0.0</td><td>6</td></tr>\n",
       "<tr><td>7fd6a504a6486e061...</td><td>0</td><td>0.0</td><td>45</td></tr>\n",
       "<tr><td>a67f439593858be7c...</td><td>0</td><td>0.0</td><td>28</td></tr>\n",
       "<tr><td>252736f8401b6b046...</td><td>2</td><td>0.0</td><td>5</td></tr>\n",
       "<tr><td>bf7c24ada32d968a6...</td><td>0</td><td>0.0</td><td>49</td></tr>\n",
       "<tr><td>a36b7198a8d922b0c...</td><td>0</td><td>0.0</td><td>75</td></tr>\n",
       "</table>\n",
       "only showing top 20 rows\n"
      ],
      "text/plain": [
       "+--------------------+-----------+-----------+----------------------+\n",
       "|           member_id|delinq_2yrs|delinq_amnt|mths_since_last_delinq|\n",
       "+--------------------+-----------+-----------+----------------------+\n",
       "|9cb79aa7323e81be1...|          2|        0.0|                    11|\n",
       "|aac68850fdac09fd0...|          1|        0.0|                    21|\n",
       "|c89986155a070db2e...|          1|        0.0|                     5|\n",
       "|6e8d94bf446e97025...|          0|        0.0|                    36|\n",
       "|42f73fd8a01f1c475...|          0|        0.0|                    46|\n",
       "|1eef79a0e79b72c7a...|          1|        0.0|                    21|\n",
       "|1dd1d1b51473d4993...|          0|        0.0|                    44|\n",
       "|ec1953dba2cfb89ad...|          2|        0.0|                    13|\n",
       "|8241a6bb3a9350fb8...|          0|        0.0|                    57|\n",
       "|cdc94fa1c29a6a70a...|          0|        0.0|                    44|\n",
       "|3712c9da85e54b7b1...|          1|        0.0|                    19|\n",
       "|6ebc82410b3dc9dcb...|          0|        0.0|                    43|\n",
       "|d25f6d6da5a92a401...|          0|        0.0|                    45|\n",
       "|657a760b1d52967fb...|          0|        0.0|                    36|\n",
       "|030e5c9c411c936c5...|          2|        0.0|                     6|\n",
       "|7fd6a504a6486e061...|          0|        0.0|                    45|\n",
       "|a67f439593858be7c...|          0|        0.0|                    28|\n",
       "|252736f8401b6b046...|          2|        0.0|                     5|\n",
       "|bf7c24ada32d968a6...|          0|        0.0|                    49|\n",
       "|a36b7198a8d922b0c...|          0|        0.0|                    75|\n",
       "+--------------------+-----------+-----------+----------------------+\n",
       "only showing top 20 rows"
      ]
     },
     "execution_count": 9,
     "metadata": {},
     "output_type": "execute_result"
    }
   ],
   "source": [
    "# Keep those with any recent delinquencies\n",
    "loans_def_delinq_df = spark.sql(\"\"\"\n",
    "    SELECT member_id, delinq_2yrs, delinq_amnt, int(mths_since_last_delinq)\n",
    "      FROM loan_defaulters\n",
    "     WHERE delinq_2yrs > 0\n",
    "        OR mths_since_last_delinq > 0\n",
    "\"\"\")\n",
    "loans_def_delinq_df"
   ]
  },
  {
   "cell_type": "code",
   "execution_count": 10,
   "id": "3b3a9ecb",
   "metadata": {},
   "outputs": [
    {
     "name": "stdout",
     "output_type": "stream",
     "text": [
      "Primary defaulters count: 1106163\n"
     ]
    }
   ],
   "source": [
    "print(\"Primary defaulters count:\", loans_def_delinq_df.count())"
   ]
  },
  {
   "cell_type": "markdown",
   "id": "edf83d64",
   "metadata": {},
   "source": [
    "### 10. Filter all records with credit issues"
   ]
  },
  {
   "cell_type": "code",
   "execution_count": 11,
   "id": "62ff3d21",
   "metadata": {},
   "outputs": [
    {
     "name": "stdout",
     "output_type": "stream",
     "text": [
      "+--------------------+-----------+-----------+-------+--------------------+--------------+------------------+----------------------+----------------------+\n",
      "|           member_id|delinq_2yrs|delinq_amnt|pub_rec|pub_rec_bankruptcies|inq_last_6mths|total_rec_late_fee|mths_since_last_delinq|mths_since_last_record|\n",
      "+--------------------+-----------+-----------+-------+--------------------+--------------+------------------+----------------------+----------------------+\n",
      "|0dd2bbc517e3c8f9e...|          0|        0.0|    1.0|                 1.0|           3.0|               0.0|                  null|                 115.0|\n",
      "|458458599d3df3bfc...|          0|        0.0|    1.0|                 1.0|           1.0|               0.0|                  null|                  76.0|\n",
      "|f1efcf7dfbfef21be...|          0|        0.0|    0.0|                 0.0|           1.0|               0.0|                  null|                  null|\n",
      "|c89986155a070db2e...|          1|        0.0|    0.0|                 0.0|           1.0|              15.0|                   5.0|                  null|\n",
      "|e88945f86a96f8d71...|          0|        0.0|    0.0|                 0.0|           1.0|               0.0|                  null|                  null|\n",
      "+--------------------+-----------+-----------+-------+--------------------+--------------+------------------+----------------------+----------------------+\n",
      "only showing top 5 rows\n",
      "\n"
     ]
    }
   ],
   "source": [
    "# Broader “enforcement”: bankruptcies, inquiries, or delinquencies\n",
    "loans_def_records_enq_df = spark.sql(\"\"\"\n",
    "    SELECT *\n",
    "      FROM loan_defaulters\n",
    "     WHERE pub_rec                   > 0\n",
    "        OR pub_rec_bankruptcies      > 0\n",
    "        OR inq_last_6mths            > 0\n",
    "\"\"\")\n",
    "loans_def_records_enq_df.show(5)\n"
   ]
  },
  {
   "cell_type": "code",
   "execution_count": 12,
   "id": "e5d3d017",
   "metadata": {},
   "outputs": [
    {
     "name": "stdout",
     "output_type": "stream",
     "text": [
      "Records with any credit issues: 1070125\n"
     ]
    }
   ],
   "source": [
    "print(\"Records with any credit issues:\", loans_def_records_enq_df.count())"
   ]
  },
  {
   "cell_type": "markdown",
   "id": "cbb5fdbe",
   "metadata": {},
   "source": [
    "### 11. Save cleaned DataFrames"
   ]
  },
  {
   "cell_type": "code",
   "execution_count": 13,
   "id": "eb5f65a7",
   "metadata": {},
   "outputs": [],
   "source": [
    "# 11a. Save primary defaulters\n",
    "loans_def_delinq_df.write \\\n",
    "    .format(\"parquet\") \\\n",
    "    .mode(\"overwrite\") \\\n",
    "    .option(\"path\", \"/user/itv017499/lendingclubproject/cleaned/loans_defaulters_parquet\") \\\n",
    "    .save()\n",
    "# 11b. Save broader credit‐issue records\n",
    "loans_def_records_enq_df.write \\\n",
    "    .format(\"parquet\") \\\n",
    "    .mode(\"overwrite\") \\\n",
    "    .option(\"path\", \"/user/itv017499/lendingclubproject/cleaned/loans_defaulters_records_parquet\") \\\n",
    "    .save()"
   ]
  }
 ],
 "metadata": {
  "kernelspec": {
   "display_name": "Pyspark 3",
   "language": "python",
   "name": "pyspark3"
  },
  "language_info": {
   "codemirror_mode": {
    "name": "ipython",
    "version": 3
   },
   "file_extension": ".py",
   "mimetype": "text/x-python",
   "name": "python",
   "nbconvert_exporter": "python",
   "pygments_lexer": "ipython3",
   "version": "3.6.12"
  }
 },
 "nbformat": 4,
 "nbformat_minor": 5
}
