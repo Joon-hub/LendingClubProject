{
 "cells": [
  {
   "cell_type": "markdown",
   "id": "9c7ede96",
   "metadata": {},
   "source": [
    "## Identifying bad data"
   ]
  },
  {
   "cell_type": "code",
   "execution_count": 1,
   "id": "5ad32675",
   "metadata": {},
   "outputs": [],
   "source": [
    "# import sparksession\n",
    "from pyspark.sql import SparkSession\n",
    "import getpass \n",
    "username=getpass.getuser()\n",
    "spark=SparkSession. \\\n",
    "    builder. \\\n",
    "    config('spark.ui.port','0'). \\\n",
    "    config(\"spark.sql.warehouse.dir\", f\"/user/{username}/warehouse\"). \\\n",
    "    config('spark.shuffle.useOldFetchProtocol', 'true'). \\\n",
    "    enableHiveSupport(). \\\n",
    "    master('yarn'). \\\n",
    "    getOrCreate()"
   ]
  },
  {
   "cell_type": "markdown",
   "id": "69e81a6f",
   "metadata": {},
   "source": [
    "### Reviewing customer table for bad data"
   ]
  },
  {
   "cell_type": "code",
   "execution_count": 2,
   "id": "60f2cd6a",
   "metadata": {},
   "outputs": [
    {
     "data": {
      "text/html": [
       "<table border='1'>\n",
       "<tr><th>member_id</th><th>total</th></tr>\n",
       "<tr><td>e4c167053d5418230...</td><td>5</td></tr>\n",
       "<tr><td>ad8e5d384dae17e06...</td><td>4</td></tr>\n",
       "<tr><td>76b577467eda5bdbc...</td><td>4</td></tr>\n",
       "<tr><td>3f87585a20f702838...</td><td>4</td></tr>\n",
       "<tr><td>819453be77718d747...</td><td>3</td></tr>\n",
       "<tr><td>22593a1870543b2db...</td><td>3</td></tr>\n",
       "<tr><td>035bf3d8288d803bd...</td><td>3</td></tr>\n",
       "<tr><td>066ddaa64bee66dff...</td><td>3</td></tr>\n",
       "<tr><td>291ca1b09ef11ca3e...</td><td>3</td></tr>\n",
       "<tr><td>5d52e7773cb0efff3...</td><td>3</td></tr>\n",
       "<tr><td>d3731bad3e6a82515...</td><td>3</td></tr>\n",
       "<tr><td>3ae415acd6bbfaac1...</td><td>3</td></tr>\n",
       "<tr><td>53789bea7edc660ed...</td><td>3</td></tr>\n",
       "<tr><td>e7d8d16928817ec8f...</td><td>3</td></tr>\n",
       "<tr><td>a2356725aa9da92c6...</td><td>3</td></tr>\n",
       "<tr><td>4ab6205de571ccb7b...</td><td>3</td></tr>\n",
       "<tr><td>498bb6b1f0099cb47...</td><td>3</td></tr>\n",
       "<tr><td>c563428cb58da48ff...</td><td>3</td></tr>\n",
       "<tr><td>c92062bb371842b3d...</td><td>3</td></tr>\n",
       "<tr><td>f54295a60946dedad...</td><td>3</td></tr>\n",
       "</table>\n",
       "only showing top 20 rows\n"
      ],
      "text/plain": [
       "+--------------------+-----+\n",
       "|           member_id|total|\n",
       "+--------------------+-----+\n",
       "|e4c167053d5418230...|    5|\n",
       "|ad8e5d384dae17e06...|    4|\n",
       "|76b577467eda5bdbc...|    4|\n",
       "|3f87585a20f702838...|    4|\n",
       "|498bb6b1f0099cb47...|    3|\n",
       "|f54295a60946dedad...|    3|\n",
       "|035bf3d8288d803bd...|    3|\n",
       "|22593a1870543b2db...|    3|\n",
       "|819453be77718d747...|    3|\n",
       "|5d52e7773cb0efff3...|    3|\n",
       "|d3731bad3e6a82515...|    3|\n",
       "|53789bea7edc660ed...|    3|\n",
       "|c92062bb371842b3d...|    3|\n",
       "|3ae415acd6bbfaac1...|    3|\n",
       "|291ca1b09ef11ca3e...|    3|\n",
       "|a2356725aa9da92c6...|    3|\n",
       "|4ab6205de571ccb7b...|    3|\n",
       "|c563428cb58da48ff...|    3|\n",
       "|066ddaa64bee66dff...|    3|\n",
       "|059d401bb603d9a80...|    3|\n",
       "+--------------------+-----+\n",
       "only showing top 20 rows"
      ]
     },
     "execution_count": 2,
     "metadata": {},
     "output_type": "execute_result"
    }
   ],
   "source": [
    "# checking repaeating member_id in customer table\n",
    "spark.sql(\"\"\"\n",
    "    select member_id, \n",
    "           count(*) as total\n",
    "    from itv017499_lending_club.customers\n",
    "    group by member_id \n",
    "    order by total desc\n",
    "\"\"\")"
   ]
  },
  {
   "cell_type": "code",
   "execution_count": 3,
   "id": "d5e0ba02",
   "metadata": {},
   "outputs": [
    {
     "data": {
      "text/html": [
       "<table border='1'>\n",
       "<tr><th>member_id</th><th>emp_title</th><th>emp_length</th><th>home_ownership</th><th>annual_income</th><th>address_state</th><th>address_zipcode</th><th>address_country</th><th>grade</th><th>sub_grade</th><th>verification_status</th><th>total_high_credit_limit</th><th>application_type</th><th>join_annual_income</th><th>verification_status_joint</th><th>ingest_date</th></tr>\n",
       "<tr><td>e4c167053d5418230...</td><td>null</td><td>6</td><td>MORTGAGE</td><td>55000.0</td><td>IL</td><td>604xx</td><td>USA</td><td>B</td><td>B5</td><td>Verified</td><td>138780.0</td><td>Individual</td><td>null</td><td>null</td><td>2023-09-15 17:18:...</td></tr>\n",
       "<tr><td>e4c167053d5418230...</td><td>null</td><td>6</td><td>MORTGAGE</td><td>55000.0</td><td>IL</td><td>604xx</td><td>USA</td><td>B</td><td>B5</td><td>Verified</td><td>171165.0</td><td>Individual</td><td>null</td><td>null</td><td>2023-09-15 17:18:...</td></tr>\n",
       "<tr><td>e4c167053d5418230...</td><td>null</td><td>6</td><td>MORTGAGE</td><td>55000.0</td><td>IL</td><td>604xx</td><td>USA</td><td>B</td><td>B5</td><td>Verified</td><td>110907.0</td><td>Individual</td><td>null</td><td>null</td><td>2023-09-15 17:18:...</td></tr>\n",
       "<tr><td>e4c167053d5418230...</td><td>null</td><td>6</td><td>MORTGAGE</td><td>55000.0</td><td>IL</td><td>604xx</td><td>USA</td><td>B</td><td>B5</td><td>Verified</td><td>129833.0</td><td>Individual</td><td>null</td><td>null</td><td>2023-09-15 17:18:...</td></tr>\n",
       "<tr><td>e4c167053d5418230...</td><td>null</td><td>6</td><td>MORTGAGE</td><td>55000.0</td><td>IL</td><td>604xx</td><td>USA</td><td>B</td><td>B5</td><td>Verified</td><td>207300.0</td><td>Individual</td><td>null</td><td>null</td><td>2023-09-15 17:18:...</td></tr>\n",
       "</table>\n"
      ],
      "text/plain": [
       "+--------------------+---------+----------+--------------+-------------+-------------+---------------+---------------+-----+---------+-------------------+-----------------------+----------------+------------------+-------------------------+--------------------+\n",
       "|           member_id|emp_title|emp_length|home_ownership|annual_income|address_state|address_zipcode|address_country|grade|sub_grade|verification_status|total_high_credit_limit|application_type|join_annual_income|verification_status_joint|         ingest_date|\n",
       "+--------------------+---------+----------+--------------+-------------+-------------+---------------+---------------+-----+---------+-------------------+-----------------------+----------------+------------------+-------------------------+--------------------+\n",
       "|e4c167053d5418230...|     null|         6|      MORTGAGE|      55000.0|           IL|          604xx|            USA|    B|       B5|           Verified|               138780.0|      Individual|              null|                     null|2023-09-15 17:18:...|\n",
       "|e4c167053d5418230...|     null|         6|      MORTGAGE|      55000.0|           IL|          604xx|            USA|    B|       B5|           Verified|               171165.0|      Individual|              null|                     null|2023-09-15 17:18:...|\n",
       "|e4c167053d5418230...|     null|         6|      MORTGAGE|      55000.0|           IL|          604xx|            USA|    B|       B5|           Verified|               110907.0|      Individual|              null|                     null|2023-09-15 17:18:...|\n",
       "|e4c167053d5418230...|     null|         6|      MORTGAGE|      55000.0|           IL|          604xx|            USA|    B|       B5|           Verified|               129833.0|      Individual|              null|                     null|2023-09-15 17:18:...|\n",
       "|e4c167053d5418230...|     null|         6|      MORTGAGE|      55000.0|           IL|          604xx|            USA|    B|       B5|           Verified|               207300.0|      Individual|              null|                     null|2023-09-15 17:18:...|\n",
       "+--------------------+---------+----------+--------------+-------------+-------------+---------------+---------------+-----+---------+-------------------+-----------------------+----------------+------------------+-------------------------+--------------------+"
      ]
     },
     "execution_count": 3,
     "metadata": {},
     "output_type": "execute_result"
    }
   ],
   "source": [
    "# viewing of a repeating member_id\n",
    "spark.sql(\"\"\"\n",
    "    select *\n",
    "    from itv017499_lending_club.customers\n",
    "    where member_id like 'e4c167053d5418230%'\n",
    "\"\"\")"
   ]
  },
  {
   "cell_type": "markdown",
   "id": "d94b6be8",
   "metadata": {},
   "source": [
    "**Note:** The `member_id` `e4c167053d5418230` is associated with multiple values for `total_high_credit_limit`, which is inconsistent with the expected data structure. Ideally, each member should have only one `total_high_credit_limit`. This discrepancy indicates that the data is flawed or incorrect."
   ]
  },
  {
   "cell_type": "markdown",
   "id": "a120637e",
   "metadata": {},
   "source": [
    "### Reviewing Loans defaulter delinquent table for bad data"
   ]
  },
  {
   "cell_type": "code",
   "execution_count": 4,
   "id": "a3265d22",
   "metadata": {},
   "outputs": [
    {
     "data": {
      "text/html": [
       "<table border='1'>\n",
       "<tr><th>member_id</th><th>total</th></tr>\n",
       "<tr><td>e4c167053d5418230...</td><td>3</td></tr>\n",
       "<tr><td>55d55d97420671a1c...</td><td>2</td></tr>\n",
       "<tr><td>77db5fdf951dd04b2...</td><td>2</td></tr>\n",
       "<tr><td>f1ebb6edb9b07de5f...</td><td>2</td></tr>\n",
       "<tr><td>6c2b63ff231e520d4...</td><td>2</td></tr>\n",
       "<tr><td>62394e3f9d063413b...</td><td>2</td></tr>\n",
       "<tr><td>c16e1f92ae5ccc785...</td><td>2</td></tr>\n",
       "<tr><td>17d76ba5141e1c33a...</td><td>2</td></tr>\n",
       "<tr><td>cbede54df344cdb94...</td><td>2</td></tr>\n",
       "<tr><td>b5ded5638e54e1692...</td><td>2</td></tr>\n",
       "<tr><td>58dde656f747cee8b...</td><td>2</td></tr>\n",
       "<tr><td>0b44a10bc749eabb2...</td><td>2</td></tr>\n",
       "<tr><td>4f7579700cd9d49d7...</td><td>2</td></tr>\n",
       "<tr><td>db887c1d4cb004ca8...</td><td>2</td></tr>\n",
       "<tr><td>343344c3c65b023af...</td><td>2</td></tr>\n",
       "<tr><td>dbe5ec23d01598dbf...</td><td>2</td></tr>\n",
       "<tr><td>6918b9861ba5a4c67...</td><td>2</td></tr>\n",
       "<tr><td>bbe43331566910d55...</td><td>2</td></tr>\n",
       "<tr><td>8d2c605c7ad9209cc...</td><td>2</td></tr>\n",
       "<tr><td>a93a44c9d83793451...</td><td>2</td></tr>\n",
       "</table>\n",
       "only showing top 20 rows\n"
      ],
      "text/plain": [
       "+--------------------+-----+\n",
       "|           member_id|total|\n",
       "+--------------------+-----+\n",
       "|e4c167053d5418230...|    3|\n",
       "|b3d4eb0c5a9239348...|    2|\n",
       "|62394e3f9d063413b...|    2|\n",
       "|ac9a3da3b89f9228e...|    2|\n",
       "|cbede54df344cdb94...|    2|\n",
       "|0b44a10bc749eabb2...|    2|\n",
       "|343344c3c65b023af...|    2|\n",
       "|17d76ba5141e1c33a...|    2|\n",
       "|6918b9861ba5a4c67...|    2|\n",
       "|8d2c605c7ad9209cc...|    2|\n",
       "|b5ded5638e54e1692...|    2|\n",
       "|4f7579700cd9d49d7...|    2|\n",
       "|77db5fdf951dd04b2...|    2|\n",
       "|c16e1f92ae5ccc785...|    2|\n",
       "|db887c1d4cb004ca8...|    2|\n",
       "|dbe5ec23d01598dbf...|    2|\n",
       "|bbe43331566910d55...|    2|\n",
       "|6c2b63ff231e520d4...|    2|\n",
       "|694c6cb86608015e9...|    2|\n",
       "|58dde656f747cee8b...|    2|\n",
       "+--------------------+-----+\n",
       "only showing top 20 rows"
      ]
     },
     "execution_count": 4,
     "metadata": {},
     "output_type": "execute_result"
    }
   ],
   "source": [
    "# checking repaeating member_id in loans_defaulters_delinq table\n",
    "spark.sql(\"\"\"\n",
    "    select member_id, \n",
    "           count(*) as total\n",
    "    from itv017499_lending_club.loans_defaulters_delinq\n",
    "    group by member_id \n",
    "    order by total desc\n",
    "\"\"\")"
   ]
  },
  {
   "cell_type": "code",
   "execution_count": 5,
   "id": "950a7a3d",
   "metadata": {},
   "outputs": [
    {
     "data": {
      "text/html": [
       "<table border='1'>\n",
       "<tr><th>member_id</th><th>delinq_2yrs</th><th>delinq_amnt</th><th>mths_since_last_delinq</th></tr>\n",
       "<tr><td>e4c167053d5418230...</td><td>3</td><td>0.0</td><td>0</td></tr>\n",
       "<tr><td>e4c167053d5418230...</td><td>1</td><td>0.0</td><td>0</td></tr>\n",
       "<tr><td>e4c167053d5418230...</td><td>1</td><td>0.0</td><td>45</td></tr>\n",
       "</table>\n"
      ],
      "text/plain": [
       "+--------------------+-----------+-----------+----------------------+\n",
       "|           member_id|delinq_2yrs|delinq_amnt|mths_since_last_delinq|\n",
       "+--------------------+-----------+-----------+----------------------+\n",
       "|e4c167053d5418230...|          3|        0.0|                     0|\n",
       "|e4c167053d5418230...|          1|        0.0|                     0|\n",
       "|e4c167053d5418230...|          1|        0.0|                    45|\n",
       "+--------------------+-----------+-----------+----------------------+"
      ]
     },
     "execution_count": 5,
     "metadata": {},
     "output_type": "execute_result"
    }
   ],
   "source": [
    "# viewing indvidual case\n",
    "spark.sql(\"\"\"\n",
    "    select *\n",
    "    from itv017499_lending_club.loans_defaulters_delinq\n",
    "    where member_id like 'e4c167053d5418230%'\n",
    "\"\"\")"
   ]
  },
  {
   "cell_type": "markdown",
   "id": "ccdceec9",
   "metadata": {},
   "source": [
    "**Note:** There is ambiguity in the data, as the same member_id is associated with different delinquency values. This inconsistency is observed in the delinq_2yrs column and indicates a flaw in the data. Such discrepancies need to be addressed to ensure data accuracy and reliability."
   ]
  },
  {
   "cell_type": "markdown",
   "id": "307d471d",
   "metadata": {},
   "source": [
    "### Reviewing loans defaulters detail records enquiry table for bad data"
   ]
  },
  {
   "cell_type": "code",
   "execution_count": 6,
   "id": "7661dd2b",
   "metadata": {},
   "outputs": [
    {
     "data": {
      "text/html": [
       "<table border='1'>\n",
       "<tr><th>member_id</th><th>total</th></tr>\n",
       "<tr><td>e3b0c44298fc1c149...</td><td>33</td></tr>\n",
       "<tr><td>e4c167053d5418230...</td><td>5</td></tr>\n",
       "<tr><td>3f87585a20f702838...</td><td>4</td></tr>\n",
       "<tr><td>ad8e5d384dae17e06...</td><td>4</td></tr>\n",
       "<tr><td>76b577467eda5bdbc...</td><td>4</td></tr>\n",
       "<tr><td>3ae415acd6bbfaac1...</td><td>3</td></tr>\n",
       "<tr><td>53789bea7edc660ed...</td><td>3</td></tr>\n",
       "<tr><td>035bf3d8288d803bd...</td><td>3</td></tr>\n",
       "<tr><td>059d401bb603d9a80...</td><td>3</td></tr>\n",
       "<tr><td>498bb6b1f0099cb47...</td><td>3</td></tr>\n",
       "<tr><td>c563428cb58da48ff...</td><td>3</td></tr>\n",
       "<tr><td>5d52e7773cb0efff3...</td><td>3</td></tr>\n",
       "<tr><td>f54295a60946dedad...</td><td>3</td></tr>\n",
       "<tr><td>e7d8d16928817ec8f...</td><td>3</td></tr>\n",
       "<tr><td>819453be77718d747...</td><td>3</td></tr>\n",
       "<tr><td>a2356725aa9da92c6...</td><td>3</td></tr>\n",
       "<tr><td>d3731bad3e6a82515...</td><td>3</td></tr>\n",
       "<tr><td>4ab6205de571ccb7b...</td><td>3</td></tr>\n",
       "<tr><td>22593a1870543b2db...</td><td>3</td></tr>\n",
       "<tr><td>066ddaa64bee66dff...</td><td>3</td></tr>\n",
       "</table>\n",
       "only showing top 20 rows\n"
      ],
      "text/plain": [
       "+--------------------+-----+\n",
       "|           member_id|total|\n",
       "+--------------------+-----+\n",
       "|e3b0c44298fc1c149...|   33|\n",
       "|e4c167053d5418230...|    5|\n",
       "|3f87585a20f702838...|    4|\n",
       "|ad8e5d384dae17e06...|    4|\n",
       "|76b577467eda5bdbc...|    4|\n",
       "|3ae415acd6bbfaac1...|    3|\n",
       "|22593a1870543b2db...|    3|\n",
       "|035bf3d8288d803bd...|    3|\n",
       "|53789bea7edc660ed...|    3|\n",
       "|291ca1b09ef11ca3e...|    3|\n",
       "|c563428cb58da48ff...|    3|\n",
       "|4ab6205de571ccb7b...|    3|\n",
       "|c92062bb371842b3d...|    3|\n",
       "|e7d8d16928817ec8f...|    3|\n",
       "|a2356725aa9da92c6...|    3|\n",
       "|498bb6b1f0099cb47...|    3|\n",
       "|d3731bad3e6a82515...|    3|\n",
       "|5d52e7773cb0efff3...|    3|\n",
       "|059d401bb603d9a80...|    3|\n",
       "|066ddaa64bee66dff...|    3|\n",
       "+--------------------+-----+\n",
       "only showing top 20 rows"
      ]
     },
     "execution_count": 6,
     "metadata": {},
     "output_type": "execute_result"
    }
   ],
   "source": [
    "# checking repaeating member_id in loans_defaulters_detail_rec_enq table\n",
    "\n",
    "spark.sql(\"\"\"\n",
    "    select member_id, \n",
    "           count(*) as total\n",
    "    from itv017499_lending_club.loans_defaulters_detail_rec_enq\n",
    "    group by member_id \n",
    "    order by total desc\n",
    "\"\"\")"
   ]
  },
  {
   "cell_type": "code",
   "execution_count": 7,
   "id": "ba17c1c6",
   "metadata": {},
   "outputs": [
    {
     "data": {
      "text/html": [
       "<table border='1'>\n",
       "<tr><th>member_id</th><th>pub_rec</th><th>pub_rec_bankruptcies</th><th>inq_last_6mths</th></tr>\n",
       "<tr><td>e4c167053d5418230...</td><td>0</td><td>0</td><td>0</td></tr>\n",
       "<tr><td>e4c167053d5418230...</td><td>0</td><td>0</td><td>3</td></tr>\n",
       "<tr><td>e4c167053d5418230...</td><td>0</td><td>0</td><td>2</td></tr>\n",
       "<tr><td>e4c167053d5418230...</td><td>0</td><td>0</td><td>1</td></tr>\n",
       "<tr><td>e4c167053d5418230...</td><td>0</td><td>0</td><td>0</td></tr>\n",
       "</table>\n"
      ],
      "text/plain": [
       "+--------------------+-------+--------------------+--------------+\n",
       "|           member_id|pub_rec|pub_rec_bankruptcies|inq_last_6mths|\n",
       "+--------------------+-------+--------------------+--------------+\n",
       "|e4c167053d5418230...|      0|                   0|             0|\n",
       "|e4c167053d5418230...|      0|                   0|             3|\n",
       "|e4c167053d5418230...|      0|                   0|             2|\n",
       "|e4c167053d5418230...|      0|                   0|             1|\n",
       "|e4c167053d5418230...|      0|                   0|             0|\n",
       "+--------------------+-------+--------------------+--------------+"
      ]
     },
     "execution_count": 7,
     "metadata": {},
     "output_type": "execute_result"
    }
   ],
   "source": [
    "# viewing indvidual case\n",
    "spark.sql(\"\"\"\n",
    "    select *\n",
    "    from itv017499_lending_club.loans_defaulters_detail_rec_enq\n",
    "    where member_id like 'e4c167053d5418230%'\n",
    "\"\"\")"
   ]
  },
  {
   "cell_type": "markdown",
   "id": "4c4339c7",
   "metadata": {},
   "source": [
    "**Note:** The data shows inconsistencies in the `inq_last_6mths` column for the same `member_id` (`e4c167053d5418230`). Different records indicate varying values. These discrepancies suggest flaws in the data, as the inquiry number in the last six months should ideally be consistent for a single customer or member.  "
   ]
  },
  {
   "cell_type": "markdown",
   "id": "89f7b93b",
   "metadata": {},
   "source": [
    "### No of repeating member_ids in 3 dataset\n",
    "- customer dataset\n",
    "- loans_defaulters_delinq dataset\n",
    "- loans_defaulters_detail_rec_enq"
   ]
  },
  {
   "cell_type": "markdown",
   "id": "a08a1c96",
   "metadata": {},
   "source": [
    "#### No of repeating member_ids in customer dataset"
   ]
  },
  {
   "cell_type": "code",
   "execution_count": 8,
   "id": "fded45db",
   "metadata": {},
   "outputs": [],
   "source": [
    "# finding member_id repeating more than one time in customer table\n",
    "bad_data_customer_df = spark.sql(\"\"\"\n",
    "    select member_id\n",
    "    from (\n",
    "        select member_id, \n",
    "               count(*) as total\n",
    "        from itv017499_lending_club.customers\n",
    "        group by member_id\n",
    "        having total > 1\n",
    "    )\n",
    "\"\"\")"
   ]
  },
  {
   "cell_type": "code",
   "execution_count": 9,
   "id": "30910bf0",
   "metadata": {},
   "outputs": [
    {
     "data": {
      "text/plain": [
       "3157"
      ]
     },
     "execution_count": 9,
     "metadata": {},
     "output_type": "execute_result"
    }
   ],
   "source": [
    "# total distinct no of member id repeating for more than one time\n",
    "bad_data_customer_df.count()"
   ]
  },
  {
   "cell_type": "markdown",
   "id": "80856232",
   "metadata": {},
   "source": [
    "#### No of repeating member_ids in 3 loans_defaulters_delinq dataset"
   ]
  },
  {
   "cell_type": "code",
   "execution_count": 10,
   "id": "fd3a9737",
   "metadata": {},
   "outputs": [],
   "source": [
    "# finding member_id repeating more than one time in loans_defaulters_delinq table\n",
    "bad_data_loans_defaulters_delinq_df = spark.sql(\"\"\"\n",
    "    select member_id\n",
    "    from (\n",
    "        select member_id, \n",
    "               count(*) as total\n",
    "        from itv017499_lending_club.loans_defaulters_delinq\n",
    "        group by member_id\n",
    "        having total > 1\n",
    "    )\n",
    "\"\"\")"
   ]
  },
  {
   "cell_type": "code",
   "execution_count": 11,
   "id": "05be432b",
   "metadata": {},
   "outputs": [
    {
     "data": {
      "text/plain": [
       "173"
      ]
     },
     "execution_count": 11,
     "metadata": {},
     "output_type": "execute_result"
    }
   ],
   "source": [
    "# total distinct no of member id repeating for more than one time\n",
    "bad_data_loans_defaulters_delinq_df.count()"
   ]
  },
  {
   "cell_type": "markdown",
   "id": "b6ee982c",
   "metadata": {},
   "source": [
    "#### No of repeating member_ids in 3 loans_defaulters_detail_rec_enq dataset"
   ]
  },
  {
   "cell_type": "code",
   "execution_count": 12,
   "id": "49149d07",
   "metadata": {},
   "outputs": [],
   "source": [
    "# finding member_id repeating more than one time in loans_defaulters_detail_rec_enq table\n",
    "\n",
    "bad_data_loans_defaulters_detail_rec_enq_df = spark.sql(\"\"\"\n",
    "    select member_id\n",
    "    from (\n",
    "        select member_id, \n",
    "               count(*) as total\n",
    "        from itv017499_lending_club.loans_defaulters_detail_rec_enq\n",
    "        group by member_id\n",
    "        having total > 1\n",
    "    )\n",
    "\"\"\")"
   ]
  },
  {
   "cell_type": "code",
   "execution_count": 13,
   "id": "df453404",
   "metadata": {},
   "outputs": [
    {
     "data": {
      "text/plain": [
       "3189"
      ]
     },
     "execution_count": 13,
     "metadata": {},
     "output_type": "execute_result"
    }
   ],
   "source": [
    "# total distinct no of member id repeating for more than one time\n",
    "bad_data_loans_defaulters_detail_rec_enq_df.count()"
   ]
  },
  {
   "cell_type": "markdown",
   "id": "667fd7d3",
   "metadata": {},
   "source": [
    "### Saving the bad data in the database"
   ]
  },
  {
   "cell_type": "code",
   "execution_count": 14,
   "id": "c93e7ae2",
   "metadata": {},
   "outputs": [],
   "source": [
    "# Writing the bad_data_customer_df DataFrame to a single CSV file.\n",
    "bad_data_customer_df.repartition(1).write \\\n",
    "    .format(\"csv\") \\\n",
    "    .option(\"header\", True) \\\n",
    "    .mode(\"overwrite\") \\\n",
    "    .option(\"path\", \"/user/itv017499/lendingclubproject/bad/bad_data_customers\") \\\n",
    "    .save()\n",
    "\n",
    "# Writing the bad_data_loans_defaulters_delinq_df DataFrame to a single CSV file.\n",
    "bad_data_loans_defaulters_delinq_df.repartition(1).write \\\n",
    "    .format(\"csv\") \\\n",
    "    .option(\"header\", True) \\\n",
    "    .mode(\"overwrite\") \\\n",
    "    .option(\"path\", \"/user/itv017499/lendingclubproject/bad/bad_data_loans_defaulters_delinq\") \\\n",
    "    .save()\n",
    "\n",
    "# Writing the bad_data_loans_defaulters_detail_rec_enq_df DataFrame to a single CSV file.\n",
    "bad_data_loans_defaulters_detail_rec_enq_df.repartition(1).write \\\n",
    "    .format(\"csv\") \\\n",
    "    .option(\"header\", True) \\\n",
    "    .mode(\"overwrite\") \\\n",
    "    .option(\"path\", \"/user/itv017499/lendingclubproject/bad/bad_data_loans_defaulters_detail_rec_enq\") \\\n",
    "    .save()\n"
   ]
  },
  {
   "cell_type": "code",
   "execution_count": 15,
   "id": "59ee36bd",
   "metadata": {},
   "outputs": [],
   "source": [
    "# Combining all bad customer data into a single DataFrame.\n",
    "# Selects the 'member_id' column from each DataFrame containing flawed data: \n",
    "# Using the union operation to merge the data into bad_customer_data_df.\n",
    "\n",
    "bad_customer_data_df = bad_data_customer_df.select(\"member_id\") \\\n",
    "    .union(bad_data_loans_defaulters_delinq_df.select(\"member_id\")) \\\n",
    "    .union(bad_data_loans_defaulters_detail_rec_enq_df.select(\"member_id\"))\n"
   ]
  },
  {
   "cell_type": "code",
   "execution_count": 16,
   "id": "bc1c8844",
   "metadata": {},
   "outputs": [
    {
     "data": {
      "text/plain": [
       "3189"
      ]
     },
     "execution_count": 16,
     "metadata": {},
     "output_type": "execute_result"
    }
   ],
   "source": [
    "# Removing duplicate member_id entries from the combined bad customer data.\n",
    "bad_customer_data_final_df = bad_customer_data_df.distinct()\n",
    "\n",
    "# Counting the number of unique member_id entries in the final DataFrame.\n",
    "bad_customer_data_final_df.count()"
   ]
  },
  {
   "cell_type": "code",
   "execution_count": 17,
   "id": "5a4f7ffd",
   "metadata": {},
   "outputs": [],
   "source": [
    "# Writing the bad_customer_data_final_df DataFrame to a single CSV file.\n",
    "# The data is repartitioned to ensure only one CSV file is created.\n",
    "\n",
    "bad_customer_data_final_df.repartition(1).write \\\n",
    "    .format(\"csv\") \\\n",
    "    .option(\"header\", True) \\\n",
    "    .mode(\"overwrite\") \\\n",
    "    .option(\"path\", \"/user/itv017499/lendingclubproject/bad/bad_customer_data_final\") \\\n",
    "    .save()"
   ]
  },
  {
   "cell_type": "code",
   "execution_count": 18,
   "id": "b6b1ec8e",
   "metadata": {},
   "outputs": [],
   "source": [
    "# creating a temp view of bad_customer df\n",
    "bad_customer_data_final_df.createOrReplaceTempView(\"bad_data_customer\")"
   ]
  },
  {
   "cell_type": "markdown",
   "id": "da48ae25",
   "metadata": {},
   "source": [
    "#### Saving customers_df into new cleaned_new directory "
   ]
  },
  {
   "cell_type": "code",
   "execution_count": 19,
   "id": "d0d22302",
   "metadata": {},
   "outputs": [],
   "source": [
    "# Creating a DataFrame to filter out bad customer data.\n",
    "customers_df = spark.sql(\"\"\"\n",
    "    select *\n",
    "    from itv017499_lending_club.customers\n",
    "    where member_id NOT IN (\n",
    "        select member_id\n",
    "        from bad_data_customer\n",
    "    )\n",
    "\"\"\")\n",
    "\n",
    "# writing clean customers_df into database\n",
    "# The data will be saved in the specified path in the \"cleaned_new\" directory.\n",
    "customers_df.write \\\n",
    ".format(\"parquet\") \\\n",
    ".mode(\"overwrite\") \\\n",
    ".option(\"path\", \"/user/itv017499/lendingclubproject/raw/cleaned_new/customers_parquet\") \\\n",
    ".save()"
   ]
  },
  {
   "cell_type": "markdown",
   "id": "1ca71b12",
   "metadata": {},
   "source": [
    "#### Saving loans_defaulters_delinq_parquet into new cleaned_new directory "
   ]
  },
  {
   "cell_type": "code",
   "execution_count": 20,
   "id": "15bce153",
   "metadata": {},
   "outputs": [],
   "source": [
    "# Filtering the loans_defaulters_delinq table to exclude bad customer data.\n",
    "# where the member_id is NOT present in the bad_data_customer table.\n",
    "loans_defaulters_delinq_df = spark.sql(\"\"\"\n",
    "    select *\n",
    "    from itv017499_lending_club.loans_defaulters_delinq\n",
    "    where member_id NOT IN (\n",
    "        select member_id\n",
    "        from bad_data_customer\n",
    "    )\n",
    "\"\"\")\n",
    "\n",
    "# Writing the filtered loans_defaulters_delinq DataFrame to a Parquet file.\n",
    "# The data will be saved in the specified path in the \"cleaned_new\" directory.\n",
    "loans_defaulters_delinq_df.write \\\n",
    "    .format(\"parquet\") \\\n",
    "    .mode(\"overwrite\") \\\n",
    "    .option(\"path\", \"/user/itv017499/lendingclubproject/raw/cleaned_new/loans_defaulters_delinq_parquet\") \\\n",
    "    .save()\n"
   ]
  },
  {
   "cell_type": "markdown",
   "id": "44b6d6e7",
   "metadata": {},
   "source": [
    "#### Saving loans_defaulters_detail_rec_enq_parquet into new cleaned_new directory "
   ]
  },
  {
   "cell_type": "code",
   "execution_count": 21,
   "id": "0fecc442",
   "metadata": {},
   "outputs": [],
   "source": [
    "# Filtering the loans_defaulters_detail_rec_enq table to exclude bad customer data.\n",
    "# The query selects all rows from the loans_defaulters_detail_rec_enq table \n",
    "# where the member_id is NOT present in the bad_data_customer table.\n",
    "loans_defaulters_detail_rec_enq_df = spark.sql(\"\"\"\n",
    "    select *\n",
    "    from itv017499_lending_club.loans_defaulters_detail_rec_enq\n",
    "    where member_id NOT IN (\n",
    "        select member_id\n",
    "        from bad_data_customer\n",
    "    )\n",
    "\"\"\")\n",
    "\n",
    "# Writing the filtered loans_defaulters_detail_rec_enq DataFrame to a Parquet file.\n",
    "# The data will be saved in the specified path in the \"cleaned_new\" directory.\n",
    "# If a file already exists at the location, it will be overwritten.\n",
    "loans_defaulters_detail_rec_enq_df.write \\\n",
    "    .format(\"parquet\") \\\n",
    "    .mode(\"overwrite\") \\\n",
    "    .option(\"path\", \"/user/itv017499/lendingclubproject/raw/cleaned_new/loans_defaulters_detail_rec_enq_parquet\") \\\n",
    "    .save()\n"
   ]
  },
  {
   "cell_type": "markdown",
   "id": "72bb15b7",
   "metadata": {},
   "source": [
    "### Creating External tables in hive Database"
   ]
  },
  {
   "cell_type": "code",
   "execution_count": 22,
   "id": "d899140e",
   "metadata": {},
   "outputs": [
    {
     "data": {
      "text/html": [
       "<table border='1'>\n",
       "<tr><th></th></tr>\n",
       "</table>\n"
      ],
      "text/plain": [
       "++\n",
       "||\n",
       "++\n",
       "++"
      ]
     },
     "execution_count": 22,
     "metadata": {},
     "output_type": "execute_result"
    }
   ],
   "source": [
    "# Creating an external table named 'customers_new' in the Hive database.\n",
    "# The table includes various fields like member_id, emp_title, emp_length, etc., \n",
    "# to store customer-related information.\n",
    "# Data will be stored as Parquet format and will reside at the specified location.\n",
    "\n",
    "spark.sql(\"\"\"\n",
    "    create EXTERNAL TABLE itv017499_lending_club.customers_new (\n",
    "        member_id string, \n",
    "        emp_title string, \n",
    "        emp_length int, \n",
    "        home_ownership string, \n",
    "        annual_income float, \n",
    "        address_state string, \n",
    "        address_zipcode string, \n",
    "        address_country string, \n",
    "        grade string, \n",
    "        sub_grade string, \n",
    "        verification_status string, \n",
    "        total_high_credit_limit float, \n",
    "        application_type string, \n",
    "        join_annual_income float, \n",
    "        verification_status_joint string, \n",
    "        ingest_date timestamp\n",
    "    )\n",
    "    stored as parquet\n",
    "    LOCATION '/public/trendytech/lendingclubproject/cleaned_new/customer_parquet'\n",
    "\"\"\")\n"
   ]
  },
  {
   "cell_type": "code",
   "execution_count": 23,
   "id": "ba06478f",
   "metadata": {},
   "outputs": [
    {
     "data": {
      "text/html": [
       "<table border='1'>\n",
       "<tr><th></th></tr>\n",
       "</table>\n"
      ],
      "text/plain": [
       "++\n",
       "||\n",
       "++\n",
       "++"
      ]
     },
     "execution_count": 23,
     "metadata": {},
     "output_type": "execute_result"
    }
   ],
   "source": [
    "# Creating an external table named 'loans_defaulters_delinq_new' in the Hive database.\n",
    "# The table includes fields such as member_id, delinq_2yrs, delinq_amnt, and mths_since_last_delinq \n",
    "# to store information about loan defaulters and their delinquencies.\n",
    "# Data will be stored as Parquet format and will reside at the specified location.\n",
    "\n",
    "spark.sql(\"\"\"\n",
    "    create EXTERNAL TABLE itv017499_lending_club.loans_defaulters_delinq_new (\n",
    "        member_id string,\n",
    "        delinq_2yrs integer,\n",
    "        delinq_amnt float,\n",
    "        mths_since_last_delinq integer\n",
    "    )\n",
    "    stored as parquet\n",
    "    LOCATION '/public/trendytech/lendingclubproject/cleaned_new/loan_defaulters_delinq_parquet'\n",
    "\"\"\")\n"
   ]
  },
  {
   "cell_type": "code",
   "execution_count": 24,
   "id": "640c80ef",
   "metadata": {},
   "outputs": [
    {
     "data": {
      "text/html": [
       "<table border='1'>\n",
       "<tr><th></th></tr>\n",
       "</table>\n"
      ],
      "text/plain": [
       "++\n",
       "||\n",
       "++\n",
       "++"
      ]
     },
     "execution_count": 24,
     "metadata": {},
     "output_type": "execute_result"
    }
   ],
   "source": [
    "# Creating an external table named 'loans_defaulters_detail_rec_enq_new' in the Hive database.\n",
    "# The table includes fields such as member_id, pub_rec, pub_rec_bankruptcies, and inq_last_6mths \n",
    "# to store detailed information about loan defaulters and their recent inquiries or public records.\n",
    "# Data will be stored in Parquet format and will reside at the specified location.\n",
    "\n",
    "spark.sql(\"\"\"\n",
    "    create EXTERNAL TABLE itv017499_lending_club.loans_defaulters_detail_rec_enq_new (\n",
    "        member_id string,\n",
    "        pub_rec integer,\n",
    "        pub_rec_bankruptcies integer,\n",
    "        inq_last_6mths integer\n",
    "    )\n",
    "    stored as parquet\n",
    "    LOCATION '/public/trendytech/lendingclubproject/cleaned_new/loan_defaulters_detail_rec_enq_parquet'\n",
    "\"\"\")\n"
   ]
  },
  {
   "cell_type": "code",
   "execution_count": 25,
   "id": "05f39dcd",
   "metadata": {},
   "outputs": [
    {
     "data": {
      "text/html": [
       "<table border='1'>\n",
       "<tr><th>member_id</th><th>total</th></tr>\n",
       "<tr><td>efce056fa93066e41...</td><td>1</td></tr>\n",
       "<tr><td>192f2ed98cc7a791c...</td><td>1</td></tr>\n",
       "<tr><td>9cd6ca691cc9ddce5...</td><td>1</td></tr>\n",
       "<tr><td>e067955358950b610...</td><td>1</td></tr>\n",
       "<tr><td>5be667efdb763893c...</td><td>1</td></tr>\n",
       "<tr><td>a52cad3dde7f8d22d...</td><td>1</td></tr>\n",
       "<tr><td>719e7d4675e8f4dc7...</td><td>1</td></tr>\n",
       "<tr><td>fbfef687f8420a6eb...</td><td>1</td></tr>\n",
       "<tr><td>4640aa3a3dbf45056...</td><td>1</td></tr>\n",
       "<tr><td>9d1d8e7b72fa2f4ba...</td><td>1</td></tr>\n",
       "<tr><td>ec77d3af0525252d5...</td><td>1</td></tr>\n",
       "<tr><td>fe18e4c0c11af84b8...</td><td>1</td></tr>\n",
       "<tr><td>91f842d6207aeba00...</td><td>1</td></tr>\n",
       "<tr><td>56f9919c764eece99...</td><td>1</td></tr>\n",
       "<tr><td>e4829479649809956...</td><td>1</td></tr>\n",
       "<tr><td>9ffb2750cc346fd43...</td><td>1</td></tr>\n",
       "<tr><td>0c58d3fc8a17c368a...</td><td>1</td></tr>\n",
       "<tr><td>b22665243a98a81e9...</td><td>1</td></tr>\n",
       "<tr><td>9ff62e74ab7b9580b...</td><td>1</td></tr>\n",
       "<tr><td>1fbc6fcd258048a83...</td><td>1</td></tr>\n",
       "</table>\n",
       "only showing top 20 rows\n"
      ],
      "text/plain": [
       "+--------------------+-----+\n",
       "|           member_id|total|\n",
       "+--------------------+-----+\n",
       "|9e988a1c74f9d2de9...|    1|\n",
       "|c34111ae19c10a2a0...|    1|\n",
       "|12e77bfec08d554b6...|    1|\n",
       "|ddfbcf0e08b283121...|    1|\n",
       "|a70b7b6c78f2cee52...|    1|\n",
       "|cc50a393053a0d03a...|    1|\n",
       "|d2fa67a286c699903...|    1|\n",
       "|3b12f708d2089552a...|    1|\n",
       "|cdc6ee8460c3ecf27...|    1|\n",
       "|bfc40a66150cfb4d6...|    1|\n",
       "|39bfa47a2563f429d...|    1|\n",
       "|f35aa24bf0006cb69...|    1|\n",
       "|e2c12960066453f63...|    1|\n",
       "|f01b9f8ee7ac64647...|    1|\n",
       "|8f3d55c937befc5ff...|    1|\n",
       "|6bfd4e17d136fde68...|    1|\n",
       "|8983affa6c163ba43...|    1|\n",
       "|8fc87473c96f81a67...|    1|\n",
       "|477d11cb6c2667b16...|    1|\n",
       "|f3c866e195b6bf21a...|    1|\n",
       "+--------------------+-----+\n",
       "only showing top 20 rows"
      ]
     },
     "execution_count": 25,
     "metadata": {},
     "output_type": "execute_result"
    }
   ],
   "source": [
    "# Query to count the occurrences of each member_id in the customers_new table.\n",
    "# Groups the data by member_id and calculates the total count for each.\n",
    "# The results are ordered in descending order of the total count.\n",
    "\n",
    "spark.sql(\"\"\"\n",
    "    select member_id, \n",
    "           count(*) as total \n",
    "    from itv017499_lending_club.customers_new\n",
    "    group by member_id\n",
    "    order by total desc\n",
    "\"\"\")\n"
   ]
  }
 ],
 "metadata": {
  "kernelspec": {
   "display_name": "Pyspark 3",
   "language": "python",
   "name": "pyspark3"
  },
  "language_info": {
   "codemirror_mode": {
    "name": "ipython",
    "version": 3
   },
   "file_extension": ".py",
   "mimetype": "text/x-python",
   "name": "python",
   "nbconvert_exporter": "python",
   "pygments_lexer": "ipython3",
   "version": "3.6.12"
  }
 },
 "nbformat": 4,
 "nbformat_minor": 5
}
