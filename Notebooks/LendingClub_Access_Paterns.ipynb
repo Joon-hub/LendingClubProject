{
 "cells": [
  {
   "cell_type": "markdown",
   "id": "53af3094",
   "metadata": {},
   "source": [
    "### Access Patterns (Old data) and Slow Access(New Data)"
   ]
  },
  {
   "cell_type": "code",
   "execution_count": 1,
   "id": "abb98e61",
   "metadata": {},
   "outputs": [],
   "source": [
    "from pyspark.sql import SparkSession\n",
    "import getpass \n",
    "username=getpass.getuser()\n",
    "spark=SparkSession. \\\n",
    "    builder. \\\n",
    "    config('spark.ui.port','0'). \\\n",
    "    config(\"spark.sql.warehouse.dir\", f\"/user/{username}/warehouse\"). \\\n",
    "    config('spark.shuffle.useOldFetchProtocol', 'true'). \\\n",
    "    enableHiveSupport(). \\\n",
    "    master('yarn'). \\\n",
    "    getOrCreate()"
   ]
  },
  {
   "cell_type": "markdown",
   "id": "8cf7c534",
   "metadata": {},
   "source": [
    "### Single view of 5 tables\n",
    "- most recent data (it will be slow for query)\n",
    "- view updated every 24 hours \n",
    "- source of data is the cleaned data \n",
    "- the data will be stored on hive "
   ]
  },
  {
   "cell_type": "code",
   "execution_count": 10,
   "id": "dea39486",
   "metadata": {},
   "outputs": [
    {
     "data": {
      "text/html": [
       "<table border='1'>\n",
       "<tr><th></th></tr>\n",
       "</table>\n"
      ],
      "text/plain": [
       "++\n",
       "||\n",
       "++\n",
       "++"
      ]
     },
     "execution_count": 10,
     "metadata": {},
     "output_type": "execute_result"
    }
   ],
   "source": [
    "# recent data \n",
    "\n",
    "spark.sql(\"\"\"\n",
    "create or replace view itv017499_lending_club.customers_loan_view as select\n",
    "l.loan_id,\n",
    "c.member_id,\n",
    "c.emp_title,\n",
    "c.emp_length,\n",
    "c.home_ownership,\n",
    "c.annual_income,\n",
    "c.address_state,\n",
    "c.address_zipcode,\n",
    "c.address_country,\n",
    "c.grade,\n",
    "c.sub_grade,\n",
    "c.verification_status,\n",
    "c.total_high_credit_limit,\n",
    "c.application_type,\n",
    "c.join_annual_income,\n",
    "c.verification_status_joint,\n",
    "l.loan_amount,\n",
    "l.funded_amount,\n",
    "l.loan_term_years,\n",
    "l.interest_rate,\n",
    "l.monthly_installment,\n",
    "l.issue_date,\n",
    "l.loan_status,\n",
    "l.loan_purpose,\n",
    "r.total_principal_received,\n",
    "r.total_interest_received,\n",
    "r.total_late_fee_received,\n",
    "r.last_payment_date,\n",
    "r.next_payment_date,\n",
    "d.delinq_2yrs,\n",
    "d.delinq_amnt,\n",
    "d.mths_since_last_delinq,\n",
    "e.pub_rec,\n",
    "e.pub_rec_bankruptcies,\n",
    "e.inq_last_6mths\n",
    "\n",
    "FROM itv017499_lending_club.customers c\n",
    "LEFT JOIN itv017499_lending_club.loans l on c.member_id = l.member_id\n",
    "LEFT JOIN itv017499_lending_club.loans_repayments r ON l.loan_id = r.loan_id\n",
    "LEFT JOIN itv017499_lending_club.loans_defaulters_delinq d ON c.member_id = d.member_id\n",
    "LEFT JOIN itv017499_lending_club.loans_defaulters_detail_rec_enq e ON c.member_id = e.member_id\n",
    "\"\"\")"
   ]
  },
  {
   "cell_type": "markdown",
   "id": "4ceb3a08",
   "metadata": {},
   "source": [
    "**Note:** Creating a view would be much faster as there is no actual data processing taking place. However, a query to view the data, like the following \n",
    "\n",
    "<span style=\"color:red;\">spark.sql(\"select * from itv017499_lending_club.customers_loan_view limit 5\")</span>\n",
    "\n",
    "\n",
    "This query will take time to execute as it involves joining multiple tables to generate a view with the desired data."
   ]
  },
  {
   "cell_type": "code",
   "execution_count": 11,
   "id": "0a0be3b2",
   "metadata": {},
   "outputs": [
    {
     "data": {
      "text/html": [
       "<table border='1'>\n",
       "<tr><th>loan_id</th><th>member_id</th><th>emp_title</th><th>emp_length</th><th>home_ownership</th><th>annual_income</th><th>address_state</th><th>address_zipcode</th><th>address_country</th><th>grade</th><th>sub_grade</th><th>verification_status</th><th>total_high_credit_limit</th><th>application_type</th><th>join_annual_income</th><th>verification_status_joint</th><th>loan_amount</th><th>funded_amount</th><th>loan_term_years</th><th>interest_rate</th><th>monthly_installment</th><th>issue_date</th><th>loan_status</th><th>loan_purpose</th><th>total_principal_received</th><th>total_interest_received</th><th>total_late_fee_received</th><th>last_payment_date</th><th>next_payment_date</th><th>delinq_2yrs</th><th>delinq_amnt</th><th>mths_since_last_delinq</th><th>pub_rec</th><th>pub_rec_bankruptcies</th><th>inq_last_6mths</th></tr>\n",
       "<tr><td>140691162</td><td>0001bac8ac76718b9...</td><td>null</td><td>6</td><td>RENT</td><td>9500.0</td><td>NY</td><td>112xx</td><td>USA</td><td>E</td><td>E5</td><td>Not Verified</td><td>14400.0</td><td>Individual</td><td>null</td><td>null</td><td>5500.0</td><td>5500.0</td><td>3</td><td>27.27</td><td>225.34</td><td>Sep-2018</td><td>Current</td><td>credit_card</td><td>637.38</td><td>648.56</td><td>0.0</td><td>Mar-2019</td><td>Apr-2019</td><td>null</td><td>null</td><td>null</td><td>0</td><td>0</td><td>1</td></tr>\n",
       "<tr><td>28543847</td><td>000337b0d91283fd5...</td><td>SBA Procesing Spe...</td><td>7</td><td>RENT</td><td>55000.0</td><td>CA</td><td>900xx</td><td>USA</td><td>D</td><td>D3</td><td>Not Verified</td><td>48871.0</td><td>Individual</td><td>null</td><td>null</td><td>19800.0</td><td>19800.0</td><td>3</td><td>16.99</td><td>705.83</td><td>Oct-2014</td><td>Charged Off</td><td>debt_consolidation</td><td>14496.97</td><td>5266.27</td><td>0.0</td><td>Feb-2017</td><td>null</td><td>null</td><td>null</td><td>null</td><td>0</td><td>0</td><td>0</td></tr>\n",
       "<tr><td>85270527</td><td>00055f1f392f63672...</td><td>Stationary Engineer</td><td>10</td><td>RENT</td><td>58000.0</td><td>TX</td><td>775xx</td><td>USA</td><td>B</td><td>B4</td><td>Verified</td><td>44803.0</td><td>Individual</td><td>null</td><td>null</td><td>5000.0</td><td>5000.0</td><td>3</td><td>10.99</td><td>163.67</td><td>Jul-2016</td><td>Fully Paid</td><td>debt_consolidation</td><td>5000.0</td><td>6.57</td><td>0.0</td><td>Jul-2016</td><td>null</td><td>null</td><td>null</td><td>null</td><td>0</td><td>0</td><td>0</td></tr>\n",
       "<tr><td>140970584</td><td>000fc51dd90fb37c3...</td><td>SENIOR CENTER DIR...</td><td>6</td><td>MORTGAGE</td><td>37200.0</td><td>IL</td><td>604xx</td><td>USA</td><td>B</td><td>B3</td><td>Verified</td><td>86540.0</td><td>Individual</td><td>null</td><td>null</td><td>17600.0</td><td>17600.0</td><td>3</td><td>11.06</td><td>576.71</td><td>Sep-2018</td><td>Current</td><td>debt_consolidation</td><td>2111.04</td><td>782.82</td><td>0.0</td><td>Feb-2019</td><td>Apr-2019</td><td>null</td><td>null</td><td>null</td><td>1</td><td>1</td><td>0</td></tr>\n",
       "<tr><td>113502847</td><td>0010be54b81d0d885...</td><td>Parole Officer</td><td>10</td><td>RENT</td><td>46425.0</td><td>TX</td><td>788xx</td><td>USA</td><td>C</td><td>C2</td><td>Source Verified</td><td>38049.0</td><td>Individual</td><td>null</td><td>null</td><td>6000.0</td><td>6000.0</td><td>3</td><td>13.59</td><td>203.88</td><td>Jul-2017</td><td>Fully Paid</td><td>debt_consolidation</td><td>6000.0</td><td>610.18</td><td>0.0</td><td>May-2018</td><td>null</td><td>null</td><td>null</td><td>null</td><td>0</td><td>0</td><td>1</td></tr>\n",
       "</table>\n"
      ],
      "text/plain": [
       "+---------+--------------------+--------------------+----------+--------------+-------------+-------------+---------------+---------------+-----+---------+-------------------+-----------------------+----------------+------------------+-------------------------+-----------+-------------+---------------+-------------+-------------------+----------+-----------+------------------+------------------------+-----------------------+-----------------------+-----------------+-----------------+-----------+-----------+----------------------+-------+--------------------+--------------+\n",
       "|  loan_id|           member_id|           emp_title|emp_length|home_ownership|annual_income|address_state|address_zipcode|address_country|grade|sub_grade|verification_status|total_high_credit_limit|application_type|join_annual_income|verification_status_joint|loan_amount|funded_amount|loan_term_years|interest_rate|monthly_installment|issue_date|loan_status|      loan_purpose|total_principal_received|total_interest_received|total_late_fee_received|last_payment_date|next_payment_date|delinq_2yrs|delinq_amnt|mths_since_last_delinq|pub_rec|pub_rec_bankruptcies|inq_last_6mths|\n",
       "+---------+--------------------+--------------------+----------+--------------+-------------+-------------+---------------+---------------+-----+---------+-------------------+-----------------------+----------------+------------------+-------------------------+-----------+-------------+---------------+-------------+-------------------+----------+-----------+------------------+------------------------+-----------------------+-----------------------+-----------------+-----------------+-----------+-----------+----------------------+-------+--------------------+--------------+\n",
       "| 71175798|000c8875b71a6b47c...|Director of Gvt O...|         1|      MORTGAGE|     100000.0|           CA|          920xx|            USA|    A|       A4|       Not Verified|               761500.0|      Individual|              null|                     null|     3000.0|       3000.0|              3|         7.39|              93.17|  Feb-2016| Fully Paid|debt_consolidation|                  3000.0|                 114.47|                    0.0|         Aug-2016|             null|          1|        0.0|                     0|      0|                   0|             0|\n",
       "|139313300|000fc98fc1ca5faa3...|               coord|        10|      MORTGAGE|     220000.0|           CA|          952xx|            USA|    A|       A3|       Not Verified|               227457.0|       Joint App|          230000.0|                     null|    20000.0|      20000.0|              3|         7.21|             619.47|  Aug-2018|    Current|       credit_card|                 3558.76|                 769.52|                    0.0|         Mar-2019|         Apr-2019|       null|       null|                  null|      0|                   0|             0|\n",
       "|143195702|0012728d9f616bdf2...|                null|         6|           OWN|      35000.0|           SC|          294xx|            USA|    A|       A5|       Not Verified|                20900.0|      Individual|              null|                     null|     9000.0|       9000.0|              3|         8.46|             283.95|  Dec-2018|    Current|debt_consolidation|                  666.17|                 181.45|                    0.0|         Mar-2019|         Apr-2019|       null|       null|                  null|      0|                   0|             0|\n",
       "|  2284564|00151ece27c7ca280...|Northglenn Police...|         8|          RENT|      54000.0|           CO|          802xx|            USA|    C|       C1|       Not Verified|                40650.0|      Individual|              null|                     null|    12800.0|      12800.0|              3|        14.33|             439.53|  Nov-2012| Fully Paid|debt_consolidation|                 12800.0|                2192.68|                    0.0|         Jun-2014|             null|       null|       null|                  null|      0|                   0|             1|\n",
       "|  3845340|002800d49886390d2...|           RehabCare|         2|          RENT|      60000.0|           TX|          787xx|            USA|    D|       D3|       Not Verified|                37248.0|      Individual|              null|                     null|    15000.0|      15000.0|              3|        18.75|             547.95|  Mar-2013|Charged Off|debt_consolidation|                12856.06|                4702.54|                    0.0|         Dec-2015|             null|       null|       null|                  null|      0|                   0|             0|\n",
       "+---------+--------------------+--------------------+----------+--------------+-------------+-------------+---------------+---------------+-----+---------+-------------------+-----------------------+----------------+------------------+-------------------------+-----------+-------------+---------------+-------------+-------------------+----------+-----------+------------------+------------------------+-----------------------+-----------------------+-----------------+-----------------+-----------+-----------+----------------------+-------+--------------------+--------------+"
      ]
     },
     "execution_count": 11,
     "metadata": {},
     "output_type": "execute_result"
    }
   ],
   "source": [
    "# top 5 rows\n",
    "spark.sql(\"select * from itv017499_lending_club.customers_loan_view limit 5\")"
   ]
  },
  {
   "cell_type": "markdown",
   "id": "275bf583",
   "metadata": {},
   "source": [
    "### Creating permanent table for weekly job \n",
    "- We have a weekly job\n",
    "- The joins of 5 tables is precalculated and stored in a table in the DB \n",
    "- query will be faster \n",
    "- even though the results are faster in this case but the data will be week old\n",
    "- in this case it will be a **managed table**"
   ]
  },
  {
   "cell_type": "code",
   "execution_count": 6,
   "id": "22e5cc52",
   "metadata": {},
   "outputs": [
    {
     "data": {
      "text/html": [
       "<table border='1'>\n",
       "<tr><th></th></tr>\n",
       "</table>\n"
      ],
      "text/plain": [
       "++\n",
       "||\n",
       "++\n",
       "++"
      ]
     },
     "execution_count": 6,
     "metadata": {},
     "output_type": "execute_result"
    }
   ],
   "source": [
    "# weekly job\n",
    "\n",
    "spark.sql(\"\"\"\n",
    "create table itv017499_lending_club.customers_loan_table as select\n",
    "l.loan_id,\n",
    "c.member_id,\n",
    "c.emp_title,\n",
    "c.emp_length,\n",
    "c.home_ownership,\n",
    "c.annual_income,\n",
    "c.address_state,\n",
    "c.address_zipcode,\n",
    "c.address_country,\n",
    "c.grade,\n",
    "c.sub_grade,\n",
    "c.verification_status,\n",
    "c.total_high_credit_limit,\n",
    "c.application_type,\n",
    "c.join_annual_income,\n",
    "c.verification_status_joint,\n",
    "l.loan_amount,\n",
    "l.funded_amount,\n",
    "l.loan_term_years,\n",
    "l.interest_rate,\n",
    "l.monthly_installment,\n",
    "l.issue_date,\n",
    "l.loan_status,\n",
    "l.loan_purpose,\n",
    "r.total_principal_received,\n",
    "r.total_interest_received,\n",
    "r.total_late_fee_received,\n",
    "r.last_payment_date,\n",
    "r.next_payment_date,\n",
    "d.delinq_2yrs,\n",
    "d.delinq_amnt,\n",
    "d.mths_since_last_delinq,\n",
    "e.pub_rec,\n",
    "e.pub_rec_bankruptcies, \n",
    "e.inq_last_6mths\n",
    "\n",
    "FROM itv006277_lending_club.customers c\n",
    "LEFT JOIN itv017499_lending_club.loans l on c.member_id = l.member_id\n",
    "LEFT JOIN itv017499_lending_club.loans_repayments r ON l.loan_id = r.loan_id\n",
    "LEFT JOIN itv017499_lending_club.loans_defaulters_delinq d ON c.member_id = d.member_id\n",
    "LEFT JOIN itv017499_lending_club.loans_defaulters_detail_rec_enq e ON c.member_id = e.member_id\n",
    "\"\"\")"
   ]
  },
  {
   "cell_type": "markdown",
   "id": "bd0ec970",
   "metadata": {},
   "source": [
    "**Note:** In this case, a Managed Table is created. The actual data for this table will be stored in the warehouse directory and the metadata is present in the Hive metastore."
   ]
  },
  {
   "cell_type": "code",
   "execution_count": 7,
   "id": "1cdea663",
   "metadata": {},
   "outputs": [
    {
     "data": {
      "text/html": [
       "<table border='1'>\n",
       "<tr><th>loan_id</th><th>member_id</th><th>emp_title</th><th>emp_length</th><th>home_ownership</th><th>annual_income</th><th>address_state</th><th>address_zipcode</th><th>address_country</th><th>grade</th><th>sub_grade</th><th>verification_status</th><th>total_high_credit_limit</th><th>application_type</th><th>join_annual_income</th><th>verification_status_joint</th><th>loan_amount</th><th>funded_amount</th><th>loan_term_years</th><th>interest_rate</th><th>monthly_installment</th><th>issue_date</th><th>loan_status</th><th>loan_purpose</th><th>total_principal_received</th><th>total_interest_received</th><th>total_late_fee_received</th><th>last_payment_date</th><th>next_payment_date</th><th>delinq_2yrs</th><th>delinq_amnt</th><th>mths_since_last_delinq</th><th>pub_rec</th><th>pub_rec_bankruptcies</th><th>inq_last_6mths</th></tr>\n",
       "<tr><td>88938989</td><td>000170b4ccb292792...</td><td>Account Executive</td><td>10</td><td>MORTGAGE</td><td>120000.0</td><td>NV</td><td>891xx</td><td>USA</td><td>B</td><td>B3</td><td>Not Verified</td><td>397653.0</td><td>Individual</td><td>null</td><td>null</td><td>15000.0</td><td>15000.0</td><td>3</td><td>10.49</td><td>487.47</td><td>Sep-2016</td><td>Fully Paid</td><td>home_improvement</td><td>15000.0</td><td>2268.66</td><td>0.0</td><td>Sep-2018</td><td>null</td><td>1</td><td>0.0</td><td>0</td><td>0</td><td>0</td><td>1</td></tr>\n",
       "<tr><td>77426808</td><td>000db9b641adb3474...</td><td>Payroll supervisor</td><td>10</td><td>MORTGAGE</td><td>65000.0</td><td>NC</td><td>281xx</td><td>USA</td><td>C</td><td>C1</td><td>Not Verified</td><td>236632.0</td><td>Individual</td><td>null</td><td>null</td><td>12000.0</td><td>12000.0</td><td>5</td><td>11.99</td><td>266.88</td><td>May-2016</td><td>Current</td><td>credit_card</td><td>5916.22</td><td>3137.72</td><td>0.0</td><td>Mar-2019</td><td>Apr-2019</td><td>null</td><td>null</td><td>null</td><td>1</td><td>1</td><td>0</td></tr>\n",
       "<tr><td>114171122</td><td>001560f90a5abac6e...</td><td>LPN</td><td>4</td><td>RENT</td><td>40000.0</td><td>PA</td><td>172xx</td><td>USA</td><td>B</td><td>B1</td><td>Not Verified</td><td>72353.0</td><td>Individual</td><td>null</td><td>null</td><td>1500.0</td><td>1500.0</td><td>3</td><td>9.44</td><td>48.01</td><td>Jul-2017</td><td>Current</td><td>credit_card</td><td>780.96</td><td>178.45</td><td>0.0</td><td>Mar-2019</td><td>Apr-2019</td><td>null</td><td>null</td><td>null</td><td>0</td><td>0</td><td>0</td></tr>\n",
       "<tr><td>88705580</td><td>0019e762e317c8c52...</td><td>Regional Producti...</td><td>6</td><td>MORTGAGE</td><td>88500.0</td><td>TX</td><td>750xx</td><td>USA</td><td>C</td><td>C1</td><td>Verified</td><td>584024.0</td><td>Individual</td><td>null</td><td>null</td><td>12100.0</td><td>12100.0</td><td>3</td><td>12.79</td><td>406.48</td><td>Aug-2016</td><td>Fully Paid</td><td>debt_consolidation</td><td>12100.0</td><td>1477.83</td><td>0.0</td><td>Oct-2017</td><td>null</td><td>null</td><td>null</td><td>null</td><td>0</td><td>0</td><td>0</td></tr>\n",
       "<tr><td>1471488</td><td>0019ef80deb07754e...</td><td>sierra telephone</td><td>8</td><td>RENT</td><td>45000.0</td><td>CA</td><td>953xx</td><td>USA</td><td>B</td><td>B3</td><td>Verified</td><td>null</td><td>Individual</td><td>null</td><td>null</td><td>18000.0</td><td>18000.0</td><td>5</td><td>12.12</td><td>401.5</td><td>Aug-2012</td><td>Fully Paid</td><td>debt_consolidation</td><td>18000.0</td><td>5274.58</td><td>0.0</td><td>Nov-2015</td><td>null</td><td>null</td><td>null</td><td>null</td><td>0</td><td>0</td><td>0</td></tr>\n",
       "</table>\n"
      ],
      "text/plain": [
       "+---------+--------------------+--------------------+----------+--------------+-------------+-------------+---------------+---------------+-----+---------+-------------------+-----------------------+----------------+------------------+-------------------------+-----------+-------------+---------------+-------------+-------------------+----------+-----------+------------------+------------------------+-----------------------+-----------------------+-----------------+-----------------+-----------+-----------+----------------------+-------+--------------------+--------------+\n",
       "|  loan_id|           member_id|           emp_title|emp_length|home_ownership|annual_income|address_state|address_zipcode|address_country|grade|sub_grade|verification_status|total_high_credit_limit|application_type|join_annual_income|verification_status_joint|loan_amount|funded_amount|loan_term_years|interest_rate|monthly_installment|issue_date|loan_status|      loan_purpose|total_principal_received|total_interest_received|total_late_fee_received|last_payment_date|next_payment_date|delinq_2yrs|delinq_amnt|mths_since_last_delinq|pub_rec|pub_rec_bankruptcies|inq_last_6mths|\n",
       "+---------+--------------------+--------------------+----------+--------------+-------------+-------------+---------------+---------------+-----+---------+-------------------+-----------------------+----------------+------------------+-------------------------+-----------+-------------+---------------+-------------+-------------------+----------+-----------+------------------+------------------------+-----------------------+-----------------------+-----------------+-----------------+-----------+-----------+----------------------+-------+--------------------+--------------+\n",
       "| 88938989|000170b4ccb292792...|   Account Executive|        10|      MORTGAGE|     120000.0|           NV|          891xx|            USA|    B|       B3|       Not Verified|               397653.0|      Individual|              null|                     null|    15000.0|      15000.0|              3|        10.49|             487.47|  Sep-2016| Fully Paid|  home_improvement|                 15000.0|                2268.66|                    0.0|         Sep-2018|             null|          1|        0.0|                     0|      0|                   0|             1|\n",
       "| 77426808|000db9b641adb3474...|  Payroll supervisor|        10|      MORTGAGE|      65000.0|           NC|          281xx|            USA|    C|       C1|       Not Verified|               236632.0|      Individual|              null|                     null|    12000.0|      12000.0|              5|        11.99|             266.88|  May-2016|    Current|       credit_card|                 5916.22|                3137.72|                    0.0|         Mar-2019|         Apr-2019|       null|       null|                  null|      1|                   1|             0|\n",
       "|114171122|001560f90a5abac6e...|                 LPN|         4|          RENT|      40000.0|           PA|          172xx|            USA|    B|       B1|       Not Verified|                72353.0|      Individual|              null|                     null|     1500.0|       1500.0|              3|         9.44|              48.01|  Jul-2017|    Current|       credit_card|                  780.96|                 178.45|                    0.0|         Mar-2019|         Apr-2019|       null|       null|                  null|      0|                   0|             0|\n",
       "| 88705580|0019e762e317c8c52...|Regional Producti...|         6|      MORTGAGE|      88500.0|           TX|          750xx|            USA|    C|       C1|           Verified|               584024.0|      Individual|              null|                     null|    12100.0|      12100.0|              3|        12.79|             406.48|  Aug-2016| Fully Paid|debt_consolidation|                 12100.0|                1477.83|                    0.0|         Oct-2017|             null|       null|       null|                  null|      0|                   0|             0|\n",
       "|  1471488|0019ef80deb07754e...|    sierra telephone|         8|          RENT|      45000.0|           CA|          953xx|            USA|    B|       B3|           Verified|                   null|      Individual|              null|                     null|    18000.0|      18000.0|              5|        12.12|              401.5|  Aug-2012| Fully Paid|debt_consolidation|                 18000.0|                5274.58|                    0.0|         Nov-2015|             null|       null|       null|                  null|      0|                   0|             0|\n",
       "+---------+--------------------+--------------------+----------+--------------+-------------+-------------+---------------+---------------+-----+---------+-------------------+-----------------------+----------------+------------------+-------------------------+-----------+-------------+---------------+-------------+-------------------+----------+-----------+------------------+------------------------+-----------------------+-----------------------+-----------------+-----------------+-----------+-----------+----------------------+-------+--------------------+--------------+"
      ]
     },
     "execution_count": 7,
     "metadata": {},
     "output_type": "execute_result"
    }
   ],
   "source": [
    "# top 5 rows\n",
    "spark.sql(\"select * from itv017499_lending_club.customers_loan_table limit 5\")"
   ]
  }
 ],
 "metadata": {
  "kernelspec": {
   "display_name": "Pyspark 3",
   "language": "python",
   "name": "pyspark3"
  },
  "language_info": {
   "codemirror_mode": {
    "name": "ipython",
    "version": 3
   },
   "file_extension": ".py",
   "mimetype": "text/x-python",
   "name": "python",
   "nbconvert_exporter": "python",
   "pygments_lexer": "ipython3",
   "version": "3.6.12"
  }
 },
 "nbformat": 4,
 "nbformat_minor": 5
}
